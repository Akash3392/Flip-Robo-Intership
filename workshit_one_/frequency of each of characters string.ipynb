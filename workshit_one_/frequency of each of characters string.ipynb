{
 "cells": [
  {
   "cell_type": "markdown",
   "id": "e12abccb",
   "metadata": {},
   "source": [
    "          Python program tocount the number of times each character apppears \n",
    "          in the string that is frequency of character in the string."
   ]
  },
  {
   "cell_type": "code",
   "execution_count": 1,
   "id": "cadf83f4",
   "metadata": {},
   "outputs": [
    {
     "name": "stdout",
     "output_type": "stream",
     "text": [
      "Enter the stringHJHJDHHhFH\n",
      "{'H': 5, 'J': 2, 'D': 1, 'h': 1, 'F': 1}\n"
     ]
    }
   ],
   "source": [
    "str1=input(\"Enter the string\")\n",
    "d1=dict()\n",
    "for c in str1:\n",
    "    if c in d1:\n",
    "        d1[c]=d1[c]+1\n",
    "    else:\n",
    "        d1[c]=1\n",
    "print (d1)        "
   ]
  },
  {
   "cell_type": "code",
   "execution_count": null,
   "id": "c320eb03",
   "metadata": {},
   "outputs": [],
   "source": []
  }
 ],
 "metadata": {
  "kernelspec": {
   "display_name": "Python 3 (ipykernel)",
   "language": "python",
   "name": "python3"
  },
  "language_info": {
   "codemirror_mode": {
    "name": "ipython",
    "version": 3
   },
   "file_extension": ".py",
   "mimetype": "text/x-python",
   "name": "python",
   "nbconvert_exporter": "python",
   "pygments_lexer": "ipython3",
   "version": "3.9.7"
  }
 },
 "nbformat": 4,
 "nbformat_minor": 5
}
