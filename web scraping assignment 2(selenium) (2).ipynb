{
 "cells": [
  {
   "cell_type": "code",
   "execution_count": null,
   "id": "332a32c9",
   "metadata": {},
   "outputs": [],
   "source": []
  },
  {
   "cell_type": "markdown",
   "id": "d1149653",
   "metadata": {},
   "source": [
    "# Write a python program to scrape data for “Data Analyst” Job position in “Bangalore” location. You\n",
    "have to scrape the job-title, job-location, company_name, experience_required. You have to scrape first 10\n",
    "jobs data."
   ]
  },
  {
   "cell_type": "code",
   "execution_count": 1,
   "id": "be5402b8",
   "metadata": {},
   "outputs": [
    {
     "name": "stdout",
     "output_type": "stream",
     "text": [
      "Requirement already satisfied: selenium in c:\\programdata\\anaconda3\\lib\\site-packages (4.1.0)\n",
      "Requirement already satisfied: trio~=0.17 in c:\\programdata\\anaconda3\\lib\\site-packages (from selenium) (0.19.0)\n",
      "Requirement already satisfied: urllib3[secure]~=1.26 in c:\\programdata\\anaconda3\\lib\\site-packages (from selenium) (1.26.7)\n",
      "Requirement already satisfied: trio-websocket~=0.9 in c:\\programdata\\anaconda3\\lib\\site-packages (from selenium) (0.9.2)\n",
      "Requirement already satisfied: outcome in c:\\programdata\\anaconda3\\lib\\site-packages (from trio~=0.17->selenium) (1.1.0)\n",
      "Requirement already satisfied: attrs>=19.2.0 in c:\\programdata\\anaconda3\\lib\\site-packages (from trio~=0.17->selenium) (21.2.0)\n",
      "Requirement already satisfied: sortedcontainers in c:\\programdata\\anaconda3\\lib\\site-packages (from trio~=0.17->selenium) (2.4.0)\n",
      "Requirement already satisfied: sniffio in c:\\programdata\\anaconda3\\lib\\site-packages (from trio~=0.17->selenium) (1.2.0)\n",
      "Requirement already satisfied: cffi>=1.14 in c:\\programdata\\anaconda3\\lib\\site-packages (from trio~=0.17->selenium) (1.14.6)\n",
      "Requirement already satisfied: idna in c:\\programdata\\anaconda3\\lib\\site-packages (from trio~=0.17->selenium) (3.2)\n",
      "Requirement already satisfied: async-generator>=1.9 in c:\\programdata\\anaconda3\\lib\\site-packages (from trio~=0.17->selenium) (1.10)\n",
      "Requirement already satisfied: pycparser in c:\\programdata\\anaconda3\\lib\\site-packages (from cffi>=1.14->trio~=0.17->selenium) (2.20)\n",
      "Requirement already satisfied: wsproto>=0.14 in c:\\programdata\\anaconda3\\lib\\site-packages (from trio-websocket~=0.9->selenium) (1.0.0)\n",
      "Requirement already satisfied: pyOpenSSL>=0.14 in c:\\programdata\\anaconda3\\lib\\site-packages (from urllib3[secure]~=1.26->selenium) (21.0.0)\n",
      "Requirement already satisfied: cryptography>=1.3.4 in c:\\programdata\\anaconda3\\lib\\site-packages (from urllib3[secure]~=1.26->selenium) (3.4.8)\n",
      "Requirement already satisfied: certifi in c:\\programdata\\anaconda3\\lib\\site-packages (from urllib3[secure]~=1.26->selenium) (2021.10.8)\n",
      "Requirement already satisfied: six>=1.5.2 in c:\\programdata\\anaconda3\\lib\\site-packages (from pyOpenSSL>=0.14->urllib3[secure]~=1.26->selenium) (1.16.0)\n",
      "Requirement already satisfied: h11<1,>=0.9.0 in c:\\programdata\\anaconda3\\lib\\site-packages (from wsproto>=0.14->trio-websocket~=0.9->selenium) (0.13.0)\n"
     ]
    }
   ],
   "source": [
    "# lets first install selenium library\n",
    "!pip install selenium"
   ]
  },
  {
   "cell_type": "code",
   "execution_count": 2,
   "id": "57b60ce1",
   "metadata": {},
   "outputs": [],
   "source": [
    "# Let's import all required libraries\n",
    "import selenium\n",
    "from selenium import webdriver\n",
    "import pandas as pd\n",
    "import warnings\n",
    "warnings.filterwarnings(\"ignore\")"
   ]
  },
  {
   "cell_type": "code",
   "execution_count": 3,
   "id": "6dd66106",
   "metadata": {},
   "outputs": [],
   "source": [
    "driver = webdriver.Chrome(r'C:\\Users\\akash mandal\\Desktop\\chromedriver.exe')"
   ]
  },
  {
   "cell_type": "code",
   "execution_count": 4,
   "id": "c722d357",
   "metadata": {},
   "outputs": [],
   "source": [
    "driver = webdriver.Chrome('chromedriver.exe')"
   ]
  },
  {
   "cell_type": "code",
   "execution_count": 4,
   "id": "0ee1fbd3",
   "metadata": {},
   "outputs": [],
   "source": [
    "url = 'https://www.naukri.com/'\n",
    "driver.get(url)"
   ]
  },
  {
   "cell_type": "code",
   "execution_count": 5,
   "id": "856acd94",
   "metadata": {},
   "outputs": [
    {
     "data": {
      "text/plain": [
       "<selenium.webdriver.remote.webelement.WebElement (session=\"b15a46584a3f8ce5690c319401cbd51d\", element=\"5e8e7111-a8bf-44ba-91aa-bdc016612fc4\")>"
      ]
     },
     "execution_count": 5,
     "metadata": {},
     "output_type": "execute_result"
    }
   ],
   "source": [
    "srh_job=driver.find_element_by_class_name('suggestor-input ')\n",
    "srh_job"
   ]
  },
  {
   "cell_type": "code",
   "execution_count": 6,
   "id": "907efb36",
   "metadata": {},
   "outputs": [],
   "source": [
    "srh_job.send_keys('Data Analyst')"
   ]
  },
  {
   "cell_type": "code",
   "execution_count": 7,
   "id": "851f5157",
   "metadata": {},
   "outputs": [
    {
     "data": {
      "text/plain": [
       "<selenium.webdriver.remote.webelement.WebElement (session=\"b15a46584a3f8ce5690c319401cbd51d\", element=\"bf22c37f-d0d9-48f1-86ab-054be61d0e97\")>"
      ]
     },
     "execution_count": 7,
     "metadata": {},
     "output_type": "execute_result"
    }
   ],
   "source": [
    "loc_job=driver.find_element_by_xpath('/html/body/div/div[2]/div[3]/div/div/div[3]/div/div/div/input')\n",
    "loc_job"
   ]
  },
  {
   "cell_type": "code",
   "execution_count": 8,
   "id": "d00de719",
   "metadata": {},
   "outputs": [
    {
     "data": {
      "text/plain": [
       "<selenium.webdriver.remote.webelement.WebElement (session=\"b15a46584a3f8ce5690c319401cbd51d\", element=\"bf22c37f-d0d9-48f1-86ab-054be61d0e97\")>"
      ]
     },
     "execution_count": 8,
     "metadata": {},
     "output_type": "execute_result"
    }
   ],
   "source": [
    "loc_job=driver.find_element_by_xpath('/html/body/div/div[2]/div[3]/div/div/div[3]/div/div/div/input')\n",
    "loc_job"
   ]
  },
  {
   "cell_type": "code",
   "execution_count": 9,
   "id": "14362033",
   "metadata": {},
   "outputs": [],
   "source": [
    "loc_job.send_keys('Bangalore')"
   ]
  },
  {
   "cell_type": "code",
   "execution_count": 10,
   "id": "28a4c123",
   "metadata": {},
   "outputs": [],
   "source": [
    "srh_btn=driver.find_element_by_class_name('qsbSubmit')\n",
    "srh_btn.click()"
   ]
  },
  {
   "cell_type": "code",
   "execution_count": 11,
   "id": "fe0b7586",
   "metadata": {
    "scrolled": true
   },
   "outputs": [
    {
     "data": {
      "text/plain": [
       "[<selenium.webdriver.remote.webelement.WebElement (session=\"b15a46584a3f8ce5690c319401cbd51d\", element=\"d2c02997-1627-4c14-9ed4-788d92e49387\")>,\n",
       " <selenium.webdriver.remote.webelement.WebElement (session=\"b15a46584a3f8ce5690c319401cbd51d\", element=\"0f924696-552b-4f56-b32b-3669610a6769\")>,\n",
       " <selenium.webdriver.remote.webelement.WebElement (session=\"b15a46584a3f8ce5690c319401cbd51d\", element=\"cdadb544-c75d-46a7-8953-52de745909b6\")>,\n",
       " <selenium.webdriver.remote.webelement.WebElement (session=\"b15a46584a3f8ce5690c319401cbd51d\", element=\"d3e0182d-1c51-45fb-9a7e-fd943702ebc1\")>,\n",
       " <selenium.webdriver.remote.webelement.WebElement (session=\"b15a46584a3f8ce5690c319401cbd51d\", element=\"a1a5330a-ada9-4e60-bfd1-dcf52eed93b5\")>,\n",
       " <selenium.webdriver.remote.webelement.WebElement (session=\"b15a46584a3f8ce5690c319401cbd51d\", element=\"56905ba4-ccc8-4954-8c3a-6f1acc99f43e\")>,\n",
       " <selenium.webdriver.remote.webelement.WebElement (session=\"b15a46584a3f8ce5690c319401cbd51d\", element=\"6424a7eb-d5d5-4282-8e8e-971e79644c78\")>,\n",
       " <selenium.webdriver.remote.webelement.WebElement (session=\"b15a46584a3f8ce5690c319401cbd51d\", element=\"e1edca93-620d-4bd1-a2dd-ab18758e009e\")>,\n",
       " <selenium.webdriver.remote.webelement.WebElement (session=\"b15a46584a3f8ce5690c319401cbd51d\", element=\"a32dca70-e202-45b7-a4c9-ea0d310ba220\")>,\n",
       " <selenium.webdriver.remote.webelement.WebElement (session=\"b15a46584a3f8ce5690c319401cbd51d\", element=\"13d8440b-279d-419a-9a39-b9b66d78c0c1\")>,\n",
       " <selenium.webdriver.remote.webelement.WebElement (session=\"b15a46584a3f8ce5690c319401cbd51d\", element=\"d3e1978b-4181-4335-ac68-bc043484b377\")>,\n",
       " <selenium.webdriver.remote.webelement.WebElement (session=\"b15a46584a3f8ce5690c319401cbd51d\", element=\"7268fb3d-dd8b-49d8-a9cb-5ae265bf2a6a\")>,\n",
       " <selenium.webdriver.remote.webelement.WebElement (session=\"b15a46584a3f8ce5690c319401cbd51d\", element=\"4e0bf321-8ea6-458c-9bd3-aad76ef090de\")>,\n",
       " <selenium.webdriver.remote.webelement.WebElement (session=\"b15a46584a3f8ce5690c319401cbd51d\", element=\"47c46a24-5940-4642-be55-dd42d753f8ab\")>,\n",
       " <selenium.webdriver.remote.webelement.WebElement (session=\"b15a46584a3f8ce5690c319401cbd51d\", element=\"fc3a7ed0-0b6c-434a-899d-3097f5b940bd\")>,\n",
       " <selenium.webdriver.remote.webelement.WebElement (session=\"b15a46584a3f8ce5690c319401cbd51d\", element=\"b77f48a3-cbd3-4e93-bc55-94ac5266e1dd\")>,\n",
       " <selenium.webdriver.remote.webelement.WebElement (session=\"b15a46584a3f8ce5690c319401cbd51d\", element=\"dc89e067-e6e8-471a-9191-fe1f03555c70\")>,\n",
       " <selenium.webdriver.remote.webelement.WebElement (session=\"b15a46584a3f8ce5690c319401cbd51d\", element=\"9b3607ee-815f-4480-a707-2c2cae8322fe\")>,\n",
       " <selenium.webdriver.remote.webelement.WebElement (session=\"b15a46584a3f8ce5690c319401cbd51d\", element=\"6af2eebe-d71e-469d-b1fd-e14807ff47e0\")>,\n",
       " <selenium.webdriver.remote.webelement.WebElement (session=\"b15a46584a3f8ce5690c319401cbd51d\", element=\"be03fce7-9469-4b17-bc9d-0e83ea94639f\")>]"
      ]
     },
     "execution_count": 11,
     "metadata": {},
     "output_type": "execute_result"
    }
   ],
   "source": [
    "job_tags=driver.find_elements_by_xpath('//a[@class=\"title fw500 ellipsis\"]')\n",
    "job_tags"
   ]
  },
  {
   "cell_type": "code",
   "execution_count": 12,
   "id": "0acbbffe",
   "metadata": {},
   "outputs": [
    {
     "data": {
      "text/plain": [
       "20"
      ]
     },
     "execution_count": 12,
     "metadata": {},
     "output_type": "execute_result"
    }
   ],
   "source": [
    "len(job_tags)"
   ]
  },
  {
   "cell_type": "code",
   "execution_count": 13,
   "id": "63ace762",
   "metadata": {},
   "outputs": [
    {
     "data": {
      "text/plain": [
       "['Hiring -Data Analyst, Business Analyst, MIS Analyst -3rd Party Payroll',\n",
       " 'Senior Data Analyst - Collibra',\n",
       " 'Data Analyst- 6-9 Years- Pan India-Permanent position',\n",
       " 'Senior Data Analyst II',\n",
       " 'Senior Data Analyst',\n",
       " 'Global Tax Automation & Operations - Data Scientist Senior Analyst',\n",
       " 'Pipeline/Piping Data Analyst Trainee',\n",
       " 'Data Analyst',\n",
       " 'Data Analyst',\n",
       " 'Data Analyst',\n",
       " 'Data Analyst',\n",
       " 'Business Analyst (Data Analyst role)',\n",
       " 'Senior Data Analyst',\n",
       " 'Senior Executive - Data Analyst',\n",
       " 'Hiring For Data Analyst (SQL & Scala) || Coforge',\n",
       " 'Hiring Data Analyst(Immediate joiner preferred) - Globallogic!',\n",
       " 'Data Analyst',\n",
       " 'Data Analyst',\n",
       " 'Assistant Manager :: HR Data Analyst',\n",
       " 'Data Analyst']"
      ]
     },
     "execution_count": 13,
     "metadata": {},
     "output_type": "execute_result"
    }
   ],
   "source": [
    "job_titles=[]\n",
    "for i in job_tags:\n",
    "    job_titles.append(i.text)\n",
    "    \n",
    "job_titles "
   ]
  },
  {
   "cell_type": "code",
   "execution_count": 14,
   "id": "00df8d1e",
   "metadata": {},
   "outputs": [
    {
     "data": {
      "text/plain": [
       "[<selenium.webdriver.remote.webelement.WebElement (session=\"b15a46584a3f8ce5690c319401cbd51d\", element=\"82279b92-03b0-43f6-81f4-92c31ec8c338\")>,\n",
       " <selenium.webdriver.remote.webelement.WebElement (session=\"b15a46584a3f8ce5690c319401cbd51d\", element=\"8aec0f47-e757-4b53-b68c-c4a1789554b2\")>,\n",
       " <selenium.webdriver.remote.webelement.WebElement (session=\"b15a46584a3f8ce5690c319401cbd51d\", element=\"1e863973-394a-436d-bdeb-db789318ba67\")>,\n",
       " <selenium.webdriver.remote.webelement.WebElement (session=\"b15a46584a3f8ce5690c319401cbd51d\", element=\"6bf77013-151d-4d4a-8b52-4d33f3978ce0\")>,\n",
       " <selenium.webdriver.remote.webelement.WebElement (session=\"b15a46584a3f8ce5690c319401cbd51d\", element=\"2a12e9a8-7776-4c13-a165-2fbe97de74c7\")>,\n",
       " <selenium.webdriver.remote.webelement.WebElement (session=\"b15a46584a3f8ce5690c319401cbd51d\", element=\"fbf3dfbd-de14-457e-8b8d-93a64990555b\")>,\n",
       " <selenium.webdriver.remote.webelement.WebElement (session=\"b15a46584a3f8ce5690c319401cbd51d\", element=\"20c30cce-6e7b-43ef-b11e-6b57c92d2f0d\")>,\n",
       " <selenium.webdriver.remote.webelement.WebElement (session=\"b15a46584a3f8ce5690c319401cbd51d\", element=\"acfb4ce2-8487-43da-9593-ec6be84c93ee\")>,\n",
       " <selenium.webdriver.remote.webelement.WebElement (session=\"b15a46584a3f8ce5690c319401cbd51d\", element=\"1c177e3f-dd2b-4b68-9c82-404bfb4d0778\")>,\n",
       " <selenium.webdriver.remote.webelement.WebElement (session=\"b15a46584a3f8ce5690c319401cbd51d\", element=\"0e838693-f246-4340-a104-0e3be9565d3d\")>,\n",
       " <selenium.webdriver.remote.webelement.WebElement (session=\"b15a46584a3f8ce5690c319401cbd51d\", element=\"494e96ee-8ce0-4193-9a4d-b387233ad065\")>,\n",
       " <selenium.webdriver.remote.webelement.WebElement (session=\"b15a46584a3f8ce5690c319401cbd51d\", element=\"69944d54-8d6e-4cdf-bcad-f085606550f6\")>,\n",
       " <selenium.webdriver.remote.webelement.WebElement (session=\"b15a46584a3f8ce5690c319401cbd51d\", element=\"d78e5914-afb7-43e1-9017-55d2654805ad\")>,\n",
       " <selenium.webdriver.remote.webelement.WebElement (session=\"b15a46584a3f8ce5690c319401cbd51d\", element=\"d5b84259-0668-403e-94a8-17875c352777\")>,\n",
       " <selenium.webdriver.remote.webelement.WebElement (session=\"b15a46584a3f8ce5690c319401cbd51d\", element=\"4add284c-afed-4862-afec-b4420c0687a9\")>,\n",
       " <selenium.webdriver.remote.webelement.WebElement (session=\"b15a46584a3f8ce5690c319401cbd51d\", element=\"393bcd32-14b4-4b20-9bb2-7b22379619b2\")>,\n",
       " <selenium.webdriver.remote.webelement.WebElement (session=\"b15a46584a3f8ce5690c319401cbd51d\", element=\"6c8c3d6b-cf7e-49c1-ab67-ab48c8ffae23\")>,\n",
       " <selenium.webdriver.remote.webelement.WebElement (session=\"b15a46584a3f8ce5690c319401cbd51d\", element=\"9e6600a5-c0b4-4427-b759-fa145577546d\")>,\n",
       " <selenium.webdriver.remote.webelement.WebElement (session=\"b15a46584a3f8ce5690c319401cbd51d\", element=\"9ec949d7-4b99-4fe9-945a-c9c9f5b5d5fa\")>,\n",
       " <selenium.webdriver.remote.webelement.WebElement (session=\"b15a46584a3f8ce5690c319401cbd51d\", element=\"b5c01fab-5563-48f2-b3fd-91560edf8735\")>]"
      ]
     },
     "execution_count": 14,
     "metadata": {},
     "output_type": "execute_result"
    }
   ],
   "source": [
    "location=driver.find_elements_by_xpath('//li[@class=\"fleft grey-text br2 placeHolderLi location\"]')\n",
    "location"
   ]
  },
  {
   "cell_type": "code",
   "execution_count": 15,
   "id": "c8518549",
   "metadata": {},
   "outputs": [
    {
     "data": {
      "text/plain": [
       "['Bangalore/Bengaluru',\n",
       " 'Bangalore/Bengaluru',\n",
       " 'Mumbai, Hyderabad/Secunderabad, Chennai, Bangalore/Bengaluru, Delhi / NCR',\n",
       " 'Bangalore/Bengaluru',\n",
       " 'Bangalore/Bengaluru',\n",
       " 'Bangalore/Bengaluru',\n",
       " 'Bangalore/Bengaluru',\n",
       " 'Bangalore/Bengaluru(HSR Layout +7)',\n",
       " 'Bangalore/Bengaluru',\n",
       " 'Bangalore/Bengaluru',\n",
       " 'Bangalore/Bengaluru',\n",
       " 'Mumbai, Hyderabad/Secunderabad, Pune, Chennai, Bangalore/Bengaluru',\n",
       " 'Remote',\n",
       " 'Bangalore/Bengaluru',\n",
       " 'Mumbai, Bangalore/Bengaluru, Greater Noida\\n(WFH during Covid)',\n",
       " 'Hyderabad/Secunderabad, Pune, Bangalore/Bengaluru\\n(WFH during Covid)',\n",
       " 'Bangalore/Bengaluru',\n",
       " 'Bangalore/Bengaluru',\n",
       " 'Kolkata, Hyderabad/Secunderabad, Pune, Bangalore/Bengaluru',\n",
       " 'Bangalore/Bengaluru']"
      ]
     },
     "execution_count": 15,
     "metadata": {},
     "output_type": "execute_result"
    }
   ],
   "source": [
    "loc=[]\n",
    "for i in location:\n",
    "    loc.append(i.text)\n",
    "    \n",
    "loc    "
   ]
  },
  {
   "cell_type": "code",
   "execution_count": 16,
   "id": "3cbacf17",
   "metadata": {},
   "outputs": [
    {
     "data": {
      "text/plain": [
       "[<selenium.webdriver.remote.webelement.WebElement (session=\"b15a46584a3f8ce5690c319401cbd51d\", element=\"49f7d932-2b49-4a59-80b3-d57dfd17e2fb\")>,\n",
       " <selenium.webdriver.remote.webelement.WebElement (session=\"b15a46584a3f8ce5690c319401cbd51d\", element=\"504a738f-7293-4823-be16-a2ffada6aefe\")>,\n",
       " <selenium.webdriver.remote.webelement.WebElement (session=\"b15a46584a3f8ce5690c319401cbd51d\", element=\"89a0c820-2d2d-4f49-bfb4-b2b59dd02a34\")>,\n",
       " <selenium.webdriver.remote.webelement.WebElement (session=\"b15a46584a3f8ce5690c319401cbd51d\", element=\"08cd8551-d98a-4de5-8fbd-63a771fd4e78\")>,\n",
       " <selenium.webdriver.remote.webelement.WebElement (session=\"b15a46584a3f8ce5690c319401cbd51d\", element=\"e485b851-aba5-4c99-af61-c889094a8c32\")>,\n",
       " <selenium.webdriver.remote.webelement.WebElement (session=\"b15a46584a3f8ce5690c319401cbd51d\", element=\"54719000-d7f1-416c-8db6-73e284e4a4c8\")>,\n",
       " <selenium.webdriver.remote.webelement.WebElement (session=\"b15a46584a3f8ce5690c319401cbd51d\", element=\"a76cac63-ae69-49ef-a82b-3a930b7d2cf1\")>,\n",
       " <selenium.webdriver.remote.webelement.WebElement (session=\"b15a46584a3f8ce5690c319401cbd51d\", element=\"6dac0218-f363-46e9-90e1-64a0fb0011bf\")>,\n",
       " <selenium.webdriver.remote.webelement.WebElement (session=\"b15a46584a3f8ce5690c319401cbd51d\", element=\"96e4acfe-c811-4a75-8924-579ebb973ba7\")>,\n",
       " <selenium.webdriver.remote.webelement.WebElement (session=\"b15a46584a3f8ce5690c319401cbd51d\", element=\"9834c7c7-cdeb-46de-b4fc-5a75dbe3929a\")>,\n",
       " <selenium.webdriver.remote.webelement.WebElement (session=\"b15a46584a3f8ce5690c319401cbd51d\", element=\"ef115907-0b54-4ae7-83bd-308bc5e8e1ce\")>,\n",
       " <selenium.webdriver.remote.webelement.WebElement (session=\"b15a46584a3f8ce5690c319401cbd51d\", element=\"c033d5f1-f643-4a77-a2f2-d950296942a1\")>,\n",
       " <selenium.webdriver.remote.webelement.WebElement (session=\"b15a46584a3f8ce5690c319401cbd51d\", element=\"18f22261-645d-48a9-ae9d-9ec1c09864b7\")>,\n",
       " <selenium.webdriver.remote.webelement.WebElement (session=\"b15a46584a3f8ce5690c319401cbd51d\", element=\"117d2d21-8cdd-411f-8189-a91e154df304\")>,\n",
       " <selenium.webdriver.remote.webelement.WebElement (session=\"b15a46584a3f8ce5690c319401cbd51d\", element=\"e7df8e24-3dae-4b29-b455-276f379811bd\")>,\n",
       " <selenium.webdriver.remote.webelement.WebElement (session=\"b15a46584a3f8ce5690c319401cbd51d\", element=\"4d1c5a58-a97b-486a-8f96-86c45ab34888\")>,\n",
       " <selenium.webdriver.remote.webelement.WebElement (session=\"b15a46584a3f8ce5690c319401cbd51d\", element=\"73f5fa65-23f6-4925-b054-f5308d37dacc\")>,\n",
       " <selenium.webdriver.remote.webelement.WebElement (session=\"b15a46584a3f8ce5690c319401cbd51d\", element=\"9febb00d-8bae-4dce-af04-d51ca261d706\")>,\n",
       " <selenium.webdriver.remote.webelement.WebElement (session=\"b15a46584a3f8ce5690c319401cbd51d\", element=\"6e08d7c0-31d2-4159-a05c-4736bb4e305f\")>,\n",
       " <selenium.webdriver.remote.webelement.WebElement (session=\"b15a46584a3f8ce5690c319401cbd51d\", element=\"a1eedb10-073c-4e7b-a92c-e4602d67b67a\")>]"
      ]
     },
     "execution_count": 16,
     "metadata": {},
     "output_type": "execute_result"
    }
   ],
   "source": [
    "company=driver.find_elements_by_xpath('//a[@class=\"subTitle ellipsis fleft\"]')\n",
    "company"
   ]
  },
  {
   "cell_type": "code",
   "execution_count": 17,
   "id": "76707b48",
   "metadata": {},
   "outputs": [
    {
     "data": {
      "text/plain": [
       "['Flipkart',\n",
       " 'Shell',\n",
       " 'Virtusa',\n",
       " 'Flipkart',\n",
       " 'Flipkart',\n",
       " 'Dell',\n",
       " 'TIMS SOLUTIONS PRIVATE LIMITED',\n",
       " 'Insure Pro 2.0',\n",
       " 'BERKMEER INDIA PRIVATE LIMITED',\n",
       " 'Lifesight Technologies Pvt. Ltd.',\n",
       " 'GSK India',\n",
       " 'Xpheno',\n",
       " 'Liventus',\n",
       " 'Vedantu',\n",
       " 'Coforge',\n",
       " 'GlobalLogic',\n",
       " 'Flipkart',\n",
       " 'Flipkart',\n",
       " 'Wipro',\n",
       " 'Shell']"
      ]
     },
     "execution_count": 17,
     "metadata": {},
     "output_type": "execute_result"
    }
   ],
   "source": [
    "comp=[]\n",
    "for i in company:\n",
    "    comp.append(i.text)\n",
    "    \n",
    "comp "
   ]
  },
  {
   "cell_type": "code",
   "execution_count": 18,
   "id": "f1d2b8c6",
   "metadata": {},
   "outputs": [
    {
     "data": {
      "text/plain": [
       "[<selenium.webdriver.remote.webelement.WebElement (session=\"b15a46584a3f8ce5690c319401cbd51d\", element=\"be71e644-f479-44ae-8655-01778f52332e\")>,\n",
       " <selenium.webdriver.remote.webelement.WebElement (session=\"b15a46584a3f8ce5690c319401cbd51d\", element=\"072d700a-42c1-4cff-8de0-0791b5f44dbe\")>,\n",
       " <selenium.webdriver.remote.webelement.WebElement (session=\"b15a46584a3f8ce5690c319401cbd51d\", element=\"d374fce7-a9d3-4149-8abd-4640c93baea2\")>,\n",
       " <selenium.webdriver.remote.webelement.WebElement (session=\"b15a46584a3f8ce5690c319401cbd51d\", element=\"7e01bcbb-56b5-4f0e-93d6-5123695dbd29\")>,\n",
       " <selenium.webdriver.remote.webelement.WebElement (session=\"b15a46584a3f8ce5690c319401cbd51d\", element=\"9899f383-2f7f-4afa-b3bc-c4825ff6db0a\")>,\n",
       " <selenium.webdriver.remote.webelement.WebElement (session=\"b15a46584a3f8ce5690c319401cbd51d\", element=\"a6e64f57-3e23-450b-a6e5-7d93127e0b40\")>,\n",
       " <selenium.webdriver.remote.webelement.WebElement (session=\"b15a46584a3f8ce5690c319401cbd51d\", element=\"28b4de51-bf4e-4e67-9adb-7a6033546e20\")>,\n",
       " <selenium.webdriver.remote.webelement.WebElement (session=\"b15a46584a3f8ce5690c319401cbd51d\", element=\"ebb762fc-9986-4258-8386-9b798d2512a6\")>,\n",
       " <selenium.webdriver.remote.webelement.WebElement (session=\"b15a46584a3f8ce5690c319401cbd51d\", element=\"cd49ed50-e049-46d6-a834-aa180e2241fc\")>,\n",
       " <selenium.webdriver.remote.webelement.WebElement (session=\"b15a46584a3f8ce5690c319401cbd51d\", element=\"9c6e2824-3281-412e-8c2e-b2487070ebcb\")>,\n",
       " <selenium.webdriver.remote.webelement.WebElement (session=\"b15a46584a3f8ce5690c319401cbd51d\", element=\"12831e9a-54c5-499f-85b6-1b769a7ec950\")>,\n",
       " <selenium.webdriver.remote.webelement.WebElement (session=\"b15a46584a3f8ce5690c319401cbd51d\", element=\"f47b063b-a1b1-41af-b3cc-dde00f13493e\")>,\n",
       " <selenium.webdriver.remote.webelement.WebElement (session=\"b15a46584a3f8ce5690c319401cbd51d\", element=\"8453baf6-9965-4b3f-96a4-1b3c88b7cb7f\")>,\n",
       " <selenium.webdriver.remote.webelement.WebElement (session=\"b15a46584a3f8ce5690c319401cbd51d\", element=\"7f46fe63-1cb6-4459-943b-eed75038b6fb\")>,\n",
       " <selenium.webdriver.remote.webelement.WebElement (session=\"b15a46584a3f8ce5690c319401cbd51d\", element=\"992b97a8-2579-4366-89c9-bbf8bc8f7043\")>,\n",
       " <selenium.webdriver.remote.webelement.WebElement (session=\"b15a46584a3f8ce5690c319401cbd51d\", element=\"272f3509-aed1-46f1-8a7e-51dfb51dbf83\")>,\n",
       " <selenium.webdriver.remote.webelement.WebElement (session=\"b15a46584a3f8ce5690c319401cbd51d\", element=\"f255d75f-5cfc-4d9f-8169-4eac122a1c6e\")>,\n",
       " <selenium.webdriver.remote.webelement.WebElement (session=\"b15a46584a3f8ce5690c319401cbd51d\", element=\"40e59774-4309-41ce-a1e6-515ce08f23a0\")>,\n",
       " <selenium.webdriver.remote.webelement.WebElement (session=\"b15a46584a3f8ce5690c319401cbd51d\", element=\"6a7c52bd-e906-43e3-95c1-c7518dc31f25\")>,\n",
       " <selenium.webdriver.remote.webelement.WebElement (session=\"b15a46584a3f8ce5690c319401cbd51d\", element=\"aa974cbe-e994-409f-aa79-d79080886253\")>]"
      ]
     },
     "execution_count": 18,
     "metadata": {},
     "output_type": "execute_result"
    }
   ],
   "source": [
    "expirence=driver.find_elements_by_xpath('//span[contains(@title,\"Yrs\")]')\n",
    "expirence"
   ]
  },
  {
   "cell_type": "code",
   "execution_count": 19,
   "id": "caf9c99f",
   "metadata": {},
   "outputs": [
    {
     "data": {
      "text/plain": [
       "['1-6 Yrs',\n",
       " '8-12 Yrs',\n",
       " '6-9 Yrs',\n",
       " '2-4 Yrs',\n",
       " '2-3 Yrs',\n",
       " '3-5 Yrs',\n",
       " '0-4 Yrs',\n",
       " '0-2 Yrs',\n",
       " '0-2 Yrs',\n",
       " '0-2 Yrs',\n",
       " '3-8 Yrs',\n",
       " '2-5 Yrs',\n",
       " '5-8 Yrs',\n",
       " '1-4 Yrs',\n",
       " '4-8 Yrs',\n",
       " '6-9 Yrs',\n",
       " '1-2 Yrs',\n",
       " '1-2 Yrs',\n",
       " '5-7 Yrs',\n",
       " '2-7 Yrs']"
      ]
     },
     "execution_count": 19,
     "metadata": {},
     "output_type": "execute_result"
    }
   ],
   "source": [
    "exp=[]\n",
    "for i in expirence:\n",
    "    exp.append(i.text)\n",
    "    \n",
    "exp "
   ]
  },
  {
   "cell_type": "code",
   "execution_count": 20,
   "id": "de57a3cc",
   "metadata": {},
   "outputs": [
    {
     "data": {
      "text/html": [
       "<div>\n",
       "<style scoped>\n",
       "    .dataframe tbody tr th:only-of-type {\n",
       "        vertical-align: middle;\n",
       "    }\n",
       "\n",
       "    .dataframe tbody tr th {\n",
       "        vertical-align: top;\n",
       "    }\n",
       "\n",
       "    .dataframe thead th {\n",
       "        text-align: right;\n",
       "    }\n",
       "</style>\n",
       "<table border=\"1\" class=\"dataframe\">\n",
       "  <thead>\n",
       "    <tr style=\"text-align: right;\">\n",
       "      <th></th>\n",
       "      <th>Job-Title</th>\n",
       "      <th>Job-Location</th>\n",
       "      <th>Company-Name</th>\n",
       "      <th>Expirence-required</th>\n",
       "    </tr>\n",
       "  </thead>\n",
       "  <tbody>\n",
       "    <tr>\n",
       "      <th>0</th>\n",
       "      <td>Hiring -Data Analyst, Business Analyst, MIS An...</td>\n",
       "      <td>Bangalore/Bengaluru</td>\n",
       "      <td>Flipkart</td>\n",
       "      <td>1-6 Yrs</td>\n",
       "    </tr>\n",
       "    <tr>\n",
       "      <th>1</th>\n",
       "      <td>Senior Data Analyst - Collibra</td>\n",
       "      <td>Bangalore/Bengaluru</td>\n",
       "      <td>Shell</td>\n",
       "      <td>8-12 Yrs</td>\n",
       "    </tr>\n",
       "    <tr>\n",
       "      <th>2</th>\n",
       "      <td>Data Analyst- 6-9 Years- Pan India-Permanent p...</td>\n",
       "      <td>Mumbai, Hyderabad/Secunderabad, Chennai, Banga...</td>\n",
       "      <td>Virtusa</td>\n",
       "      <td>6-9 Yrs</td>\n",
       "    </tr>\n",
       "    <tr>\n",
       "      <th>3</th>\n",
       "      <td>Senior Data Analyst II</td>\n",
       "      <td>Bangalore/Bengaluru</td>\n",
       "      <td>Flipkart</td>\n",
       "      <td>2-4 Yrs</td>\n",
       "    </tr>\n",
       "    <tr>\n",
       "      <th>4</th>\n",
       "      <td>Senior Data Analyst</td>\n",
       "      <td>Bangalore/Bengaluru</td>\n",
       "      <td>Flipkart</td>\n",
       "      <td>2-3 Yrs</td>\n",
       "    </tr>\n",
       "    <tr>\n",
       "      <th>5</th>\n",
       "      <td>Global Tax Automation &amp; Operations - Data Scie...</td>\n",
       "      <td>Bangalore/Bengaluru</td>\n",
       "      <td>Dell</td>\n",
       "      <td>3-5 Yrs</td>\n",
       "    </tr>\n",
       "    <tr>\n",
       "      <th>6</th>\n",
       "      <td>Pipeline/Piping Data Analyst Trainee</td>\n",
       "      <td>Bangalore/Bengaluru</td>\n",
       "      <td>TIMS SOLUTIONS PRIVATE LIMITED</td>\n",
       "      <td>0-4 Yrs</td>\n",
       "    </tr>\n",
       "    <tr>\n",
       "      <th>7</th>\n",
       "      <td>Data Analyst</td>\n",
       "      <td>Bangalore/Bengaluru(HSR Layout +7)</td>\n",
       "      <td>Insure Pro 2.0</td>\n",
       "      <td>0-2 Yrs</td>\n",
       "    </tr>\n",
       "    <tr>\n",
       "      <th>8</th>\n",
       "      <td>Data Analyst</td>\n",
       "      <td>Bangalore/Bengaluru</td>\n",
       "      <td>BERKMEER INDIA PRIVATE LIMITED</td>\n",
       "      <td>0-2 Yrs</td>\n",
       "    </tr>\n",
       "    <tr>\n",
       "      <th>9</th>\n",
       "      <td>Data Analyst</td>\n",
       "      <td>Bangalore/Bengaluru</td>\n",
       "      <td>Lifesight Technologies Pvt. Ltd.</td>\n",
       "      <td>0-2 Yrs</td>\n",
       "    </tr>\n",
       "    <tr>\n",
       "      <th>10</th>\n",
       "      <td>Data Analyst</td>\n",
       "      <td>Bangalore/Bengaluru</td>\n",
       "      <td>GSK India</td>\n",
       "      <td>3-8 Yrs</td>\n",
       "    </tr>\n",
       "    <tr>\n",
       "      <th>11</th>\n",
       "      <td>Business Analyst (Data Analyst role)</td>\n",
       "      <td>Mumbai, Hyderabad/Secunderabad, Pune, Chennai,...</td>\n",
       "      <td>Xpheno</td>\n",
       "      <td>2-5 Yrs</td>\n",
       "    </tr>\n",
       "    <tr>\n",
       "      <th>12</th>\n",
       "      <td>Senior Data Analyst</td>\n",
       "      <td>Remote</td>\n",
       "      <td>Liventus</td>\n",
       "      <td>5-8 Yrs</td>\n",
       "    </tr>\n",
       "    <tr>\n",
       "      <th>13</th>\n",
       "      <td>Senior Executive - Data Analyst</td>\n",
       "      <td>Bangalore/Bengaluru</td>\n",
       "      <td>Vedantu</td>\n",
       "      <td>1-4 Yrs</td>\n",
       "    </tr>\n",
       "    <tr>\n",
       "      <th>14</th>\n",
       "      <td>Hiring For Data Analyst (SQL &amp; Scala) || Coforge</td>\n",
       "      <td>Mumbai, Bangalore/Bengaluru, Greater Noida\\n(W...</td>\n",
       "      <td>Coforge</td>\n",
       "      <td>4-8 Yrs</td>\n",
       "    </tr>\n",
       "    <tr>\n",
       "      <th>15</th>\n",
       "      <td>Hiring Data Analyst(Immediate joiner preferred...</td>\n",
       "      <td>Hyderabad/Secunderabad, Pune, Bangalore/Bengal...</td>\n",
       "      <td>GlobalLogic</td>\n",
       "      <td>6-9 Yrs</td>\n",
       "    </tr>\n",
       "    <tr>\n",
       "      <th>16</th>\n",
       "      <td>Data Analyst</td>\n",
       "      <td>Bangalore/Bengaluru</td>\n",
       "      <td>Flipkart</td>\n",
       "      <td>1-2 Yrs</td>\n",
       "    </tr>\n",
       "    <tr>\n",
       "      <th>17</th>\n",
       "      <td>Data Analyst</td>\n",
       "      <td>Bangalore/Bengaluru</td>\n",
       "      <td>Flipkart</td>\n",
       "      <td>1-2 Yrs</td>\n",
       "    </tr>\n",
       "    <tr>\n",
       "      <th>18</th>\n",
       "      <td>Assistant Manager :: HR Data Analyst</td>\n",
       "      <td>Kolkata, Hyderabad/Secunderabad, Pune, Bangalo...</td>\n",
       "      <td>Wipro</td>\n",
       "      <td>5-7 Yrs</td>\n",
       "    </tr>\n",
       "    <tr>\n",
       "      <th>19</th>\n",
       "      <td>Data Analyst</td>\n",
       "      <td>Bangalore/Bengaluru</td>\n",
       "      <td>Shell</td>\n",
       "      <td>2-7 Yrs</td>\n",
       "    </tr>\n",
       "  </tbody>\n",
       "</table>\n",
       "</div>"
      ],
      "text/plain": [
       "                                            Job-Title  \\\n",
       "0   Hiring -Data Analyst, Business Analyst, MIS An...   \n",
       "1                      Senior Data Analyst - Collibra   \n",
       "2   Data Analyst- 6-9 Years- Pan India-Permanent p...   \n",
       "3                              Senior Data Analyst II   \n",
       "4                                 Senior Data Analyst   \n",
       "5   Global Tax Automation & Operations - Data Scie...   \n",
       "6                Pipeline/Piping Data Analyst Trainee   \n",
       "7                                        Data Analyst   \n",
       "8                                        Data Analyst   \n",
       "9                                        Data Analyst   \n",
       "10                                       Data Analyst   \n",
       "11               Business Analyst (Data Analyst role)   \n",
       "12                                Senior Data Analyst   \n",
       "13                    Senior Executive - Data Analyst   \n",
       "14   Hiring For Data Analyst (SQL & Scala) || Coforge   \n",
       "15  Hiring Data Analyst(Immediate joiner preferred...   \n",
       "16                                       Data Analyst   \n",
       "17                                       Data Analyst   \n",
       "18               Assistant Manager :: HR Data Analyst   \n",
       "19                                       Data Analyst   \n",
       "\n",
       "                                         Job-Location  \\\n",
       "0                                 Bangalore/Bengaluru   \n",
       "1                                 Bangalore/Bengaluru   \n",
       "2   Mumbai, Hyderabad/Secunderabad, Chennai, Banga...   \n",
       "3                                 Bangalore/Bengaluru   \n",
       "4                                 Bangalore/Bengaluru   \n",
       "5                                 Bangalore/Bengaluru   \n",
       "6                                 Bangalore/Bengaluru   \n",
       "7                  Bangalore/Bengaluru(HSR Layout +7)   \n",
       "8                                 Bangalore/Bengaluru   \n",
       "9                                 Bangalore/Bengaluru   \n",
       "10                                Bangalore/Bengaluru   \n",
       "11  Mumbai, Hyderabad/Secunderabad, Pune, Chennai,...   \n",
       "12                                             Remote   \n",
       "13                                Bangalore/Bengaluru   \n",
       "14  Mumbai, Bangalore/Bengaluru, Greater Noida\\n(W...   \n",
       "15  Hyderabad/Secunderabad, Pune, Bangalore/Bengal...   \n",
       "16                                Bangalore/Bengaluru   \n",
       "17                                Bangalore/Bengaluru   \n",
       "18  Kolkata, Hyderabad/Secunderabad, Pune, Bangalo...   \n",
       "19                                Bangalore/Bengaluru   \n",
       "\n",
       "                        Company-Name Expirence-required  \n",
       "0                           Flipkart            1-6 Yrs  \n",
       "1                              Shell           8-12 Yrs  \n",
       "2                            Virtusa            6-9 Yrs  \n",
       "3                           Flipkart            2-4 Yrs  \n",
       "4                           Flipkart            2-3 Yrs  \n",
       "5                               Dell            3-5 Yrs  \n",
       "6     TIMS SOLUTIONS PRIVATE LIMITED            0-4 Yrs  \n",
       "7                     Insure Pro 2.0            0-2 Yrs  \n",
       "8     BERKMEER INDIA PRIVATE LIMITED            0-2 Yrs  \n",
       "9   Lifesight Technologies Pvt. Ltd.            0-2 Yrs  \n",
       "10                         GSK India            3-8 Yrs  \n",
       "11                            Xpheno            2-5 Yrs  \n",
       "12                          Liventus            5-8 Yrs  \n",
       "13                           Vedantu            1-4 Yrs  \n",
       "14                           Coforge            4-8 Yrs  \n",
       "15                       GlobalLogic            6-9 Yrs  \n",
       "16                          Flipkart            1-2 Yrs  \n",
       "17                          Flipkart            1-2 Yrs  \n",
       "18                             Wipro            5-7 Yrs  \n",
       "19                             Shell            2-7 Yrs  "
      ]
     },
     "execution_count": 20,
     "metadata": {},
     "output_type": "execute_result"
    }
   ],
   "source": [
    "df=pd.DataFrame({'Job-Title':job_titles,'Job-Location':loc,'Company-Name':comp,'Expirence-required':exp})\n",
    "df"
   ]
  },
  {
   "cell_type": "markdown",
   "id": "b26ca4c6",
   "metadata": {},
   "source": [
    "# Q2: Write a python program to scrape data for “Data Scientist” Job position in “Bangalore” location. You\n",
    "have to scrape the job-title, job-location, company_name. You have to scrape first 10 jobs data."
   ]
  },
  {
   "cell_type": "code",
   "execution_count": 22,
   "id": "1a43688d",
   "metadata": {},
   "outputs": [],
   "source": [
    "# Let's import all required libraries\n",
    "import selenium\n",
    "from selenium import webdriver\n",
    "import pandas as pd\n",
    "import warnings\n",
    "warnings.filterwarnings(\"ignore\")"
   ]
  },
  {
   "cell_type": "code",
   "execution_count": 21,
   "id": "b5e9d0cd",
   "metadata": {},
   "outputs": [],
   "source": [
    "driver1=webdriver.Chrome('chromedriver.exe')"
   ]
  },
  {
   "cell_type": "code",
   "execution_count": 22,
   "id": "2b017fca",
   "metadata": {},
   "outputs": [],
   "source": [
    "url1='https://www.naukri.com/'\n",
    "driver1.get(url1)"
   ]
  },
  {
   "cell_type": "code",
   "execution_count": 24,
   "id": "bcfaf6f3",
   "metadata": {},
   "outputs": [
    {
     "data": {
      "text/plain": [
       "<selenium.webdriver.remote.webelement.WebElement (session=\"6886ef41ce92ca18f243457b9ef1aa4b\", element=\"9c9a6543-b475-4055-b794-4d068c587948\")>"
      ]
     },
     "execution_count": 24,
     "metadata": {},
     "output_type": "execute_result"
    }
   ],
   "source": [
    "srh_job1=driver1.find_element_by_class_name('suggestor-input ')\n",
    "srh_job1"
   ]
  },
  {
   "cell_type": "code",
   "execution_count": 25,
   "id": "38a41963",
   "metadata": {},
   "outputs": [],
   "source": [
    "srh_job1.send_keys('Data Scientist')"
   ]
  },
  {
   "cell_type": "code",
   "execution_count": 26,
   "id": "49f84b6e",
   "metadata": {},
   "outputs": [],
   "source": [
    "loc_job1=driver1.find_element_by_xpath('/html/body/div/div[2]/div[3]/div/div/div[3]/div/div/div/input')"
   ]
  },
  {
   "cell_type": "code",
   "execution_count": 27,
   "id": "589d9861",
   "metadata": {},
   "outputs": [],
   "source": [
    "loc_job1.send_keys('Bangalore')"
   ]
  },
  {
   "cell_type": "code",
   "execution_count": 28,
   "id": "4afcfad0",
   "metadata": {},
   "outputs": [],
   "source": [
    "srh_btn1=driver1.find_element_by_class_name('qsbSubmit')\n",
    "srh_btn1.click()"
   ]
  },
  {
   "cell_type": "code",
   "execution_count": 30,
   "id": "1dbb2819",
   "metadata": {},
   "outputs": [
    {
     "data": {
      "text/plain": [
       "[<selenium.webdriver.remote.webelement.WebElement (session=\"6886ef41ce92ca18f243457b9ef1aa4b\", element=\"bc5cc17b-ae04-4810-a313-0ad747bb550f\")>,\n",
       " <selenium.webdriver.remote.webelement.WebElement (session=\"6886ef41ce92ca18f243457b9ef1aa4b\", element=\"4e25245f-849a-4589-b2c6-2fcd66851480\")>,\n",
       " <selenium.webdriver.remote.webelement.WebElement (session=\"6886ef41ce92ca18f243457b9ef1aa4b\", element=\"df1bffa6-d4ea-4d00-94a1-0c3415297e7f\")>,\n",
       " <selenium.webdriver.remote.webelement.WebElement (session=\"6886ef41ce92ca18f243457b9ef1aa4b\", element=\"d4dc2534-490f-406d-a9be-fb6ab040e040\")>,\n",
       " <selenium.webdriver.remote.webelement.WebElement (session=\"6886ef41ce92ca18f243457b9ef1aa4b\", element=\"fb8779f2-9bb1-4ad9-8071-022a0ddca087\")>,\n",
       " <selenium.webdriver.remote.webelement.WebElement (session=\"6886ef41ce92ca18f243457b9ef1aa4b\", element=\"44b9330d-2d51-454b-88bb-9c51ba9618f6\")>,\n",
       " <selenium.webdriver.remote.webelement.WebElement (session=\"6886ef41ce92ca18f243457b9ef1aa4b\", element=\"3d21e4ea-20c3-48b4-a571-8820719b6a09\")>,\n",
       " <selenium.webdriver.remote.webelement.WebElement (session=\"6886ef41ce92ca18f243457b9ef1aa4b\", element=\"728e3a92-9b46-4818-911a-523680fa13e9\")>,\n",
       " <selenium.webdriver.remote.webelement.WebElement (session=\"6886ef41ce92ca18f243457b9ef1aa4b\", element=\"3339ef94-dca8-457f-88b0-31eb0577d4f2\")>,\n",
       " <selenium.webdriver.remote.webelement.WebElement (session=\"6886ef41ce92ca18f243457b9ef1aa4b\", element=\"28df434a-5635-4719-af09-fab25e2da313\")>,\n",
       " <selenium.webdriver.remote.webelement.WebElement (session=\"6886ef41ce92ca18f243457b9ef1aa4b\", element=\"c5be00b2-941e-419f-8e24-c003d6ae10f0\")>,\n",
       " <selenium.webdriver.remote.webelement.WebElement (session=\"6886ef41ce92ca18f243457b9ef1aa4b\", element=\"1c77ab61-fce6-4d9b-8f36-297ed6e05232\")>,\n",
       " <selenium.webdriver.remote.webelement.WebElement (session=\"6886ef41ce92ca18f243457b9ef1aa4b\", element=\"8a99e640-acc1-4aad-a011-37809fe7edc5\")>,\n",
       " <selenium.webdriver.remote.webelement.WebElement (session=\"6886ef41ce92ca18f243457b9ef1aa4b\", element=\"7b30a9d8-28ff-4d73-b310-b5e15ff5d7c0\")>,\n",
       " <selenium.webdriver.remote.webelement.WebElement (session=\"6886ef41ce92ca18f243457b9ef1aa4b\", element=\"fbe300f0-2db1-4cfb-a6a1-2319cbb40ce1\")>,\n",
       " <selenium.webdriver.remote.webelement.WebElement (session=\"6886ef41ce92ca18f243457b9ef1aa4b\", element=\"2cfa8554-5d44-4306-bb41-6c622f955b35\")>,\n",
       " <selenium.webdriver.remote.webelement.WebElement (session=\"6886ef41ce92ca18f243457b9ef1aa4b\", element=\"dd0697d6-a060-4c4b-ab63-84c492ab7a74\")>,\n",
       " <selenium.webdriver.remote.webelement.WebElement (session=\"6886ef41ce92ca18f243457b9ef1aa4b\", element=\"fbe035a4-82d8-44c4-b153-1442f98b1d0d\")>,\n",
       " <selenium.webdriver.remote.webelement.WebElement (session=\"6886ef41ce92ca18f243457b9ef1aa4b\", element=\"df9e8de8-8314-48a5-8755-6e31446f1028\")>,\n",
       " <selenium.webdriver.remote.webelement.WebElement (session=\"6886ef41ce92ca18f243457b9ef1aa4b\", element=\"f35dbd97-9b38-4c92-998e-5b97fcb77bf1\")>]"
      ]
     },
     "execution_count": 30,
     "metadata": {},
     "output_type": "execute_result"
    }
   ],
   "source": [
    "job_tags1=driver1.find_elements_by_xpath('//a[@class=\"title fw500 ellipsis\"]')\n",
    "job_tags1"
   ]
  },
  {
   "cell_type": "code",
   "execution_count": 31,
   "id": "9d83ac35",
   "metadata": {},
   "outputs": [
    {
     "data": {
      "text/plain": [
       "20"
      ]
     },
     "execution_count": 31,
     "metadata": {},
     "output_type": "execute_result"
    }
   ],
   "source": [
    "len(job_tags1)"
   ]
  },
  {
   "cell_type": "code",
   "execution_count": 32,
   "id": "86300f94",
   "metadata": {},
   "outputs": [
    {
     "data": {
      "text/plain": [
       "['Global Tax Automation & Operations - Data Scientist Senior Analyst',\n",
       " 'Data Scientist / Analyst',\n",
       " 'Senior Data Scientist - Research',\n",
       " 'Senior Data Scientist (Marketplace)',\n",
       " 'Senior Data Scientist',\n",
       " 'Data Scientist - Lead / Architect - Looking For Early Joiners - Wipro',\n",
       " 'Senior Data Scientist I',\n",
       " 'Senior Risk Data Scientist',\n",
       " 'Senior Data Scientist - Analytics Organization- Data Science',\n",
       " 'Data Scientist / ML Engineer',\n",
       " 'Data Scientist - Lead / Architect - Looking For Early Joiners - Wipro',\n",
       " 'Sr Data Scientist',\n",
       " 'Associate Data Scientist',\n",
       " 'Data Scientist: Advanced Analytics',\n",
       " 'Data Scientist: Advanced Analytics',\n",
       " 'Principal Data Scientist',\n",
       " 'Data Scientist: Artificial Intelligence',\n",
       " 'Deputy Manager - Data Scientist',\n",
       " 'Global Tax Automation & Operations / Data Scientist Advisor',\n",
       " 'Data Scientist']"
      ]
     },
     "execution_count": 32,
     "metadata": {},
     "output_type": "execute_result"
    }
   ],
   "source": [
    "job_titles1=[]\n",
    "for i in job_tags1:\n",
    "    job_titles1.append(i.text)\n",
    "    \n",
    "job_titles1  "
   ]
  },
  {
   "cell_type": "code",
   "execution_count": 33,
   "id": "53ff25d3",
   "metadata": {},
   "outputs": [
    {
     "data": {
      "text/plain": [
       "[<selenium.webdriver.remote.webelement.WebElement (session=\"7a7e4d19f70fe2b6a435e67ac8b60b0e\", element=\"d28c4f02-cd4b-4396-a0e8-e0ae4b54974c\")>,\n",
       " <selenium.webdriver.remote.webelement.WebElement (session=\"7a7e4d19f70fe2b6a435e67ac8b60b0e\", element=\"aacfa856-592d-4243-a9eb-d8787f15c55f\")>,\n",
       " <selenium.webdriver.remote.webelement.WebElement (session=\"7a7e4d19f70fe2b6a435e67ac8b60b0e\", element=\"2f53d4c1-8f66-4264-8874-79401eefdf0a\")>,\n",
       " <selenium.webdriver.remote.webelement.WebElement (session=\"7a7e4d19f70fe2b6a435e67ac8b60b0e\", element=\"23ad06e1-da0b-406d-9ad6-ffc6ca77121b\")>,\n",
       " <selenium.webdriver.remote.webelement.WebElement (session=\"7a7e4d19f70fe2b6a435e67ac8b60b0e\", element=\"fedd05ef-193c-439f-81f2-2f4ec12ab0b1\")>,\n",
       " <selenium.webdriver.remote.webelement.WebElement (session=\"7a7e4d19f70fe2b6a435e67ac8b60b0e\", element=\"503be193-bd30-40ce-a84f-47005192e681\")>,\n",
       " <selenium.webdriver.remote.webelement.WebElement (session=\"7a7e4d19f70fe2b6a435e67ac8b60b0e\", element=\"9ffd42c7-1996-4fbc-b4ca-b103f1682930\")>,\n",
       " <selenium.webdriver.remote.webelement.WebElement (session=\"7a7e4d19f70fe2b6a435e67ac8b60b0e\", element=\"f73ce528-6609-44a9-acd0-f0672b09385c\")>,\n",
       " <selenium.webdriver.remote.webelement.WebElement (session=\"7a7e4d19f70fe2b6a435e67ac8b60b0e\", element=\"dabff54a-c1e9-4254-a516-2ae486518688\")>,\n",
       " <selenium.webdriver.remote.webelement.WebElement (session=\"7a7e4d19f70fe2b6a435e67ac8b60b0e\", element=\"13cf45b7-3f17-45ed-a052-f4599f1cf5e8\")>,\n",
       " <selenium.webdriver.remote.webelement.WebElement (session=\"7a7e4d19f70fe2b6a435e67ac8b60b0e\", element=\"dc69bd75-efbd-4cd7-8609-0eacdedd1ce7\")>,\n",
       " <selenium.webdriver.remote.webelement.WebElement (session=\"7a7e4d19f70fe2b6a435e67ac8b60b0e\", element=\"24073c59-3e0d-4347-8662-830c5a7017d5\")>,\n",
       " <selenium.webdriver.remote.webelement.WebElement (session=\"7a7e4d19f70fe2b6a435e67ac8b60b0e\", element=\"bb6df831-beb7-44a7-afe9-d19113f051a3\")>,\n",
       " <selenium.webdriver.remote.webelement.WebElement (session=\"7a7e4d19f70fe2b6a435e67ac8b60b0e\", element=\"53ba4242-3d30-4d6c-91de-3372df4bf35c\")>,\n",
       " <selenium.webdriver.remote.webelement.WebElement (session=\"7a7e4d19f70fe2b6a435e67ac8b60b0e\", element=\"13ff2e65-73df-4369-b72c-b7eb467bc5a6\")>,\n",
       " <selenium.webdriver.remote.webelement.WebElement (session=\"7a7e4d19f70fe2b6a435e67ac8b60b0e\", element=\"e7cd0fca-dd4a-4c8b-bb00-40cd32fb3d36\")>,\n",
       " <selenium.webdriver.remote.webelement.WebElement (session=\"7a7e4d19f70fe2b6a435e67ac8b60b0e\", element=\"8bf4da3d-ae53-44f6-95bd-652e08a8dc5f\")>,\n",
       " <selenium.webdriver.remote.webelement.WebElement (session=\"7a7e4d19f70fe2b6a435e67ac8b60b0e\", element=\"d5ef9731-44b2-4eaf-92e7-f07d948fea38\")>,\n",
       " <selenium.webdriver.remote.webelement.WebElement (session=\"7a7e4d19f70fe2b6a435e67ac8b60b0e\", element=\"5353422f-a613-43c0-812d-0f80efbc47c4\")>,\n",
       " <selenium.webdriver.remote.webelement.WebElement (session=\"7a7e4d19f70fe2b6a435e67ac8b60b0e\", element=\"a44b8bfb-fa39-4909-9693-d6d94d7654b8\")>]"
      ]
     },
     "execution_count": 33,
     "metadata": {},
     "output_type": "execute_result"
    }
   ],
   "source": [
    "job_loc=driver1.find_elements_by_xpath('//li[@class=\"fleft grey-text br2 placeHolderLi location\"]')\n",
    "job_loc"
   ]
  },
  {
   "cell_type": "code",
   "execution_count": 34,
   "id": "017a8840",
   "metadata": {},
   "outputs": [
    {
     "data": {
      "text/plain": [
       "['Bangalore/Bengaluru',\n",
       " 'Hyderabad/Secunderabad, Bangalore/Bengaluru, Delhi / NCR',\n",
       " 'Bangalore/Bengaluru',\n",
       " 'Bangalore/Bengaluru',\n",
       " 'Bangalore/Bengaluru',\n",
       " 'Hyderabad/Secunderabad, Pune, Chennai, Bangalore/Bengaluru',\n",
       " 'Bangalore/Bengaluru',\n",
       " 'Bangalore/Bengaluru',\n",
       " 'Mumbai, Pune, Bangalore/Bengaluru',\n",
       " 'Noida, Kota, Mumbai, Chandigarh, Lucknow, Agra, Gurgaon/Gurugram, Jaipur, Bangalore/Bengaluru',\n",
       " 'Kochi/Cochin, Kolkata, Pune, Gurgaon/Gurugram, Chennai, Coimbatore, Bangalore/Bengaluru, Mumbai (All Areas), Hyderabad',\n",
       " 'Bangalore/Bengaluru\\n(WFH during Covid)',\n",
       " 'Bangalore/Bengaluru',\n",
       " 'Bangalore/Bengaluru',\n",
       " 'Bangalore/Bengaluru',\n",
       " 'Bangalore/Bengaluru',\n",
       " 'Bangalore/Bengaluru',\n",
       " 'Bangalore/Bengaluru',\n",
       " 'Bangalore/Bengaluru',\n",
       " 'Bangalore/Bengaluru']"
      ]
     },
     "execution_count": 34,
     "metadata": {},
     "output_type": "execute_result"
    }
   ],
   "source": [
    "job_loc1=[]\n",
    "for i in job_loc:\n",
    "    job_loc1.append(i.text)\n",
    "    \n",
    "job_loc1 "
   ]
  },
  {
   "cell_type": "code",
   "execution_count": 35,
   "id": "33a84d86",
   "metadata": {},
   "outputs": [
    {
     "data": {
      "text/plain": [
       "[<selenium.webdriver.remote.webelement.WebElement (session=\"7a7e4d19f70fe2b6a435e67ac8b60b0e\", element=\"6398c09b-5333-4c67-a5d3-f01b43f36091\")>,\n",
       " <selenium.webdriver.remote.webelement.WebElement (session=\"7a7e4d19f70fe2b6a435e67ac8b60b0e\", element=\"3e3dd409-4be6-4e35-858a-f472828979c4\")>,\n",
       " <selenium.webdriver.remote.webelement.WebElement (session=\"7a7e4d19f70fe2b6a435e67ac8b60b0e\", element=\"d6b2d165-a129-42e2-939a-7d4a6f04c058\")>,\n",
       " <selenium.webdriver.remote.webelement.WebElement (session=\"7a7e4d19f70fe2b6a435e67ac8b60b0e\", element=\"0666b19d-a4cc-43bf-a1f0-977698fb68b0\")>,\n",
       " <selenium.webdriver.remote.webelement.WebElement (session=\"7a7e4d19f70fe2b6a435e67ac8b60b0e\", element=\"c44e169b-257d-4c1f-aaa7-00a44aa2480f\")>,\n",
       " <selenium.webdriver.remote.webelement.WebElement (session=\"7a7e4d19f70fe2b6a435e67ac8b60b0e\", element=\"7eee2350-6d5f-44c5-b091-449a49f5e0a6\")>,\n",
       " <selenium.webdriver.remote.webelement.WebElement (session=\"7a7e4d19f70fe2b6a435e67ac8b60b0e\", element=\"0b9729d6-ee41-41c4-95aa-9673d339e6f5\")>,\n",
       " <selenium.webdriver.remote.webelement.WebElement (session=\"7a7e4d19f70fe2b6a435e67ac8b60b0e\", element=\"ca91ea1b-ae01-4878-a391-fb7bc63e6b6b\")>,\n",
       " <selenium.webdriver.remote.webelement.WebElement (session=\"7a7e4d19f70fe2b6a435e67ac8b60b0e\", element=\"7dded56f-7294-4598-96e9-6df09af44b35\")>,\n",
       " <selenium.webdriver.remote.webelement.WebElement (session=\"7a7e4d19f70fe2b6a435e67ac8b60b0e\", element=\"66920090-dda3-4ddb-8bb4-b258567fb4a8\")>,\n",
       " <selenium.webdriver.remote.webelement.WebElement (session=\"7a7e4d19f70fe2b6a435e67ac8b60b0e\", element=\"121131a8-45e0-40b2-af5f-34d91b299f91\")>,\n",
       " <selenium.webdriver.remote.webelement.WebElement (session=\"7a7e4d19f70fe2b6a435e67ac8b60b0e\", element=\"317313f3-1f3e-4b81-9470-064d62346de9\")>,\n",
       " <selenium.webdriver.remote.webelement.WebElement (session=\"7a7e4d19f70fe2b6a435e67ac8b60b0e\", element=\"858108a8-6199-4729-b01f-ba16fba0d216\")>,\n",
       " <selenium.webdriver.remote.webelement.WebElement (session=\"7a7e4d19f70fe2b6a435e67ac8b60b0e\", element=\"77d841f5-65be-434a-8ac4-b5aa3c581f12\")>,\n",
       " <selenium.webdriver.remote.webelement.WebElement (session=\"7a7e4d19f70fe2b6a435e67ac8b60b0e\", element=\"1535e859-292f-4e20-a122-579a61ba1d5a\")>,\n",
       " <selenium.webdriver.remote.webelement.WebElement (session=\"7a7e4d19f70fe2b6a435e67ac8b60b0e\", element=\"eee40062-2b95-4c8f-8c93-77dcecef8c2b\")>,\n",
       " <selenium.webdriver.remote.webelement.WebElement (session=\"7a7e4d19f70fe2b6a435e67ac8b60b0e\", element=\"982bae5d-163d-4de2-8ebd-79363c58a0c9\")>,\n",
       " <selenium.webdriver.remote.webelement.WebElement (session=\"7a7e4d19f70fe2b6a435e67ac8b60b0e\", element=\"9990ae97-c3b1-451c-ba6b-c24a3719ab40\")>,\n",
       " <selenium.webdriver.remote.webelement.WebElement (session=\"7a7e4d19f70fe2b6a435e67ac8b60b0e\", element=\"ab4cbac6-b09d-44a1-91af-a8f0c8add749\")>,\n",
       " <selenium.webdriver.remote.webelement.WebElement (session=\"7a7e4d19f70fe2b6a435e67ac8b60b0e\", element=\"c3bf80e5-2bf5-4470-9197-b4e3eb1bc3b5\")>]"
      ]
     },
     "execution_count": 35,
     "metadata": {},
     "output_type": "execute_result"
    }
   ],
   "source": [
    "comp_name=driver1.find_elements_by_xpath('//a[@class=\"subTitle ellipsis fleft\"]')\n",
    "comp_name"
   ]
  },
  {
   "cell_type": "code",
   "execution_count": 36,
   "id": "80b220a1",
   "metadata": {},
   "outputs": [
    {
     "data": {
      "text/plain": [
       "['Dell',\n",
       " 'Talentify',\n",
       " 'Gojek',\n",
       " 'Walmart',\n",
       " 'Walmart',\n",
       " 'Wipro',\n",
       " 'Delhivery',\n",
       " 'GSK India',\n",
       " 'PlaceMinds Consulting Pvt. Ltd',\n",
       " 'AVE-Promagne',\n",
       " 'Wipro',\n",
       " 'Fragma data systems pvt ltd',\n",
       " 'Kaplan',\n",
       " 'IBM',\n",
       " 'IBM',\n",
       " 'Signify',\n",
       " 'IBM',\n",
       " 'HDFC LIFE INSURANCE COMPANY LIMITED',\n",
       " 'Dell',\n",
       " 'IBM']"
      ]
     },
     "execution_count": 36,
     "metadata": {},
     "output_type": "execute_result"
    }
   ],
   "source": [
    "comp_name1=[]\n",
    "for i in comp_name:\n",
    "    comp_name1.append(i.text)\n",
    "    \n",
    "comp_name1"
   ]
  },
  {
   "cell_type": "code",
   "execution_count": 37,
   "id": "39627d6b",
   "metadata": {},
   "outputs": [
    {
     "data": {
      "text/html": [
       "<div>\n",
       "<style scoped>\n",
       "    .dataframe tbody tr th:only-of-type {\n",
       "        vertical-align: middle;\n",
       "    }\n",
       "\n",
       "    .dataframe tbody tr th {\n",
       "        vertical-align: top;\n",
       "    }\n",
       "\n",
       "    .dataframe thead th {\n",
       "        text-align: right;\n",
       "    }\n",
       "</style>\n",
       "<table border=\"1\" class=\"dataframe\">\n",
       "  <thead>\n",
       "    <tr style=\"text-align: right;\">\n",
       "      <th></th>\n",
       "      <th>Job-Title</th>\n",
       "      <th>Job-Location</th>\n",
       "      <th>Company-Name</th>\n",
       "    </tr>\n",
       "  </thead>\n",
       "  <tbody>\n",
       "    <tr>\n",
       "      <th>0</th>\n",
       "      <td>Global Tax Automation &amp; Operations - Data Scie...</td>\n",
       "      <td>Bangalore/Bengaluru</td>\n",
       "      <td>Dell</td>\n",
       "    </tr>\n",
       "    <tr>\n",
       "      <th>1</th>\n",
       "      <td>Data Scientist / Analyst</td>\n",
       "      <td>Hyderabad/Secunderabad, Bangalore/Bengaluru, D...</td>\n",
       "      <td>Talentify</td>\n",
       "    </tr>\n",
       "    <tr>\n",
       "      <th>2</th>\n",
       "      <td>Senior Data Scientist - Research</td>\n",
       "      <td>Bangalore/Bengaluru</td>\n",
       "      <td>Gojek</td>\n",
       "    </tr>\n",
       "    <tr>\n",
       "      <th>3</th>\n",
       "      <td>Senior Data Scientist (Marketplace)</td>\n",
       "      <td>Bangalore/Bengaluru</td>\n",
       "      <td>Walmart</td>\n",
       "    </tr>\n",
       "    <tr>\n",
       "      <th>4</th>\n",
       "      <td>Senior Data Scientist</td>\n",
       "      <td>Bangalore/Bengaluru</td>\n",
       "      <td>Walmart</td>\n",
       "    </tr>\n",
       "    <tr>\n",
       "      <th>5</th>\n",
       "      <td>Data Scientist - Lead / Architect - Looking Fo...</td>\n",
       "      <td>Hyderabad/Secunderabad, Pune, Chennai, Bangalo...</td>\n",
       "      <td>Wipro</td>\n",
       "    </tr>\n",
       "    <tr>\n",
       "      <th>6</th>\n",
       "      <td>Senior Data Scientist I</td>\n",
       "      <td>Bangalore/Bengaluru</td>\n",
       "      <td>Delhivery</td>\n",
       "    </tr>\n",
       "    <tr>\n",
       "      <th>7</th>\n",
       "      <td>Senior Risk Data Scientist</td>\n",
       "      <td>Bangalore/Bengaluru</td>\n",
       "      <td>GSK India</td>\n",
       "    </tr>\n",
       "    <tr>\n",
       "      <th>8</th>\n",
       "      <td>Senior Data Scientist - Analytics Organization...</td>\n",
       "      <td>Mumbai, Pune, Bangalore/Bengaluru</td>\n",
       "      <td>PlaceMinds Consulting Pvt. Ltd</td>\n",
       "    </tr>\n",
       "    <tr>\n",
       "      <th>9</th>\n",
       "      <td>Data Scientist / ML Engineer</td>\n",
       "      <td>Noida, Kota, Mumbai, Chandigarh, Lucknow, Agra...</td>\n",
       "      <td>AVE-Promagne</td>\n",
       "    </tr>\n",
       "    <tr>\n",
       "      <th>10</th>\n",
       "      <td>Data Scientist - Lead / Architect - Looking Fo...</td>\n",
       "      <td>Kochi/Cochin, Kolkata, Pune, Gurgaon/Gurugram,...</td>\n",
       "      <td>Wipro</td>\n",
       "    </tr>\n",
       "    <tr>\n",
       "      <th>11</th>\n",
       "      <td>Sr Data Scientist</td>\n",
       "      <td>Bangalore/Bengaluru\\n(WFH during Covid)</td>\n",
       "      <td>Fragma data systems pvt ltd</td>\n",
       "    </tr>\n",
       "    <tr>\n",
       "      <th>12</th>\n",
       "      <td>Associate Data Scientist</td>\n",
       "      <td>Bangalore/Bengaluru</td>\n",
       "      <td>Kaplan</td>\n",
       "    </tr>\n",
       "    <tr>\n",
       "      <th>13</th>\n",
       "      <td>Data Scientist: Advanced Analytics</td>\n",
       "      <td>Bangalore/Bengaluru</td>\n",
       "      <td>IBM</td>\n",
       "    </tr>\n",
       "    <tr>\n",
       "      <th>14</th>\n",
       "      <td>Data Scientist: Advanced Analytics</td>\n",
       "      <td>Bangalore/Bengaluru</td>\n",
       "      <td>IBM</td>\n",
       "    </tr>\n",
       "    <tr>\n",
       "      <th>15</th>\n",
       "      <td>Principal Data Scientist</td>\n",
       "      <td>Bangalore/Bengaluru</td>\n",
       "      <td>Signify</td>\n",
       "    </tr>\n",
       "    <tr>\n",
       "      <th>16</th>\n",
       "      <td>Data Scientist: Artificial Intelligence</td>\n",
       "      <td>Bangalore/Bengaluru</td>\n",
       "      <td>IBM</td>\n",
       "    </tr>\n",
       "    <tr>\n",
       "      <th>17</th>\n",
       "      <td>Deputy Manager - Data Scientist</td>\n",
       "      <td>Bangalore/Bengaluru</td>\n",
       "      <td>HDFC LIFE INSURANCE COMPANY LIMITED</td>\n",
       "    </tr>\n",
       "    <tr>\n",
       "      <th>18</th>\n",
       "      <td>Global Tax Automation &amp; Operations / Data Scie...</td>\n",
       "      <td>Bangalore/Bengaluru</td>\n",
       "      <td>Dell</td>\n",
       "    </tr>\n",
       "    <tr>\n",
       "      <th>19</th>\n",
       "      <td>Data Scientist</td>\n",
       "      <td>Bangalore/Bengaluru</td>\n",
       "      <td>IBM</td>\n",
       "    </tr>\n",
       "  </tbody>\n",
       "</table>\n",
       "</div>"
      ],
      "text/plain": [
       "                                            Job-Title  \\\n",
       "0   Global Tax Automation & Operations - Data Scie...   \n",
       "1                            Data Scientist / Analyst   \n",
       "2                    Senior Data Scientist - Research   \n",
       "3                 Senior Data Scientist (Marketplace)   \n",
       "4                               Senior Data Scientist   \n",
       "5   Data Scientist - Lead / Architect - Looking Fo...   \n",
       "6                             Senior Data Scientist I   \n",
       "7                          Senior Risk Data Scientist   \n",
       "8   Senior Data Scientist - Analytics Organization...   \n",
       "9                        Data Scientist / ML Engineer   \n",
       "10  Data Scientist - Lead / Architect - Looking Fo...   \n",
       "11                                  Sr Data Scientist   \n",
       "12                           Associate Data Scientist   \n",
       "13                 Data Scientist: Advanced Analytics   \n",
       "14                 Data Scientist: Advanced Analytics   \n",
       "15                           Principal Data Scientist   \n",
       "16            Data Scientist: Artificial Intelligence   \n",
       "17                    Deputy Manager - Data Scientist   \n",
       "18  Global Tax Automation & Operations / Data Scie...   \n",
       "19                                     Data Scientist   \n",
       "\n",
       "                                         Job-Location  \\\n",
       "0                                 Bangalore/Bengaluru   \n",
       "1   Hyderabad/Secunderabad, Bangalore/Bengaluru, D...   \n",
       "2                                 Bangalore/Bengaluru   \n",
       "3                                 Bangalore/Bengaluru   \n",
       "4                                 Bangalore/Bengaluru   \n",
       "5   Hyderabad/Secunderabad, Pune, Chennai, Bangalo...   \n",
       "6                                 Bangalore/Bengaluru   \n",
       "7                                 Bangalore/Bengaluru   \n",
       "8                   Mumbai, Pune, Bangalore/Bengaluru   \n",
       "9   Noida, Kota, Mumbai, Chandigarh, Lucknow, Agra...   \n",
       "10  Kochi/Cochin, Kolkata, Pune, Gurgaon/Gurugram,...   \n",
       "11            Bangalore/Bengaluru\\n(WFH during Covid)   \n",
       "12                                Bangalore/Bengaluru   \n",
       "13                                Bangalore/Bengaluru   \n",
       "14                                Bangalore/Bengaluru   \n",
       "15                                Bangalore/Bengaluru   \n",
       "16                                Bangalore/Bengaluru   \n",
       "17                                Bangalore/Bengaluru   \n",
       "18                                Bangalore/Bengaluru   \n",
       "19                                Bangalore/Bengaluru   \n",
       "\n",
       "                           Company-Name  \n",
       "0                                  Dell  \n",
       "1                             Talentify  \n",
       "2                                 Gojek  \n",
       "3                               Walmart  \n",
       "4                               Walmart  \n",
       "5                                 Wipro  \n",
       "6                             Delhivery  \n",
       "7                             GSK India  \n",
       "8        PlaceMinds Consulting Pvt. Ltd  \n",
       "9                          AVE-Promagne  \n",
       "10                                Wipro  \n",
       "11          Fragma data systems pvt ltd  \n",
       "12                               Kaplan  \n",
       "13                                  IBM  \n",
       "14                                  IBM  \n",
       "15                              Signify  \n",
       "16                                  IBM  \n",
       "17  HDFC LIFE INSURANCE COMPANY LIMITED  \n",
       "18                                 Dell  \n",
       "19                                  IBM  "
      ]
     },
     "execution_count": 37,
     "metadata": {},
     "output_type": "execute_result"
    }
   ],
   "source": [
    "df=pd.DataFrame({'Job-Title':job_titles1,'Job-Location':job_loc1,'Company-Name':comp_name1})\n",
    "df"
   ]
  },
  {
   "cell_type": "markdown",
   "id": "f98d9ba1",
   "metadata": {},
   "source": [
    "# Q3: In this question you have to scrape data using the filters available on the webpage as shown below"
   ]
  },
  {
   "cell_type": "code",
   "execution_count": 32,
   "id": "0e778884",
   "metadata": {},
   "outputs": [],
   "source": [
    "import pandas as pd \n",
    "import numpy as np\n",
    "from selenium import webdriver\n",
    "import warnings\n",
    "warnings.filterwarnings('ignore')"
   ]
  },
  {
   "cell_type": "code",
   "execution_count": 33,
   "id": "2a3c5338",
   "metadata": {},
   "outputs": [],
   "source": [
    "driver3=webdriver.Chrome('chromedriver.exe')"
   ]
  },
  {
   "cell_type": "code",
   "execution_count": 34,
   "id": "ae127241",
   "metadata": {},
   "outputs": [],
   "source": [
    "  url3='https://www.naukri.com/'\n",
    "driver3.get(url3)"
   ]
  },
  {
   "cell_type": "code",
   "execution_count": 35,
   "id": "3ee8425e",
   "metadata": {},
   "outputs": [
    {
     "data": {
      "text/plain": [
       "<selenium.webdriver.remote.webelement.WebElement (session=\"39a41e2abbeef4bd31c9d85fb4fc2a64\", element=\"7bc24804-eedf-491b-9e09-29ef15c7c4fd\")>"
      ]
     },
     "execution_count": 35,
     "metadata": {},
     "output_type": "execute_result"
    }
   ],
   "source": [
    "srh_job3=driver3.find_element_by_class_name('suggestor-input')\n",
    "srh_job3"
   ]
  },
  {
   "cell_type": "code",
   "execution_count": 36,
   "id": "c16a58d7",
   "metadata": {},
   "outputs": [],
   "source": [
    "srh_job3.send_keys('Data Scientist')"
   ]
  },
  {
   "cell_type": "code",
   "execution_count": 37,
   "id": "8f16cffa",
   "metadata": {},
   "outputs": [],
   "source": [
    "srh_btn3=driver3.find_element_by_class_name('qsbSubmit')\n",
    "srh_btn3.click()"
   ]
  },
  {
   "cell_type": "code",
   "execution_count": 38,
   "id": "03f17936",
   "metadata": {},
   "outputs": [],
   "source": [
    "loc_filter=driver3.find_element_by_xpath('/html/body/div[1]/div[3]/div[2]/section[1]/div[2]/div[3]/div[2]/div[3]/label/p/span[2]')\n",
    "loc_filter.click()"
   ]
  },
  {
   "cell_type": "code",
   "execution_count": 39,
   "id": "5a4f85f0",
   "metadata": {},
   "outputs": [],
   "source": [
    "sal_filter=driver3.find_element_by_xpath('/html/body/div[1]/div[3]/div[2]/section[1]/div[2]/div[4]/div[2]/div[2]/label/p/span[1]')\n",
    "sal_filter.click()"
   ]
  },
  {
   "cell_type": "code",
   "execution_count": 40,
   "id": "52e3f036",
   "metadata": {},
   "outputs": [
    {
     "data": {
      "text/plain": [
       "[<selenium.webdriver.remote.webelement.WebElement (session=\"39a41e2abbeef4bd31c9d85fb4fc2a64\", element=\"75ddec0f-9e56-4b7e-b412-d879817cb3aa\")>,\n",
       " <selenium.webdriver.remote.webelement.WebElement (session=\"39a41e2abbeef4bd31c9d85fb4fc2a64\", element=\"f9b9c912-bb80-4ca4-927d-522a74fea6c1\")>,\n",
       " <selenium.webdriver.remote.webelement.WebElement (session=\"39a41e2abbeef4bd31c9d85fb4fc2a64\", element=\"9b0f9ffc-7820-4ce9-b08d-b05b7afd0c1f\")>,\n",
       " <selenium.webdriver.remote.webelement.WebElement (session=\"39a41e2abbeef4bd31c9d85fb4fc2a64\", element=\"b9232cd6-b852-4834-80c7-b04a2eac9ca0\")>,\n",
       " <selenium.webdriver.remote.webelement.WebElement (session=\"39a41e2abbeef4bd31c9d85fb4fc2a64\", element=\"d67ab6c3-0bfd-4d2a-9092-11cf1106aec9\")>,\n",
       " <selenium.webdriver.remote.webelement.WebElement (session=\"39a41e2abbeef4bd31c9d85fb4fc2a64\", element=\"08e1229f-1e03-4ff6-bd5e-6c18954da658\")>,\n",
       " <selenium.webdriver.remote.webelement.WebElement (session=\"39a41e2abbeef4bd31c9d85fb4fc2a64\", element=\"3de379a4-f902-4ec8-9d6a-4b7dc08708d1\")>,\n",
       " <selenium.webdriver.remote.webelement.WebElement (session=\"39a41e2abbeef4bd31c9d85fb4fc2a64\", element=\"4bf5de51-4732-4c50-bf28-be805f5041ce\")>,\n",
       " <selenium.webdriver.remote.webelement.WebElement (session=\"39a41e2abbeef4bd31c9d85fb4fc2a64\", element=\"122c9846-bc4b-4a46-b019-c6b82af64e0b\")>,\n",
       " <selenium.webdriver.remote.webelement.WebElement (session=\"39a41e2abbeef4bd31c9d85fb4fc2a64\", element=\"a9aa76dc-0c3d-4d9b-8c61-7dbfe3fd191b\")>,\n",
       " <selenium.webdriver.remote.webelement.WebElement (session=\"39a41e2abbeef4bd31c9d85fb4fc2a64\", element=\"4325056d-c834-41a0-8b96-f8042cda1e8f\")>,\n",
       " <selenium.webdriver.remote.webelement.WebElement (session=\"39a41e2abbeef4bd31c9d85fb4fc2a64\", element=\"a2ddc6ae-3fca-480d-a015-42944d0fefea\")>,\n",
       " <selenium.webdriver.remote.webelement.WebElement (session=\"39a41e2abbeef4bd31c9d85fb4fc2a64\", element=\"38d9b6c8-4084-45c4-bec4-e0c762d68b8a\")>,\n",
       " <selenium.webdriver.remote.webelement.WebElement (session=\"39a41e2abbeef4bd31c9d85fb4fc2a64\", element=\"097badc8-059b-42e1-a083-5233363992b1\")>,\n",
       " <selenium.webdriver.remote.webelement.WebElement (session=\"39a41e2abbeef4bd31c9d85fb4fc2a64\", element=\"84252e60-b3c8-4d1c-b536-8938666063b6\")>,\n",
       " <selenium.webdriver.remote.webelement.WebElement (session=\"39a41e2abbeef4bd31c9d85fb4fc2a64\", element=\"8c527de4-1c17-49a1-8abe-884827d9f0e6\")>,\n",
       " <selenium.webdriver.remote.webelement.WebElement (session=\"39a41e2abbeef4bd31c9d85fb4fc2a64\", element=\"c3cbd06b-901d-4f8c-af8e-9f32035f4899\")>,\n",
       " <selenium.webdriver.remote.webelement.WebElement (session=\"39a41e2abbeef4bd31c9d85fb4fc2a64\", element=\"ae3f33fc-f437-4f17-8749-5e1dd54df239\")>,\n",
       " <selenium.webdriver.remote.webelement.WebElement (session=\"39a41e2abbeef4bd31c9d85fb4fc2a64\", element=\"797aa26e-a75b-4a58-82b3-392434c041d7\")>,\n",
       " <selenium.webdriver.remote.webelement.WebElement (session=\"39a41e2abbeef4bd31c9d85fb4fc2a64\", element=\"f2c256ea-b4fd-42ef-92b1-639a54188757\")>]"
      ]
     },
     "execution_count": 40,
     "metadata": {},
     "output_type": "execute_result"
    }
   ],
   "source": [
    "job_tags2=driver3.find_elements_by_xpath('//a[@class=\"title fw500 ellipsis\"]')\n",
    "job_tags2"
   ]
  },
  {
   "cell_type": "code",
   "execution_count": 42,
   "id": "20c66c43",
   "metadata": {},
   "outputs": [
    {
     "data": {
      "text/plain": [
       "20"
      ]
     },
     "execution_count": 42,
     "metadata": {},
     "output_type": "execute_result"
    }
   ],
   "source": [
    "len(job_tags2)"
   ]
  },
  {
   "cell_type": "code",
   "execution_count": 43,
   "id": "fd78e12a",
   "metadata": {},
   "outputs": [
    {
     "data": {
      "text/plain": [
       "['Data Scientist | A Fintech Organisation',\n",
       " 'Data Scientist-Onsite and offshore',\n",
       " 'Data Scientist II',\n",
       " 'Opening For Data Scientist',\n",
       " 'Data & Applied Scientist',\n",
       " 'Data and applied Scientist',\n",
       " 'Data Scientist / Senior DS/ Team Lead',\n",
       " 'Data Scientist',\n",
       " 'Data Scientist (ML AI Engineer) / InfoObjects Inc.',\n",
       " 'Urgent Requirement || Data Scientist || Noida']"
      ]
     },
     "execution_count": 43,
     "metadata": {},
     "output_type": "execute_result"
    }
   ],
   "source": [
    "job_head=[]\n",
    "for i in job_tags2:\n",
    "    job_head.append(i.text)\n",
    "    job_head=job_head[0:10]\n",
    "    \n",
    "job_head "
   ]
  },
  {
   "cell_type": "code",
   "execution_count": 44,
   "id": "7d4b6258",
   "metadata": {},
   "outputs": [
    {
     "data": {
      "text/plain": [
       "[<selenium.webdriver.remote.webelement.WebElement (session=\"39a41e2abbeef4bd31c9d85fb4fc2a64\", element=\"d384219e-04a3-4478-8f11-a3174b64babd\")>,\n",
       " <selenium.webdriver.remote.webelement.WebElement (session=\"39a41e2abbeef4bd31c9d85fb4fc2a64\", element=\"9185d3f8-58aa-4eb6-b201-19fbc9a3b5b1\")>,\n",
       " <selenium.webdriver.remote.webelement.WebElement (session=\"39a41e2abbeef4bd31c9d85fb4fc2a64\", element=\"ed5790e1-7479-45dd-904b-e22ddc61e22e\")>,\n",
       " <selenium.webdriver.remote.webelement.WebElement (session=\"39a41e2abbeef4bd31c9d85fb4fc2a64\", element=\"8cc9d784-9b3a-485e-9f44-92c0fac67dc7\")>,\n",
       " <selenium.webdriver.remote.webelement.WebElement (session=\"39a41e2abbeef4bd31c9d85fb4fc2a64\", element=\"baa94e15-9ed1-4289-9203-f493ccd2deea\")>,\n",
       " <selenium.webdriver.remote.webelement.WebElement (session=\"39a41e2abbeef4bd31c9d85fb4fc2a64\", element=\"d03051ef-edd5-4bca-93a9-873149af9c8e\")>,\n",
       " <selenium.webdriver.remote.webelement.WebElement (session=\"39a41e2abbeef4bd31c9d85fb4fc2a64\", element=\"82ea0f46-2eb9-4f96-aeab-654f211bc73b\")>,\n",
       " <selenium.webdriver.remote.webelement.WebElement (session=\"39a41e2abbeef4bd31c9d85fb4fc2a64\", element=\"6a138bd3-d00a-4a5d-a837-f9548d892232\")>,\n",
       " <selenium.webdriver.remote.webelement.WebElement (session=\"39a41e2abbeef4bd31c9d85fb4fc2a64\", element=\"498d090e-2287-4be1-ad8c-e4058234381e\")>,\n",
       " <selenium.webdriver.remote.webelement.WebElement (session=\"39a41e2abbeef4bd31c9d85fb4fc2a64\", element=\"8651b3a4-b471-4c8b-9852-f5e98b6685bd\")>,\n",
       " <selenium.webdriver.remote.webelement.WebElement (session=\"39a41e2abbeef4bd31c9d85fb4fc2a64\", element=\"38d75750-e8b1-4c55-80dc-f3e473a396f7\")>,\n",
       " <selenium.webdriver.remote.webelement.WebElement (session=\"39a41e2abbeef4bd31c9d85fb4fc2a64\", element=\"b3c45ed5-9c2d-4836-9512-b55ad8155980\")>,\n",
       " <selenium.webdriver.remote.webelement.WebElement (session=\"39a41e2abbeef4bd31c9d85fb4fc2a64\", element=\"cf52033c-45fd-42a9-849b-4f5ee1815920\")>,\n",
       " <selenium.webdriver.remote.webelement.WebElement (session=\"39a41e2abbeef4bd31c9d85fb4fc2a64\", element=\"f8e56b25-f64d-4397-a935-012adb9b37d6\")>,\n",
       " <selenium.webdriver.remote.webelement.WebElement (session=\"39a41e2abbeef4bd31c9d85fb4fc2a64\", element=\"17f50f33-2ea1-496e-a3fc-8f5daf075b9b\")>,\n",
       " <selenium.webdriver.remote.webelement.WebElement (session=\"39a41e2abbeef4bd31c9d85fb4fc2a64\", element=\"0592c3cd-5419-4ef5-9f41-87f5eae48cc2\")>,\n",
       " <selenium.webdriver.remote.webelement.WebElement (session=\"39a41e2abbeef4bd31c9d85fb4fc2a64\", element=\"0f8273f6-afa3-47ba-b0a7-e6f60600b80d\")>,\n",
       " <selenium.webdriver.remote.webelement.WebElement (session=\"39a41e2abbeef4bd31c9d85fb4fc2a64\", element=\"94a36470-7b6d-4649-b8e0-31bf3c05aa31\")>,\n",
       " <selenium.webdriver.remote.webelement.WebElement (session=\"39a41e2abbeef4bd31c9d85fb4fc2a64\", element=\"1523e1b4-1a5d-4a7b-a0da-1610cc3f9729\")>,\n",
       " <selenium.webdriver.remote.webelement.WebElement (session=\"39a41e2abbeef4bd31c9d85fb4fc2a64\", element=\"15273776-d7ac-44db-a402-782f2b3dae3a\")>]"
      ]
     },
     "execution_count": 44,
     "metadata": {},
     "output_type": "execute_result"
    }
   ],
   "source": [
    "job_loc3=driver3.find_elements_by_xpath('//li[@class=\"fleft grey-text br2 placeHolderLi location\"]')\n",
    "job_loc3"
   ]
  },
  {
   "cell_type": "code",
   "execution_count": 45,
   "id": "db4ed3da",
   "metadata": {},
   "outputs": [
    {
     "data": {
      "text/plain": [
       "20"
      ]
     },
     "execution_count": 45,
     "metadata": {},
     "output_type": "execute_result"
    }
   ],
   "source": [
    "len(job_loc3)"
   ]
  },
  {
   "cell_type": "code",
   "execution_count": 46,
   "id": "c5fec6f0",
   "metadata": {},
   "outputs": [
    {
     "data": {
      "text/plain": [
       "['Gurgaon/Gurugram',\n",
       " 'Hyderabad/Secunderabad, Pune, Chennai, Bangalore/Bengaluru, Delhi / NCR, Mumbai (All Areas)',\n",
       " 'Delhi / NCR',\n",
       " 'Gurgaon/Gurugram',\n",
       " 'Noida, Hyderabad/Secunderabad, Bangalore/Bengaluru',\n",
       " 'Noida, Hyderabad/Secunderabad, Bangalore/Bengaluru',\n",
       " 'Mumbai, Gurgaon/Gurugram(Cyber City +1)',\n",
       " 'New Delhi, Delhi / NCR, Mumbai (All Areas)',\n",
       " 'Indore, Jaipur, Delhi / NCR\\n(WFH during Covid)',\n",
       " 'Noida, Delhi / NCR']"
      ]
     },
     "execution_count": 46,
     "metadata": {},
     "output_type": "execute_result"
    }
   ],
   "source": [
    "job_location=[]\n",
    "for i in job_loc3:\n",
    "    job_location.append(i.text)\n",
    "    job_location=job_location[0:10]\n",
    "    \n",
    "job_location "
   ]
  },
  {
   "cell_type": "code",
   "execution_count": 50,
   "id": "c69c79b1",
   "metadata": {},
   "outputs": [
    {
     "data": {
      "text/plain": [
       "[<selenium.webdriver.remote.webelement.WebElement (session=\"39a41e2abbeef4bd31c9d85fb4fc2a64\", element=\"69ae07c9-cf08-4e6a-9aef-e16816bd5dd1\")>,\n",
       " <selenium.webdriver.remote.webelement.WebElement (session=\"39a41e2abbeef4bd31c9d85fb4fc2a64\", element=\"0bc75bd0-a8ef-4821-86fa-08255edc4645\")>,\n",
       " <selenium.webdriver.remote.webelement.WebElement (session=\"39a41e2abbeef4bd31c9d85fb4fc2a64\", element=\"4474e512-bf22-477d-9ce2-7100b55b8160\")>,\n",
       " <selenium.webdriver.remote.webelement.WebElement (session=\"39a41e2abbeef4bd31c9d85fb4fc2a64\", element=\"17ef98c6-ff65-4416-9755-f0a65f2adcc6\")>,\n",
       " <selenium.webdriver.remote.webelement.WebElement (session=\"39a41e2abbeef4bd31c9d85fb4fc2a64\", element=\"621155bf-7227-4afe-96ce-368bec81f2b8\")>,\n",
       " <selenium.webdriver.remote.webelement.WebElement (session=\"39a41e2abbeef4bd31c9d85fb4fc2a64\", element=\"fae9cdca-714a-40e2-bf94-d1e64b5d61e7\")>,\n",
       " <selenium.webdriver.remote.webelement.WebElement (session=\"39a41e2abbeef4bd31c9d85fb4fc2a64\", element=\"8ba9cd9f-4555-4380-8bc5-6b3456a1a571\")>,\n",
       " <selenium.webdriver.remote.webelement.WebElement (session=\"39a41e2abbeef4bd31c9d85fb4fc2a64\", element=\"eab5e821-a3b5-424a-bc37-f572ca494a3b\")>,\n",
       " <selenium.webdriver.remote.webelement.WebElement (session=\"39a41e2abbeef4bd31c9d85fb4fc2a64\", element=\"4b826295-eff4-4eae-9a3e-cd862fdb7b59\")>,\n",
       " <selenium.webdriver.remote.webelement.WebElement (session=\"39a41e2abbeef4bd31c9d85fb4fc2a64\", element=\"99a65521-eb0a-407f-b7bb-7c6bb7038d5f\")>,\n",
       " <selenium.webdriver.remote.webelement.WebElement (session=\"39a41e2abbeef4bd31c9d85fb4fc2a64\", element=\"5b19e9f3-ff50-4233-b2b4-ea627b285092\")>,\n",
       " <selenium.webdriver.remote.webelement.WebElement (session=\"39a41e2abbeef4bd31c9d85fb4fc2a64\", element=\"55a511d3-5556-4e59-880e-ebdc8a37d5d3\")>,\n",
       " <selenium.webdriver.remote.webelement.WebElement (session=\"39a41e2abbeef4bd31c9d85fb4fc2a64\", element=\"0da6162c-9c42-4195-ba2c-0a2005b2815f\")>,\n",
       " <selenium.webdriver.remote.webelement.WebElement (session=\"39a41e2abbeef4bd31c9d85fb4fc2a64\", element=\"bf25fe01-484e-4330-91b1-2a7af1de6a98\")>,\n",
       " <selenium.webdriver.remote.webelement.WebElement (session=\"39a41e2abbeef4bd31c9d85fb4fc2a64\", element=\"0f58ae93-2ca0-4599-92cf-7a69176fc764\")>,\n",
       " <selenium.webdriver.remote.webelement.WebElement (session=\"39a41e2abbeef4bd31c9d85fb4fc2a64\", element=\"138589d9-4f33-4193-bd22-d6e1faf9d05a\")>,\n",
       " <selenium.webdriver.remote.webelement.WebElement (session=\"39a41e2abbeef4bd31c9d85fb4fc2a64\", element=\"690dea93-5e5e-44cb-a89b-f27e5634266c\")>,\n",
       " <selenium.webdriver.remote.webelement.WebElement (session=\"39a41e2abbeef4bd31c9d85fb4fc2a64\", element=\"ed23e389-e064-4ba4-9f23-b676655b56f9\")>,\n",
       " <selenium.webdriver.remote.webelement.WebElement (session=\"39a41e2abbeef4bd31c9d85fb4fc2a64\", element=\"38f1f9d1-2c9d-4530-a5b4-56ed5a8ced3a\")>,\n",
       " <selenium.webdriver.remote.webelement.WebElement (session=\"39a41e2abbeef4bd31c9d85fb4fc2a64\", element=\"c8bbe7d0-6454-4c47-804e-803b2bce9df4\")>]"
      ]
     },
     "execution_count": 50,
     "metadata": {},
     "output_type": "execute_result"
    }
   ],
   "source": [
    "comp_name3=driver3.find_elements_by_xpath('//a[@class=\"subTitle ellipsis fleft\"]')\n",
    "comp_name3"
   ]
  },
  {
   "cell_type": "code",
   "execution_count": 51,
   "id": "a0883852",
   "metadata": {},
   "outputs": [
    {
     "data": {
      "text/plain": [
       "20"
      ]
     },
     "execution_count": 51,
     "metadata": {},
     "output_type": "execute_result"
    }
   ],
   "source": [
    "len(comp_name3)"
   ]
  },
  {
   "cell_type": "code",
   "execution_count": 55,
   "id": "d7c5b96a",
   "metadata": {},
   "outputs": [
    {
     "data": {
      "text/plain": [
       "['Vision Beyond Resources India Private Limited',\n",
       " 'PROKXIMITY',\n",
       " 'Chegg',\n",
       " 'Care Health Insurance',\n",
       " 'Microsoft',\n",
       " 'Microsoft',\n",
       " 'NebulARC Technologies Private Limited',\n",
       " 'Cloudstrats Technologies Private Limited',\n",
       " 'INFOOBJECTS SOFTWARE ( INDIA) PRIVATE LIMITED',\n",
       " 'HCL']"
      ]
     },
     "execution_count": 55,
     "metadata": {},
     "output_type": "execute_result"
    }
   ],
   "source": [
    "comp_name2=[]\n",
    "for i in comp_name3:\n",
    "    comp_name2.append(i.text)\n",
    "    comp_name2=comp_name2[0:10]\n",
    "    \n",
    "comp_name2"
   ]
  },
  {
   "cell_type": "code",
   "execution_count": 56,
   "id": "79579b4f",
   "metadata": {},
   "outputs": [
    {
     "data": {
      "text/plain": [
       "[<selenium.webdriver.remote.webelement.WebElement (session=\"39a41e2abbeef4bd31c9d85fb4fc2a64\", element=\"d359aee4-dbe1-4407-9485-e4d0196157e7\")>,\n",
       " <selenium.webdriver.remote.webelement.WebElement (session=\"39a41e2abbeef4bd31c9d85fb4fc2a64\", element=\"5d2964ed-4af7-41dc-a03a-df3c8453608d\")>,\n",
       " <selenium.webdriver.remote.webelement.WebElement (session=\"39a41e2abbeef4bd31c9d85fb4fc2a64\", element=\"178daa13-d042-44e1-8b25-5a1a25ce0f0b\")>,\n",
       " <selenium.webdriver.remote.webelement.WebElement (session=\"39a41e2abbeef4bd31c9d85fb4fc2a64\", element=\"1f57b907-3dad-4998-ae25-5dbdfa05d6d3\")>,\n",
       " <selenium.webdriver.remote.webelement.WebElement (session=\"39a41e2abbeef4bd31c9d85fb4fc2a64\", element=\"c7f1447f-4cc4-4692-ab75-f6a111ef9ebc\")>,\n",
       " <selenium.webdriver.remote.webelement.WebElement (session=\"39a41e2abbeef4bd31c9d85fb4fc2a64\", element=\"68ad637a-e3da-49ab-8cfd-7e42e46ef609\")>,\n",
       " <selenium.webdriver.remote.webelement.WebElement (session=\"39a41e2abbeef4bd31c9d85fb4fc2a64\", element=\"bebd973a-4b75-4244-aa52-6fb01090d863\")>,\n",
       " <selenium.webdriver.remote.webelement.WebElement (session=\"39a41e2abbeef4bd31c9d85fb4fc2a64\", element=\"867f6fe5-a1e3-45bb-a842-aefd891110b9\")>,\n",
       " <selenium.webdriver.remote.webelement.WebElement (session=\"39a41e2abbeef4bd31c9d85fb4fc2a64\", element=\"71c778e3-7f4a-4869-813f-f25471897d89\")>,\n",
       " <selenium.webdriver.remote.webelement.WebElement (session=\"39a41e2abbeef4bd31c9d85fb4fc2a64\", element=\"95319015-85de-4bf3-9abe-806f060ddd8e\")>,\n",
       " <selenium.webdriver.remote.webelement.WebElement (session=\"39a41e2abbeef4bd31c9d85fb4fc2a64\", element=\"a5777b21-01f7-4f1f-9861-31b77a2e2e23\")>,\n",
       " <selenium.webdriver.remote.webelement.WebElement (session=\"39a41e2abbeef4bd31c9d85fb4fc2a64\", element=\"0f316c63-8a30-4010-8b94-f23f64cd9a07\")>,\n",
       " <selenium.webdriver.remote.webelement.WebElement (session=\"39a41e2abbeef4bd31c9d85fb4fc2a64\", element=\"dd012a3a-7c54-4001-b5a1-b9bf9b3b9f96\")>,\n",
       " <selenium.webdriver.remote.webelement.WebElement (session=\"39a41e2abbeef4bd31c9d85fb4fc2a64\", element=\"3d12e479-9cfa-432a-a1be-2b8be1061748\")>,\n",
       " <selenium.webdriver.remote.webelement.WebElement (session=\"39a41e2abbeef4bd31c9d85fb4fc2a64\", element=\"75c56c79-5309-4201-b6ff-df62e7d0f773\")>,\n",
       " <selenium.webdriver.remote.webelement.WebElement (session=\"39a41e2abbeef4bd31c9d85fb4fc2a64\", element=\"90fd2307-30c1-4edd-bed8-9f442be0b514\")>,\n",
       " <selenium.webdriver.remote.webelement.WebElement (session=\"39a41e2abbeef4bd31c9d85fb4fc2a64\", element=\"a8c0c615-ed5b-4848-beab-df677298050e\")>,\n",
       " <selenium.webdriver.remote.webelement.WebElement (session=\"39a41e2abbeef4bd31c9d85fb4fc2a64\", element=\"881b466e-cfe2-4714-af91-c86a148d2526\")>,\n",
       " <selenium.webdriver.remote.webelement.WebElement (session=\"39a41e2abbeef4bd31c9d85fb4fc2a64\", element=\"02e16a7b-f99a-4a2b-bf58-d982592731b0\")>,\n",
       " <selenium.webdriver.remote.webelement.WebElement (session=\"39a41e2abbeef4bd31c9d85fb4fc2a64\", element=\"13843ff0-6bba-4cbe-b36d-0e7c5e998bbf\")>]"
      ]
     },
     "execution_count": 56,
     "metadata": {},
     "output_type": "execute_result"
    }
   ],
   "source": [
    "expirence=driver3.find_elements_by_xpath('//span[contains(@title,\"Yrs\")]')\n",
    "expirence"
   ]
  },
  {
   "cell_type": "code",
   "execution_count": 57,
   "id": "002b94b4",
   "metadata": {},
   "outputs": [
    {
     "data": {
      "text/plain": [
       "20"
      ]
     },
     "execution_count": 57,
     "metadata": {},
     "output_type": "execute_result"
    }
   ],
   "source": [
    "len(expirence)"
   ]
  },
  {
   "cell_type": "code",
   "execution_count": 58,
   "id": "f295d1f5",
   "metadata": {},
   "outputs": [
    {
     "data": {
      "text/plain": [
       "['2-7 Yrs',\n",
       " '3-8 Yrs',\n",
       " '2-6 Yrs',\n",
       " '1-5 Yrs',\n",
       " '3-7 Yrs',\n",
       " '3-7 Yrs',\n",
       " '0-4 Yrs',\n",
       " '3-5 Yrs',\n",
       " '3-7 Yrs',\n",
       " '3-8 Yrs']"
      ]
     },
     "execution_count": 58,
     "metadata": {},
     "output_type": "execute_result"
    }
   ],
   "source": [
    "exp_req=[]\n",
    "for i in expirence:\n",
    "    exp_req.append(i.text)\n",
    "    exp_req=exp_req[0:10]\n",
    "    \n",
    "exp_req"
   ]
  },
  {
   "cell_type": "code",
   "execution_count": 59,
   "id": "7057a563",
   "metadata": {},
   "outputs": [
    {
     "data": {
      "text/html": [
       "<div>\n",
       "<style scoped>\n",
       "    .dataframe tbody tr th:only-of-type {\n",
       "        vertical-align: middle;\n",
       "    }\n",
       "\n",
       "    .dataframe tbody tr th {\n",
       "        vertical-align: top;\n",
       "    }\n",
       "\n",
       "    .dataframe thead th {\n",
       "        text-align: right;\n",
       "    }\n",
       "</style>\n",
       "<table border=\"1\" class=\"dataframe\">\n",
       "  <thead>\n",
       "    <tr style=\"text-align: right;\">\n",
       "      <th></th>\n",
       "      <th>Job-Title</th>\n",
       "      <th>Job-Location</th>\n",
       "      <th>Company-Name</th>\n",
       "      <th>Expirence-Required</th>\n",
       "    </tr>\n",
       "  </thead>\n",
       "  <tbody>\n",
       "    <tr>\n",
       "      <th>0</th>\n",
       "      <td>Data Scientist | A Fintech Organisation</td>\n",
       "      <td>Gurgaon/Gurugram</td>\n",
       "      <td>Vision Beyond Resources India Private Limited</td>\n",
       "      <td>2-7 Yrs</td>\n",
       "    </tr>\n",
       "    <tr>\n",
       "      <th>1</th>\n",
       "      <td>Data Scientist-Onsite and offshore</td>\n",
       "      <td>Hyderabad/Secunderabad, Pune, Chennai, Bangalo...</td>\n",
       "      <td>PROKXIMITY</td>\n",
       "      <td>3-8 Yrs</td>\n",
       "    </tr>\n",
       "    <tr>\n",
       "      <th>2</th>\n",
       "      <td>Data Scientist II</td>\n",
       "      <td>Delhi / NCR</td>\n",
       "      <td>Chegg</td>\n",
       "      <td>2-6 Yrs</td>\n",
       "    </tr>\n",
       "    <tr>\n",
       "      <th>3</th>\n",
       "      <td>Opening For Data Scientist</td>\n",
       "      <td>Gurgaon/Gurugram</td>\n",
       "      <td>Care Health Insurance</td>\n",
       "      <td>1-5 Yrs</td>\n",
       "    </tr>\n",
       "    <tr>\n",
       "      <th>4</th>\n",
       "      <td>Data &amp; Applied Scientist</td>\n",
       "      <td>Noida, Hyderabad/Secunderabad, Bangalore/Benga...</td>\n",
       "      <td>Microsoft</td>\n",
       "      <td>3-7 Yrs</td>\n",
       "    </tr>\n",
       "    <tr>\n",
       "      <th>5</th>\n",
       "      <td>Data and applied Scientist</td>\n",
       "      <td>Noida, Hyderabad/Secunderabad, Bangalore/Benga...</td>\n",
       "      <td>Microsoft</td>\n",
       "      <td>3-7 Yrs</td>\n",
       "    </tr>\n",
       "    <tr>\n",
       "      <th>6</th>\n",
       "      <td>Data Scientist / Senior DS/ Team Lead</td>\n",
       "      <td>Mumbai, Gurgaon/Gurugram(Cyber City +1)</td>\n",
       "      <td>NebulARC Technologies Private Limited</td>\n",
       "      <td>0-4 Yrs</td>\n",
       "    </tr>\n",
       "    <tr>\n",
       "      <th>7</th>\n",
       "      <td>Data Scientist</td>\n",
       "      <td>New Delhi, Delhi / NCR, Mumbai (All Areas)</td>\n",
       "      <td>Cloudstrats Technologies Private Limited</td>\n",
       "      <td>3-5 Yrs</td>\n",
       "    </tr>\n",
       "    <tr>\n",
       "      <th>8</th>\n",
       "      <td>Data Scientist (ML AI Engineer) / InfoObjects ...</td>\n",
       "      <td>Indore, Jaipur, Delhi / NCR\\n(WFH during Covid)</td>\n",
       "      <td>INFOOBJECTS SOFTWARE ( INDIA) PRIVATE LIMITED</td>\n",
       "      <td>3-7 Yrs</td>\n",
       "    </tr>\n",
       "    <tr>\n",
       "      <th>9</th>\n",
       "      <td>Urgent Requirement || Data Scientist || Noida</td>\n",
       "      <td>Noida, Delhi / NCR</td>\n",
       "      <td>HCL</td>\n",
       "      <td>3-8 Yrs</td>\n",
       "    </tr>\n",
       "  </tbody>\n",
       "</table>\n",
       "</div>"
      ],
      "text/plain": [
       "                                           Job-Title  \\\n",
       "0            Data Scientist | A Fintech Organisation   \n",
       "1                 Data Scientist-Onsite and offshore   \n",
       "2                                  Data Scientist II   \n",
       "3                         Opening For Data Scientist   \n",
       "4                           Data & Applied Scientist   \n",
       "5                         Data and applied Scientist   \n",
       "6              Data Scientist / Senior DS/ Team Lead   \n",
       "7                                     Data Scientist   \n",
       "8  Data Scientist (ML AI Engineer) / InfoObjects ...   \n",
       "9      Urgent Requirement || Data Scientist || Noida   \n",
       "\n",
       "                                        Job-Location  \\\n",
       "0                                   Gurgaon/Gurugram   \n",
       "1  Hyderabad/Secunderabad, Pune, Chennai, Bangalo...   \n",
       "2                                        Delhi / NCR   \n",
       "3                                   Gurgaon/Gurugram   \n",
       "4  Noida, Hyderabad/Secunderabad, Bangalore/Benga...   \n",
       "5  Noida, Hyderabad/Secunderabad, Bangalore/Benga...   \n",
       "6            Mumbai, Gurgaon/Gurugram(Cyber City +1)   \n",
       "7         New Delhi, Delhi / NCR, Mumbai (All Areas)   \n",
       "8    Indore, Jaipur, Delhi / NCR\\n(WFH during Covid)   \n",
       "9                                 Noida, Delhi / NCR   \n",
       "\n",
       "                                    Company-Name Expirence-Required  \n",
       "0  Vision Beyond Resources India Private Limited            2-7 Yrs  \n",
       "1                                     PROKXIMITY            3-8 Yrs  \n",
       "2                                          Chegg            2-6 Yrs  \n",
       "3                          Care Health Insurance            1-5 Yrs  \n",
       "4                                      Microsoft            3-7 Yrs  \n",
       "5                                      Microsoft            3-7 Yrs  \n",
       "6          NebulARC Technologies Private Limited            0-4 Yrs  \n",
       "7       Cloudstrats Technologies Private Limited            3-5 Yrs  \n",
       "8  INFOOBJECTS SOFTWARE ( INDIA) PRIVATE LIMITED            3-7 Yrs  \n",
       "9                                            HCL            3-8 Yrs  "
      ]
     },
     "execution_count": 59,
     "metadata": {},
     "output_type": "execute_result"
    }
   ],
   "source": [
    "df=pd.DataFrame({'Job-Title':job_head,'Job-Location':job_location,'Company-Name':comp_name2,'Expirence-Required':exp_req})\n",
    "df"
   ]
  },
  {
   "cell_type": "markdown",
   "id": "f9a265f1",
   "metadata": {},
   "source": [
    "# Q4: Scrape data of first 100 sunglasses listings on flipkart.com. You have to scrape four attributes"
   ]
  },
  {
   "cell_type": "code",
   "execution_count": 60,
   "id": "f372ca28",
   "metadata": {},
   "outputs": [],
   "source": [
    "# Let's import all required libraries\n",
    "import selenium\n",
    "from selenium import webdriver\n",
    "import pandas as pd\n",
    "import warnings\n",
    "warnings.filterwarnings(\"ignore\")"
   ]
  },
  {
   "cell_type": "code",
   "execution_count": 61,
   "id": "e73fd8f5",
   "metadata": {},
   "outputs": [],
   "source": [
    "driver4=webdriver.Chrome('chromedriver.exe')"
   ]
  },
  {
   "cell_type": "code",
   "execution_count": 62,
   "id": "1e157e27",
   "metadata": {},
   "outputs": [],
   "source": [
    "url4='https://www.flipkart.com/'\n",
    "driver4.get(url4)"
   ]
  },
  {
   "cell_type": "code",
   "execution_count": 63,
   "id": "3b6b9799",
   "metadata": {},
   "outputs": [
    {
     "data": {
      "text/plain": [
       "<selenium.webdriver.remote.webelement.WebElement (session=\"da6fc58b8a238cca61cd03c629e20319\", element=\"7e07e029-1f43-40b9-ac11-e6037db5730b\")>"
      ]
     },
     "execution_count": 63,
     "metadata": {},
     "output_type": "execute_result"
    }
   ],
   "source": [
    "srh_glass=driver4.find_element_by_class_name('_3704LK')\n",
    "srh_glass"
   ]
  },
  {
   "cell_type": "code",
   "execution_count": 64,
   "id": "86f58eb0",
   "metadata": {},
   "outputs": [],
   "source": [
    "srh_glass.send_keys('sunglasses')"
   ]
  },
  {
   "cell_type": "code",
   "execution_count": 65,
   "id": "bf59245f",
   "metadata": {},
   "outputs": [],
   "source": [
    "srh_btn4=driver4.find_element_by_class_name('L0Z3Pu')\n",
    "srh_btn4.click()"
   ]
  },
  {
   "cell_type": "code",
   "execution_count": 66,
   "id": "821f9803",
   "metadata": {},
   "outputs": [
    {
     "data": {
      "text/plain": [
       "<selenium.webdriver.remote.webelement.WebElement (session=\"da6fc58b8a238cca61cd03c629e20319\", element=\"ee189d1f-ad0d-4738-8fb3-17ae556791fc\")>"
      ]
     },
     "execution_count": 66,
     "metadata": {},
     "output_type": "execute_result"
    }
   ],
   "source": [
    "brand=driver4.find_element_by_class_name('_2WkVRV')\n",
    "brand"
   ]
  },
  {
   "cell_type": "code",
   "execution_count": 67,
   "id": "27a96aae",
   "metadata": {},
   "outputs": [
    {
     "data": {
      "text/plain": [
       "'Singco India'"
      ]
     },
     "execution_count": 67,
     "metadata": {},
     "output_type": "execute_result"
    }
   ],
   "source": [
    "brand.text"
   ]
  },
  {
   "cell_type": "code",
   "execution_count": 68,
   "id": "0908b19e",
   "metadata": {},
   "outputs": [
    {
     "data": {
      "text/plain": [
       "[<selenium.webdriver.remote.webelement.WebElement (session=\"da6fc58b8a238cca61cd03c629e20319\", element=\"ee189d1f-ad0d-4738-8fb3-17ae556791fc\")>,\n",
       " <selenium.webdriver.remote.webelement.WebElement (session=\"da6fc58b8a238cca61cd03c629e20319\", element=\"7702f1b6-ab53-4e61-ae61-879bb468074c\")>,\n",
       " <selenium.webdriver.remote.webelement.WebElement (session=\"da6fc58b8a238cca61cd03c629e20319\", element=\"0ac437ed-dc89-4523-bf18-9da780185987\")>,\n",
       " <selenium.webdriver.remote.webelement.WebElement (session=\"da6fc58b8a238cca61cd03c629e20319\", element=\"83a00f20-2b4f-453c-8631-8b8901f19d63\")>,\n",
       " <selenium.webdriver.remote.webelement.WebElement (session=\"da6fc58b8a238cca61cd03c629e20319\", element=\"c622f917-2769-4b7f-8f3b-32be268abbce\")>,\n",
       " <selenium.webdriver.remote.webelement.WebElement (session=\"da6fc58b8a238cca61cd03c629e20319\", element=\"48f5221b-6589-48ba-8b9a-5756f1b7012d\")>,\n",
       " <selenium.webdriver.remote.webelement.WebElement (session=\"da6fc58b8a238cca61cd03c629e20319\", element=\"cc0a0cea-f47e-4100-b78a-a398c60e0ac0\")>,\n",
       " <selenium.webdriver.remote.webelement.WebElement (session=\"da6fc58b8a238cca61cd03c629e20319\", element=\"1461d137-b5a0-4a8f-8181-263ce7367a86\")>,\n",
       " <selenium.webdriver.remote.webelement.WebElement (session=\"da6fc58b8a238cca61cd03c629e20319\", element=\"7ebbeeb4-88a8-4618-b975-2e0e1882c9c8\")>,\n",
       " <selenium.webdriver.remote.webelement.WebElement (session=\"da6fc58b8a238cca61cd03c629e20319\", element=\"2dd9e844-213b-4f57-a83f-81b8931a6e85\")>,\n",
       " <selenium.webdriver.remote.webelement.WebElement (session=\"da6fc58b8a238cca61cd03c629e20319\", element=\"65cbcfad-9c7b-4e45-9076-38822de0ca7c\")>,\n",
       " <selenium.webdriver.remote.webelement.WebElement (session=\"da6fc58b8a238cca61cd03c629e20319\", element=\"b7c4e3d5-b22b-4414-878c-2be22bc4cb0c\")>,\n",
       " <selenium.webdriver.remote.webelement.WebElement (session=\"da6fc58b8a238cca61cd03c629e20319\", element=\"25d84429-f5f1-49fc-a2db-07a5099976ef\")>,\n",
       " <selenium.webdriver.remote.webelement.WebElement (session=\"da6fc58b8a238cca61cd03c629e20319\", element=\"550be087-9c7e-4492-af6a-83f447e56e3c\")>,\n",
       " <selenium.webdriver.remote.webelement.WebElement (session=\"da6fc58b8a238cca61cd03c629e20319\", element=\"251a2bf8-13aa-40fc-929a-2d1bc8f37aaf\")>,\n",
       " <selenium.webdriver.remote.webelement.WebElement (session=\"da6fc58b8a238cca61cd03c629e20319\", element=\"79730c8b-170b-43a8-b90e-8f08600bcb7e\")>,\n",
       " <selenium.webdriver.remote.webelement.WebElement (session=\"da6fc58b8a238cca61cd03c629e20319\", element=\"0b96ea4e-1966-4409-8710-70dc360269b3\")>,\n",
       " <selenium.webdriver.remote.webelement.WebElement (session=\"da6fc58b8a238cca61cd03c629e20319\", element=\"ecb729f0-2229-44ec-b724-a869714c975c\")>,\n",
       " <selenium.webdriver.remote.webelement.WebElement (session=\"da6fc58b8a238cca61cd03c629e20319\", element=\"3c92e12b-a400-46b7-8cae-2df03d2f532f\")>,\n",
       " <selenium.webdriver.remote.webelement.WebElement (session=\"da6fc58b8a238cca61cd03c629e20319\", element=\"1528c37b-76ff-403d-80cf-086b7dc3df62\")>,\n",
       " <selenium.webdriver.remote.webelement.WebElement (session=\"da6fc58b8a238cca61cd03c629e20319\", element=\"892a55d4-a837-43ab-b966-95e13cee5c56\")>,\n",
       " <selenium.webdriver.remote.webelement.WebElement (session=\"da6fc58b8a238cca61cd03c629e20319\", element=\"87fb8ce0-be2e-4daf-ad9c-349ec09c1a11\")>,\n",
       " <selenium.webdriver.remote.webelement.WebElement (session=\"da6fc58b8a238cca61cd03c629e20319\", element=\"b36f0ce2-4171-4ee7-97c4-842a42ca1bc5\")>,\n",
       " <selenium.webdriver.remote.webelement.WebElement (session=\"da6fc58b8a238cca61cd03c629e20319\", element=\"cbf7f181-8cd7-440a-826d-7c11c2eac196\")>,\n",
       " <selenium.webdriver.remote.webelement.WebElement (session=\"da6fc58b8a238cca61cd03c629e20319\", element=\"58139a6d-6bab-4643-aa4b-e104c680c87a\")>,\n",
       " <selenium.webdriver.remote.webelement.WebElement (session=\"da6fc58b8a238cca61cd03c629e20319\", element=\"26bed7bf-be3f-4dad-8644-4b66ad2a3e11\")>,\n",
       " <selenium.webdriver.remote.webelement.WebElement (session=\"da6fc58b8a238cca61cd03c629e20319\", element=\"92d6cdb9-429c-4836-9079-c31b77ca8a7e\")>,\n",
       " <selenium.webdriver.remote.webelement.WebElement (session=\"da6fc58b8a238cca61cd03c629e20319\", element=\"f8de6e58-706d-459b-885f-073ccb506bf3\")>,\n",
       " <selenium.webdriver.remote.webelement.WebElement (session=\"da6fc58b8a238cca61cd03c629e20319\", element=\"6024fe03-704a-4061-a452-57ec5f4d4f40\")>,\n",
       " <selenium.webdriver.remote.webelement.WebElement (session=\"da6fc58b8a238cca61cd03c629e20319\", element=\"8a2c43e5-640a-4631-a44b-4ea15ab9c500\")>,\n",
       " <selenium.webdriver.remote.webelement.WebElement (session=\"da6fc58b8a238cca61cd03c629e20319\", element=\"e918f1f9-5992-4029-9bbe-1d082b3edb74\")>,\n",
       " <selenium.webdriver.remote.webelement.WebElement (session=\"da6fc58b8a238cca61cd03c629e20319\", element=\"e1eb0924-a484-4f39-a54d-66ebaae7a112\")>,\n",
       " <selenium.webdriver.remote.webelement.WebElement (session=\"da6fc58b8a238cca61cd03c629e20319\", element=\"552569ca-ec61-499e-9e28-1e7d1b390f95\")>,\n",
       " <selenium.webdriver.remote.webelement.WebElement (session=\"da6fc58b8a238cca61cd03c629e20319\", element=\"431d2f83-ac5c-4180-b125-3d7f85123fcc\")>,\n",
       " <selenium.webdriver.remote.webelement.WebElement (session=\"da6fc58b8a238cca61cd03c629e20319\", element=\"035aa667-89a3-46ed-8f10-71f1bb7210ed\")>,\n",
       " <selenium.webdriver.remote.webelement.WebElement (session=\"da6fc58b8a238cca61cd03c629e20319\", element=\"75086f7d-0267-4199-9f07-87a7215f10d4\")>,\n",
       " <selenium.webdriver.remote.webelement.WebElement (session=\"da6fc58b8a238cca61cd03c629e20319\", element=\"b0da3a7b-3683-42a0-a113-725653683473\")>,\n",
       " <selenium.webdriver.remote.webelement.WebElement (session=\"da6fc58b8a238cca61cd03c629e20319\", element=\"4fe43ad2-a375-4317-8c41-f5291fd84f1b\")>,\n",
       " <selenium.webdriver.remote.webelement.WebElement (session=\"da6fc58b8a238cca61cd03c629e20319\", element=\"8bc57ea1-ef42-4008-9bf9-9721ecc129fe\")>,\n",
       " <selenium.webdriver.remote.webelement.WebElement (session=\"da6fc58b8a238cca61cd03c629e20319\", element=\"0e4004e3-0120-4b28-a6d2-38ad9a7cfbcc\")>]"
      ]
     },
     "execution_count": 68,
     "metadata": {},
     "output_type": "execute_result"
    }
   ],
   "source": [
    "page_brand=driver4.find_elements_by_xpath('//div[@class=\"_2WkVRV\"]')\n",
    "page_brand"
   ]
  },
  {
   "cell_type": "code",
   "execution_count": 69,
   "id": "784373fc",
   "metadata": {
    "scrolled": true
   },
   "outputs": [
    {
     "data": {
      "text/plain": [
       "['Singco India',\n",
       " 'VINCENT CHASE',\n",
       " 'Elligator',\n",
       " 'SHAAH COLLECTIONS',\n",
       " 'PIRASO',\n",
       " 'SRPM',\n",
       " 'SUNBEE',\n",
       " 'ROZZETTA CRAFT',\n",
       " 'New Specs',\n",
       " 'Fastrack',\n",
       " 'ROZZETTA CRAFT',\n",
       " 'elegante',\n",
       " 'SUNBEE',\n",
       " 'kingsunglasses',\n",
       " 'Fastrack',\n",
       " 'ROZZETTA CRAFT',\n",
       " 'SHAAH COLLECTIONS',\n",
       " 'ROZZETTA CRAFT',\n",
       " 'PHENOMENAL',\n",
       " 'ROZZETTA CRAFT',\n",
       " 'PHENOMENAL',\n",
       " 'Elligator',\n",
       " 'PHENOMENAL',\n",
       " 'ROYAL SON',\n",
       " 'kingsunglasses',\n",
       " 'Johaena',\n",
       " 'GANSTA',\n",
       " 'VINCENT CHASE',\n",
       " 'PIRASO',\n",
       " 'SUNBEE',\n",
       " 'New Specs',\n",
       " 'ROYAL SON',\n",
       " 'New Specs',\n",
       " 'Elligator',\n",
       " 'maxa',\n",
       " 'ROYAL SON',\n",
       " 'Fastrack',\n",
       " 'Rich Club',\n",
       " 'PIRASO',\n",
       " 'Flizz']"
      ]
     },
     "execution_count": 69,
     "metadata": {},
     "output_type": "execute_result"
    }
   ],
   "source": [
    "brand_name=[]\n",
    "for i in page_brand:\n",
    "    brand_name.append(i.text)\n",
    "    \n",
    "brand_name "
   ]
  },
  {
   "cell_type": "code",
   "execution_count": 70,
   "id": "bcd8df1e",
   "metadata": {},
   "outputs": [
    {
     "data": {
      "text/plain": [
       "[<selenium.webdriver.remote.webelement.WebElement (session=\"da6fc58b8a238cca61cd03c629e20319\", element=\"014ac29a-7304-45cd-a694-cb7f02c63ba4\")>,\n",
       " <selenium.webdriver.remote.webelement.WebElement (session=\"da6fc58b8a238cca61cd03c629e20319\", element=\"2679dddf-ce16-4a7e-a693-977e4cb8776f\")>,\n",
       " <selenium.webdriver.remote.webelement.WebElement (session=\"da6fc58b8a238cca61cd03c629e20319\", element=\"e4f936c9-72e1-415b-9e6c-094aaf49dfca\")>,\n",
       " <selenium.webdriver.remote.webelement.WebElement (session=\"da6fc58b8a238cca61cd03c629e20319\", element=\"d621513c-4795-458a-8568-fffa51de1556\")>,\n",
       " <selenium.webdriver.remote.webelement.WebElement (session=\"da6fc58b8a238cca61cd03c629e20319\", element=\"f7e14bc5-ce64-4c06-a3d6-ca29784c063c\")>,\n",
       " <selenium.webdriver.remote.webelement.WebElement (session=\"da6fc58b8a238cca61cd03c629e20319\", element=\"b75f2df8-30e1-417d-9fbb-6f1280a40143\")>,\n",
       " <selenium.webdriver.remote.webelement.WebElement (session=\"da6fc58b8a238cca61cd03c629e20319\", element=\"893a2521-c4e3-43b7-b52e-aa25134af562\")>,\n",
       " <selenium.webdriver.remote.webelement.WebElement (session=\"da6fc58b8a238cca61cd03c629e20319\", element=\"51084aa1-2df2-4d5d-bc05-c7a2a35ed817\")>,\n",
       " <selenium.webdriver.remote.webelement.WebElement (session=\"da6fc58b8a238cca61cd03c629e20319\", element=\"3842a048-3941-4fc4-8b49-3f2be3d6cb63\")>,\n",
       " <selenium.webdriver.remote.webelement.WebElement (session=\"da6fc58b8a238cca61cd03c629e20319\", element=\"ee893592-77d2-496b-8cad-2f5533786c85\")>,\n",
       " <selenium.webdriver.remote.webelement.WebElement (session=\"da6fc58b8a238cca61cd03c629e20319\", element=\"aaa5bd01-0e88-4bb6-9416-13f231a5c1d2\")>,\n",
       " <selenium.webdriver.remote.webelement.WebElement (session=\"da6fc58b8a238cca61cd03c629e20319\", element=\"59b99073-c5c5-4409-86c5-a8ee5da19598\")>,\n",
       " <selenium.webdriver.remote.webelement.WebElement (session=\"da6fc58b8a238cca61cd03c629e20319\", element=\"55dda93b-ab7a-408c-ad40-b458bdaeb0db\")>,\n",
       " <selenium.webdriver.remote.webelement.WebElement (session=\"da6fc58b8a238cca61cd03c629e20319\", element=\"a0cc51a3-9d0b-4244-823a-2fc53a3bcf82\")>,\n",
       " <selenium.webdriver.remote.webelement.WebElement (session=\"da6fc58b8a238cca61cd03c629e20319\", element=\"41756223-5a1b-4c62-b48d-36cc255c1b79\")>,\n",
       " <selenium.webdriver.remote.webelement.WebElement (session=\"da6fc58b8a238cca61cd03c629e20319\", element=\"6122fd5c-155e-4aaf-bf3d-8319c0ac7565\")>,\n",
       " <selenium.webdriver.remote.webelement.WebElement (session=\"da6fc58b8a238cca61cd03c629e20319\", element=\"257cd588-585f-4873-9dc4-b1a4d6df6e0e\")>,\n",
       " <selenium.webdriver.remote.webelement.WebElement (session=\"da6fc58b8a238cca61cd03c629e20319\", element=\"32059262-47de-40ba-a1d9-1605777e9674\")>,\n",
       " <selenium.webdriver.remote.webelement.WebElement (session=\"da6fc58b8a238cca61cd03c629e20319\", element=\"feae9473-cbd1-4b21-a509-028b24c9aeaf\")>,\n",
       " <selenium.webdriver.remote.webelement.WebElement (session=\"da6fc58b8a238cca61cd03c629e20319\", element=\"b8d79413-1c36-4bee-80c0-52eb37df3cf2\")>,\n",
       " <selenium.webdriver.remote.webelement.WebElement (session=\"da6fc58b8a238cca61cd03c629e20319\", element=\"b8bfca1b-53be-41f3-bfcb-ca8e63e91a47\")>,\n",
       " <selenium.webdriver.remote.webelement.WebElement (session=\"da6fc58b8a238cca61cd03c629e20319\", element=\"5c032853-507f-493a-bd08-7c1b7eb6a034\")>,\n",
       " <selenium.webdriver.remote.webelement.WebElement (session=\"da6fc58b8a238cca61cd03c629e20319\", element=\"99295bc4-888a-4c88-be96-f28d6b28c2b2\")>,\n",
       " <selenium.webdriver.remote.webelement.WebElement (session=\"da6fc58b8a238cca61cd03c629e20319\", element=\"311a083d-64f3-4b9c-8919-edc04d9484e4\")>,\n",
       " <selenium.webdriver.remote.webelement.WebElement (session=\"da6fc58b8a238cca61cd03c629e20319\", element=\"3237d6cd-626b-453a-a300-36ed66137728\")>,\n",
       " <selenium.webdriver.remote.webelement.WebElement (session=\"da6fc58b8a238cca61cd03c629e20319\", element=\"989c1be7-bee0-4bff-91e2-f45385f7c567\")>,\n",
       " <selenium.webdriver.remote.webelement.WebElement (session=\"da6fc58b8a238cca61cd03c629e20319\", element=\"0faf6b8b-c945-4d10-b8b5-5c08d3df3e55\")>,\n",
       " <selenium.webdriver.remote.webelement.WebElement (session=\"da6fc58b8a238cca61cd03c629e20319\", element=\"d968b69b-fc90-42fc-92ea-523a4e8ebe59\")>,\n",
       " <selenium.webdriver.remote.webelement.WebElement (session=\"da6fc58b8a238cca61cd03c629e20319\", element=\"efcf99f5-be4f-4ccf-8dcd-05afea04d052\")>,\n",
       " <selenium.webdriver.remote.webelement.WebElement (session=\"da6fc58b8a238cca61cd03c629e20319\", element=\"6e52f484-1a45-4d06-9633-5ae92466348e\")>,\n",
       " <selenium.webdriver.remote.webelement.WebElement (session=\"da6fc58b8a238cca61cd03c629e20319\", element=\"09d71a7a-8819-422b-bfe7-b03e3870fc58\")>,\n",
       " <selenium.webdriver.remote.webelement.WebElement (session=\"da6fc58b8a238cca61cd03c629e20319\", element=\"4322dc5e-ce59-4d4a-82d0-9f291a520c60\")>,\n",
       " <selenium.webdriver.remote.webelement.WebElement (session=\"da6fc58b8a238cca61cd03c629e20319\", element=\"08dffaa3-a536-4fc3-b686-8a8880a3cb3a\")>,\n",
       " <selenium.webdriver.remote.webelement.WebElement (session=\"da6fc58b8a238cca61cd03c629e20319\", element=\"7b0da644-af8d-4e67-bb9c-75214e4cdc68\")>,\n",
       " <selenium.webdriver.remote.webelement.WebElement (session=\"da6fc58b8a238cca61cd03c629e20319\", element=\"b998d582-71c8-4546-b80c-24b63e49fdf1\")>,\n",
       " <selenium.webdriver.remote.webelement.WebElement (session=\"da6fc58b8a238cca61cd03c629e20319\", element=\"1bd05fb5-1b59-4cb2-a35b-c0da0e77d6ad\")>,\n",
       " <selenium.webdriver.remote.webelement.WebElement (session=\"da6fc58b8a238cca61cd03c629e20319\", element=\"1e94b898-2e2b-4c53-8d40-6f8bb63846f4\")>,\n",
       " <selenium.webdriver.remote.webelement.WebElement (session=\"da6fc58b8a238cca61cd03c629e20319\", element=\"2c8c4815-4c7a-428b-ae7b-409ba136df46\")>,\n",
       " <selenium.webdriver.remote.webelement.WebElement (session=\"da6fc58b8a238cca61cd03c629e20319\", element=\"4a37afa4-ebc8-40c3-84a3-fdd56194663b\")>,\n",
       " <selenium.webdriver.remote.webelement.WebElement (session=\"da6fc58b8a238cca61cd03c629e20319\", element=\"97f6f550-d187-40fc-a9ba-3dcc4ee5b0a1\")>]"
      ]
     },
     "execution_count": 70,
     "metadata": {},
     "output_type": "execute_result"
    }
   ],
   "source": [
    "prdt_des=driver4.find_elements_by_xpath('//a[@class=\"IRpwTa\"]')\n",
    "prdt_des"
   ]
  },
  {
   "cell_type": "code",
   "execution_count": 71,
   "id": "3f159f17",
   "metadata": {},
   "outputs": [
    {
     "data": {
      "text/plain": [
       "40"
      ]
     },
     "execution_count": 71,
     "metadata": {},
     "output_type": "execute_result"
    }
   ],
   "source": [
    "len(prdt_des)"
   ]
  },
  {
   "cell_type": "code",
   "execution_count": 72,
   "id": "96b737ab",
   "metadata": {},
   "outputs": [
    {
     "data": {
      "text/plain": [
       "['Mirrored, UV Protection, Riding Glasses, Others Wrap-ar...',\n",
       " 'by Lenskart UV Protection Aviator Sunglasses (Free Size...',\n",
       " 'UV Protection Round Sunglasses (54)',\n",
       " 'UV Protection, Polarized, Mirrored Rectangular Sunglass...',\n",
       " 'UV Protection Aviator Sunglasses (54)',\n",
       " 'UV Protection Wayfarer Sunglasses (50)',\n",
       " 'UV Protection, Polarized, Mirrored Round Sunglasses (Fr...',\n",
       " 'UV Protection, Gradient Retro Square Sunglasses (62)',\n",
       " 'UV Protection Rectangular Sunglasses (Free Size)',\n",
       " 'UV Protection Rectangular Sunglasses (Free Size)',\n",
       " 'Polarized, Night Vision, Riding Glasses Sports, Wrap-ar...',\n",
       " 'Polarized, Riding Glasses, Night Vision Sports, Wrap-ar...',\n",
       " 'UV Protection, Polarized Wayfarer Sunglasses (Free Size...',\n",
       " 'UV Protection Round Sunglasses (54)',\n",
       " 'Gradient, UV Protection Wayfarer Sunglasses (Free Size)',\n",
       " 'UV Protection, Gradient Retro Square Sunglasses (Free S...',\n",
       " 'UV Protection, Polarized, Mirrored Rectangular Sunglass...',\n",
       " 'UV Protection, Gradient Rectangular Sunglasses (Free Si...',\n",
       " 'UV Protection Retro Square Sunglasses (Free Size)',\n",
       " 'UV Protection, Riding Glasses Rectangular Sunglasses (F...',\n",
       " 'UV Protection Retro Square Sunglasses (53)',\n",
       " 'UV Protection Round Sunglasses (53)',\n",
       " 'UV Protection, Mirrored Retro Square Sunglasses (53)',\n",
       " 'Polarized, UV Protection Aviator Sunglasses (58)',\n",
       " 'UV Protection, Others Round, Aviator Sunglasses (54)',\n",
       " 'Riding Glasses, UV Protection Oval Sunglasses (48)',\n",
       " 'UV Protection Aviator Sunglasses (57)',\n",
       " 'by Lenskart Polarized, UV Protection Round Sunglasses (...',\n",
       " 'UV Protection Aviator Sunglasses (54)',\n",
       " 'UV Protection, Polarized, Mirrored Retro Square Sunglas...',\n",
       " 'UV Protection Aviator Sunglasses (Free Size)',\n",
       " 'Polarized, UV Protection Round Sunglasses (52)',\n",
       " 'Mirrored, UV Protection, Riding Glasses, Others Round S...',\n",
       " 'UV Protection Round Sunglasses (54)',\n",
       " 'UV Protection, Riding Glasses Rectangular, Wayfarer, Ov...',\n",
       " 'Polarized Retro Square Sunglasses (59)',\n",
       " 'UV Protection Wayfarer Sunglasses (Free Size)',\n",
       " 'Polarized Round Sunglasses (48)',\n",
       " 'UV Protection Wayfarer Sunglasses (32)',\n",
       " 'UV Protection Retro Square Sunglasses (Free Size)']"
      ]
     },
     "execution_count": 72,
     "metadata": {},
     "output_type": "execute_result"
    }
   ],
   "source": [
    "des_name=[]\n",
    "for i in prdt_des:\n",
    "    des_name.append(i.text)\n",
    "    \n",
    "des_name"
   ]
  },
  {
   "cell_type": "code",
   "execution_count": 73,
   "id": "b8fc07ff",
   "metadata": {},
   "outputs": [
    {
     "data": {
      "text/plain": [
       "[<selenium.webdriver.remote.webelement.WebElement (session=\"da6fc58b8a238cca61cd03c629e20319\", element=\"5ab685e7-b733-441e-aa4f-882b9e1a9525\")>,\n",
       " <selenium.webdriver.remote.webelement.WebElement (session=\"da6fc58b8a238cca61cd03c629e20319\", element=\"ce67e0e2-bb95-40b9-b269-65b55a4398a8\")>,\n",
       " <selenium.webdriver.remote.webelement.WebElement (session=\"da6fc58b8a238cca61cd03c629e20319\", element=\"340b41df-141d-4036-90d8-b0d379b012c0\")>,\n",
       " <selenium.webdriver.remote.webelement.WebElement (session=\"da6fc58b8a238cca61cd03c629e20319\", element=\"e3f4fde6-f22b-443f-b748-36590de4ba60\")>,\n",
       " <selenium.webdriver.remote.webelement.WebElement (session=\"da6fc58b8a238cca61cd03c629e20319\", element=\"521f3ae9-6cc1-4f64-bec4-1e5df8062997\")>,\n",
       " <selenium.webdriver.remote.webelement.WebElement (session=\"da6fc58b8a238cca61cd03c629e20319\", element=\"1db527df-272f-48bd-a70c-a677ae075694\")>,\n",
       " <selenium.webdriver.remote.webelement.WebElement (session=\"da6fc58b8a238cca61cd03c629e20319\", element=\"9891fffe-245d-4f74-a0e1-88992fc24c07\")>,\n",
       " <selenium.webdriver.remote.webelement.WebElement (session=\"da6fc58b8a238cca61cd03c629e20319\", element=\"46835130-87c4-49b5-a955-f0dd46c51044\")>,\n",
       " <selenium.webdriver.remote.webelement.WebElement (session=\"da6fc58b8a238cca61cd03c629e20319\", element=\"3923583f-e0c3-455f-978b-8f0b29d71ad2\")>,\n",
       " <selenium.webdriver.remote.webelement.WebElement (session=\"da6fc58b8a238cca61cd03c629e20319\", element=\"f85bae15-4169-4987-8be9-d6d598442ffc\")>,\n",
       " <selenium.webdriver.remote.webelement.WebElement (session=\"da6fc58b8a238cca61cd03c629e20319\", element=\"6e563d06-e07f-4dd4-9190-dc0cffaa5cba\")>,\n",
       " <selenium.webdriver.remote.webelement.WebElement (session=\"da6fc58b8a238cca61cd03c629e20319\", element=\"3993dc78-51cb-4af0-a047-48d90dfe384b\")>,\n",
       " <selenium.webdriver.remote.webelement.WebElement (session=\"da6fc58b8a238cca61cd03c629e20319\", element=\"4504af65-adeb-4eef-b604-712f9eec4614\")>,\n",
       " <selenium.webdriver.remote.webelement.WebElement (session=\"da6fc58b8a238cca61cd03c629e20319\", element=\"15efa21c-cde5-4467-a6f1-fc7535bbf39c\")>,\n",
       " <selenium.webdriver.remote.webelement.WebElement (session=\"da6fc58b8a238cca61cd03c629e20319\", element=\"d398d7a9-580f-4f08-aeb9-bc173cdf0cab\")>,\n",
       " <selenium.webdriver.remote.webelement.WebElement (session=\"da6fc58b8a238cca61cd03c629e20319\", element=\"67f0efbf-b32f-414f-82fa-34db6d710745\")>,\n",
       " <selenium.webdriver.remote.webelement.WebElement (session=\"da6fc58b8a238cca61cd03c629e20319\", element=\"9ac96259-90a8-46ef-ae26-c00ceff4efc9\")>,\n",
       " <selenium.webdriver.remote.webelement.WebElement (session=\"da6fc58b8a238cca61cd03c629e20319\", element=\"dc7ef416-ffbc-4e31-960a-ae193532b455\")>,\n",
       " <selenium.webdriver.remote.webelement.WebElement (session=\"da6fc58b8a238cca61cd03c629e20319\", element=\"474d01bf-20d0-4be9-b967-510473ae87be\")>,\n",
       " <selenium.webdriver.remote.webelement.WebElement (session=\"da6fc58b8a238cca61cd03c629e20319\", element=\"9728cdac-f255-4106-bd83-f3782640120e\")>,\n",
       " <selenium.webdriver.remote.webelement.WebElement (session=\"da6fc58b8a238cca61cd03c629e20319\", element=\"d442047b-0c1f-4367-84e0-5f97485532b4\")>,\n",
       " <selenium.webdriver.remote.webelement.WebElement (session=\"da6fc58b8a238cca61cd03c629e20319\", element=\"61258d7c-2464-4cd6-b2f1-5c4a86a372b5\")>,\n",
       " <selenium.webdriver.remote.webelement.WebElement (session=\"da6fc58b8a238cca61cd03c629e20319\", element=\"5966b6ed-58f4-4209-a4c6-8716c7c7f139\")>,\n",
       " <selenium.webdriver.remote.webelement.WebElement (session=\"da6fc58b8a238cca61cd03c629e20319\", element=\"74f9ca80-22d0-414b-be90-b55100d54bf1\")>,\n",
       " <selenium.webdriver.remote.webelement.WebElement (session=\"da6fc58b8a238cca61cd03c629e20319\", element=\"e301db0b-6e60-43b8-a5c6-fb196e6b143f\")>,\n",
       " <selenium.webdriver.remote.webelement.WebElement (session=\"da6fc58b8a238cca61cd03c629e20319\", element=\"9b7449f8-9202-4276-98d1-4ecb9b049f7a\")>,\n",
       " <selenium.webdriver.remote.webelement.WebElement (session=\"da6fc58b8a238cca61cd03c629e20319\", element=\"1dba3597-c272-442b-af05-011796a33808\")>,\n",
       " <selenium.webdriver.remote.webelement.WebElement (session=\"da6fc58b8a238cca61cd03c629e20319\", element=\"1aaffc16-e2c4-42be-89a9-60803f3c5449\")>,\n",
       " <selenium.webdriver.remote.webelement.WebElement (session=\"da6fc58b8a238cca61cd03c629e20319\", element=\"0af30b72-a367-4684-9567-dd1c0e03002b\")>,\n",
       " <selenium.webdriver.remote.webelement.WebElement (session=\"da6fc58b8a238cca61cd03c629e20319\", element=\"9d7c7c4d-6cb3-4283-ad11-2d25f75253ea\")>,\n",
       " <selenium.webdriver.remote.webelement.WebElement (session=\"da6fc58b8a238cca61cd03c629e20319\", element=\"4055f1f5-af72-461c-a4fd-054e2a9cf263\")>,\n",
       " <selenium.webdriver.remote.webelement.WebElement (session=\"da6fc58b8a238cca61cd03c629e20319\", element=\"39d18a57-7bae-4f61-8bac-7630ea2eb2f4\")>,\n",
       " <selenium.webdriver.remote.webelement.WebElement (session=\"da6fc58b8a238cca61cd03c629e20319\", element=\"3d45848c-f65c-4425-80bf-957234722d68\")>,\n",
       " <selenium.webdriver.remote.webelement.WebElement (session=\"da6fc58b8a238cca61cd03c629e20319\", element=\"136431b5-d854-47cc-bb02-d76d26adadf6\")>,\n",
       " <selenium.webdriver.remote.webelement.WebElement (session=\"da6fc58b8a238cca61cd03c629e20319\", element=\"be3f1fd2-49f9-41c6-a83d-76cc1cc0af32\")>,\n",
       " <selenium.webdriver.remote.webelement.WebElement (session=\"da6fc58b8a238cca61cd03c629e20319\", element=\"81d81e8a-3d2a-4f59-a0be-5a9e4fc35c6d\")>,\n",
       " <selenium.webdriver.remote.webelement.WebElement (session=\"da6fc58b8a238cca61cd03c629e20319\", element=\"dafd25e0-d583-48d5-ad2a-980a1b354f57\")>,\n",
       " <selenium.webdriver.remote.webelement.WebElement (session=\"da6fc58b8a238cca61cd03c629e20319\", element=\"491d3cc9-1ecb-4744-ab88-868d824744a2\")>,\n",
       " <selenium.webdriver.remote.webelement.WebElement (session=\"da6fc58b8a238cca61cd03c629e20319\", element=\"e641b3cc-6c64-44ca-81ec-700ea65e9f0f\")>,\n",
       " <selenium.webdriver.remote.webelement.WebElement (session=\"da6fc58b8a238cca61cd03c629e20319\", element=\"91297a71-7072-4c39-ad12-7a5d418fe176\")>]"
      ]
     },
     "execution_count": 73,
     "metadata": {},
     "output_type": "execute_result"
    }
   ],
   "source": [
    "price=driver4.find_elements_by_xpath('//div[@class=\"_30jeq3\"]')\n",
    "price"
   ]
  },
  {
   "cell_type": "code",
   "execution_count": 74,
   "id": "1709dd85",
   "metadata": {},
   "outputs": [
    {
     "data": {
      "text/plain": [
       "['₹329',\n",
       " '₹999',\n",
       " '₹248',\n",
       " '₹165',\n",
       " '₹229',\n",
       " '₹188',\n",
       " '₹271',\n",
       " '₹499',\n",
       " '₹234',\n",
       " '₹639',\n",
       " '₹474',\n",
       " '₹499',\n",
       " '₹243',\n",
       " '₹186',\n",
       " '₹649',\n",
       " '₹331',\n",
       " '₹181',\n",
       " '₹383',\n",
       " '₹309',\n",
       " '₹449',\n",
       " '₹269',\n",
       " '₹189',\n",
       " '₹299',\n",
       " '₹759',\n",
       " '₹174',\n",
       " '₹146',\n",
       " '₹269',\n",
       " '₹1,179',\n",
       " '₹250',\n",
       " '₹235',\n",
       " '₹183',\n",
       " '₹759',\n",
       " '₹259',\n",
       " '₹265',\n",
       " '₹144',\n",
       " '₹664',\n",
       " '₹709',\n",
       " '₹165',\n",
       " '₹225',\n",
       " '₹354']"
      ]
     },
     "execution_count": 74,
     "metadata": {},
     "output_type": "execute_result"
    }
   ],
   "source": [
    "price_name=[]\n",
    "for i in price:\n",
    "    price_name.append(i.text)\n",
    "    \n",
    "price_name"
   ]
  },
  {
   "cell_type": "code",
   "execution_count": 75,
   "id": "12080827",
   "metadata": {},
   "outputs": [],
   "source": [
    "next_page=driver4.find_element_by_class_name('ge-49M')\n",
    "next_page.click()"
   ]
  },
  {
   "cell_type": "code",
   "execution_count": 76,
   "id": "230d7fdd",
   "metadata": {},
   "outputs": [
    {
     "data": {
      "text/plain": [
       "[<selenium.webdriver.remote.webelement.WebElement (session=\"da6fc58b8a238cca61cd03c629e20319\", element=\"ee189d1f-ad0d-4738-8fb3-17ae556791fc\")>,\n",
       " <selenium.webdriver.remote.webelement.WebElement (session=\"da6fc58b8a238cca61cd03c629e20319\", element=\"3c1a2d70-e238-4516-a6d9-24cee9210067\")>,\n",
       " <selenium.webdriver.remote.webelement.WebElement (session=\"da6fc58b8a238cca61cd03c629e20319\", element=\"0ac437ed-dc89-4523-bf18-9da780185987\")>,\n",
       " <selenium.webdriver.remote.webelement.WebElement (session=\"da6fc58b8a238cca61cd03c629e20319\", element=\"479d6dbf-d0a0-45b9-8e34-779e152c1a1e\")>,\n",
       " <selenium.webdriver.remote.webelement.WebElement (session=\"da6fc58b8a238cca61cd03c629e20319\", element=\"ffe619e8-906d-4c3c-b7a5-d9024bbced88\")>,\n",
       " <selenium.webdriver.remote.webelement.WebElement (session=\"da6fc58b8a238cca61cd03c629e20319\", element=\"48f5221b-6589-48ba-8b9a-5756f1b7012d\")>,\n",
       " <selenium.webdriver.remote.webelement.WebElement (session=\"da6fc58b8a238cca61cd03c629e20319\", element=\"8e8621f5-4edb-4a7a-9b7d-275056789fa1\")>,\n",
       " <selenium.webdriver.remote.webelement.WebElement (session=\"da6fc58b8a238cca61cd03c629e20319\", element=\"794f37a4-d3b2-4567-9592-ef83feaea467\")>,\n",
       " <selenium.webdriver.remote.webelement.WebElement (session=\"da6fc58b8a238cca61cd03c629e20319\", element=\"4a66469f-a923-4784-a4d0-84f3dd77ec00\")>,\n",
       " <selenium.webdriver.remote.webelement.WebElement (session=\"da6fc58b8a238cca61cd03c629e20319\", element=\"2dd9e844-213b-4f57-a83f-81b8931a6e85\")>,\n",
       " <selenium.webdriver.remote.webelement.WebElement (session=\"da6fc58b8a238cca61cd03c629e20319\", element=\"65cbcfad-9c7b-4e45-9076-38822de0ca7c\")>,\n",
       " <selenium.webdriver.remote.webelement.WebElement (session=\"da6fc58b8a238cca61cd03c629e20319\", element=\"56a66118-f0c7-41f5-82fb-200e9fac0218\")>,\n",
       " <selenium.webdriver.remote.webelement.WebElement (session=\"da6fc58b8a238cca61cd03c629e20319\", element=\"25d84429-f5f1-49fc-a2db-07a5099976ef\")>,\n",
       " <selenium.webdriver.remote.webelement.WebElement (session=\"da6fc58b8a238cca61cd03c629e20319\", element=\"550be087-9c7e-4492-af6a-83f447e56e3c\")>,\n",
       " <selenium.webdriver.remote.webelement.WebElement (session=\"da6fc58b8a238cca61cd03c629e20319\", element=\"15acb19e-b048-459e-8d9b-a00327afcdcb\")>,\n",
       " <selenium.webdriver.remote.webelement.WebElement (session=\"da6fc58b8a238cca61cd03c629e20319\", element=\"ce19151c-cb33-4e3e-bf05-2cdbb2ba4cb1\")>,\n",
       " <selenium.webdriver.remote.webelement.WebElement (session=\"da6fc58b8a238cca61cd03c629e20319\", element=\"cab39cc0-c4fd-456d-b84e-013a323fd383\")>,\n",
       " <selenium.webdriver.remote.webelement.WebElement (session=\"da6fc58b8a238cca61cd03c629e20319\", element=\"13c0b3f6-0db6-4490-a15f-016717a37a32\")>,\n",
       " <selenium.webdriver.remote.webelement.WebElement (session=\"da6fc58b8a238cca61cd03c629e20319\", element=\"a99e9b95-ae26-472f-a25d-e7f443b6d982\")>,\n",
       " <selenium.webdriver.remote.webelement.WebElement (session=\"da6fc58b8a238cca61cd03c629e20319\", element=\"03758b93-3dbe-4bce-9144-cf91f2015aad\")>,\n",
       " <selenium.webdriver.remote.webelement.WebElement (session=\"da6fc58b8a238cca61cd03c629e20319\", element=\"892a55d4-a837-43ab-b966-95e13cee5c56\")>,\n",
       " <selenium.webdriver.remote.webelement.WebElement (session=\"da6fc58b8a238cca61cd03c629e20319\", element=\"87fb8ce0-be2e-4daf-ad9c-349ec09c1a11\")>,\n",
       " <selenium.webdriver.remote.webelement.WebElement (session=\"da6fc58b8a238cca61cd03c629e20319\", element=\"b36f0ce2-4171-4ee7-97c4-842a42ca1bc5\")>,\n",
       " <selenium.webdriver.remote.webelement.WebElement (session=\"da6fc58b8a238cca61cd03c629e20319\", element=\"b7a19925-493f-4dba-89f3-14d4d25bbfb2\")>,\n",
       " <selenium.webdriver.remote.webelement.WebElement (session=\"da6fc58b8a238cca61cd03c629e20319\", element=\"9149e465-eb80-4174-aa70-bc55898b9cf8\")>,\n",
       " <selenium.webdriver.remote.webelement.WebElement (session=\"da6fc58b8a238cca61cd03c629e20319\", element=\"70ff8d77-2a7c-435d-96d3-566a69c1bff2\")>,\n",
       " <selenium.webdriver.remote.webelement.WebElement (session=\"da6fc58b8a238cca61cd03c629e20319\", element=\"45ffd3a4-d45d-4d64-9a81-ed6af6947a08\")>,\n",
       " <selenium.webdriver.remote.webelement.WebElement (session=\"da6fc58b8a238cca61cd03c629e20319\", element=\"6c20dac9-b3e9-4c56-ba96-3c9a341f814d\")>,\n",
       " <selenium.webdriver.remote.webelement.WebElement (session=\"da6fc58b8a238cca61cd03c629e20319\", element=\"8623304b-2519-49fd-ad60-af5812ce07a6\")>,\n",
       " <selenium.webdriver.remote.webelement.WebElement (session=\"da6fc58b8a238cca61cd03c629e20319\", element=\"7598024c-96bd-4f2b-a36f-a1c260ec2703\")>,\n",
       " <selenium.webdriver.remote.webelement.WebElement (session=\"da6fc58b8a238cca61cd03c629e20319\", element=\"e918f1f9-5992-4029-9bbe-1d082b3edb74\")>,\n",
       " <selenium.webdriver.remote.webelement.WebElement (session=\"da6fc58b8a238cca61cd03c629e20319\", element=\"d4c0d521-ea1e-47de-916a-7b98f1ca87fa\")>,\n",
       " <selenium.webdriver.remote.webelement.WebElement (session=\"da6fc58b8a238cca61cd03c629e20319\", element=\"63b98317-c142-43a0-9ae5-de73fbcb1361\")>,\n",
       " <selenium.webdriver.remote.webelement.WebElement (session=\"da6fc58b8a238cca61cd03c629e20319\", element=\"b2d956bd-05be-4d70-869b-9a6402d2d200\")>,\n",
       " <selenium.webdriver.remote.webelement.WebElement (session=\"da6fc58b8a238cca61cd03c629e20319\", element=\"035aa667-89a3-46ed-8f10-71f1bb7210ed\")>,\n",
       " <selenium.webdriver.remote.webelement.WebElement (session=\"da6fc58b8a238cca61cd03c629e20319\", element=\"456497f6-2a65-4ffb-9b09-50323fd9a651\")>,\n",
       " <selenium.webdriver.remote.webelement.WebElement (session=\"da6fc58b8a238cca61cd03c629e20319\", element=\"e76dcf78-040c-4a27-b2e7-d9fe6ba37c4c\")>,\n",
       " <selenium.webdriver.remote.webelement.WebElement (session=\"da6fc58b8a238cca61cd03c629e20319\", element=\"b6d82407-5cf5-4607-90b8-f9335953b6d6\")>,\n",
       " <selenium.webdriver.remote.webelement.WebElement (session=\"da6fc58b8a238cca61cd03c629e20319\", element=\"e312fb4a-4380-431b-8bc1-37b8ddd609a3\")>,\n",
       " <selenium.webdriver.remote.webelement.WebElement (session=\"da6fc58b8a238cca61cd03c629e20319\", element=\"c5aed3a8-c046-4c9b-9435-864feae52149\")>]"
      ]
     },
     "execution_count": 76,
     "metadata": {},
     "output_type": "execute_result"
    }
   ],
   "source": [
    "page2_glass=driver4.find_elements_by_xpath('//div[@class=\"_2WkVRV\"]')\n",
    "page2_glass"
   ]
  },
  {
   "cell_type": "code",
   "execution_count": 77,
   "id": "c0352f87",
   "metadata": {},
   "outputs": [
    {
     "data": {
      "text/plain": [
       "['Singco India',\n",
       " 'VILLAIN',\n",
       " 'Elligator',\n",
       " 'SUNBEE',\n",
       " 'SHAAH COLLECTIONS',\n",
       " 'SRPM',\n",
       " 'New Specs',\n",
       " 'ROZZETTA CRAFT',\n",
       " 'PIRASO',\n",
       " 'Fastrack',\n",
       " 'ROZZETTA CRAFT',\n",
       " 'ROZZETTA CRAFT',\n",
       " 'SUNBEE',\n",
       " 'kingsunglasses',\n",
       " 'SHAAH COLLECTIONS',\n",
       " 'ROZZETTA CRAFT',\n",
       " 'ROZZETTA CRAFT',\n",
       " 'PHENOMENAL',\n",
       " 'Fastrack',\n",
       " 'ROZZETTA CRAFT',\n",
       " 'PHENOMENAL',\n",
       " 'Elligator',\n",
       " 'PHENOMENAL',\n",
       " 'ROZZETTA CRAFT',\n",
       " 'Johaena',\n",
       " 'GANSTA',\n",
       " 'kingsunglasses',\n",
       " 'ROYAL SON',\n",
       " 'Elligator',\n",
       " 'New Specs',\n",
       " 'New Specs',\n",
       " 'VINCENT CHASE',\n",
       " 'PIRASO',\n",
       " 'SUNBEE',\n",
       " 'maxa',\n",
       " 'elegante',\n",
       " 'PIRASO',\n",
       " 'PIRASO',\n",
       " 'Lee Topper',\n",
       " 'VINCENT CHASE']"
      ]
     },
     "execution_count": 77,
     "metadata": {},
     "output_type": "execute_result"
    }
   ],
   "source": [
    "page2_brand=[]\n",
    "for i in page2_glass:\n",
    "    page2_brand.append(i.text)\n",
    "    \n",
    "page2_brand"
   ]
  },
  {
   "cell_type": "code",
   "execution_count": 78,
   "id": "28ae4da2",
   "metadata": {},
   "outputs": [
    {
     "data": {
      "text/plain": [
       "[<selenium.webdriver.remote.webelement.WebElement (session=\"da6fc58b8a238cca61cd03c629e20319\", element=\"014ac29a-7304-45cd-a694-cb7f02c63ba4\")>,\n",
       " <selenium.webdriver.remote.webelement.WebElement (session=\"da6fc58b8a238cca61cd03c629e20319\", element=\"e4f936c9-72e1-415b-9e6c-094aaf49dfca\")>,\n",
       " <selenium.webdriver.remote.webelement.WebElement (session=\"da6fc58b8a238cca61cd03c629e20319\", element=\"466dc9ca-b682-411a-954a-370db55dba0b\")>,\n",
       " <selenium.webdriver.remote.webelement.WebElement (session=\"da6fc58b8a238cca61cd03c629e20319\", element=\"f1afbd13-c6df-46ca-b8a8-94d000b04221\")>,\n",
       " <selenium.webdriver.remote.webelement.WebElement (session=\"da6fc58b8a238cca61cd03c629e20319\", element=\"b75f2df8-30e1-417d-9fbb-6f1280a40143\")>,\n",
       " <selenium.webdriver.remote.webelement.WebElement (session=\"da6fc58b8a238cca61cd03c629e20319\", element=\"b4890f4e-fbdd-443d-97b7-b5dc84af35bf\")>,\n",
       " <selenium.webdriver.remote.webelement.WebElement (session=\"da6fc58b8a238cca61cd03c629e20319\", element=\"13d99af9-4506-4f4c-82d5-e4d271decedf\")>,\n",
       " <selenium.webdriver.remote.webelement.WebElement (session=\"da6fc58b8a238cca61cd03c629e20319\", element=\"86e4cc45-5c31-4595-aff4-6cb93741a385\")>,\n",
       " <selenium.webdriver.remote.webelement.WebElement (session=\"da6fc58b8a238cca61cd03c629e20319\", element=\"ee893592-77d2-496b-8cad-2f5533786c85\")>,\n",
       " <selenium.webdriver.remote.webelement.WebElement (session=\"da6fc58b8a238cca61cd03c629e20319\", element=\"aaa5bd01-0e88-4bb6-9416-13f231a5c1d2\")>,\n",
       " <selenium.webdriver.remote.webelement.WebElement (session=\"da6fc58b8a238cca61cd03c629e20319\", element=\"b98b200b-e44b-4667-935f-5ed0e84e8ecd\")>,\n",
       " <selenium.webdriver.remote.webelement.WebElement (session=\"da6fc58b8a238cca61cd03c629e20319\", element=\"55dda93b-ab7a-408c-ad40-b458bdaeb0db\")>,\n",
       " <selenium.webdriver.remote.webelement.WebElement (session=\"da6fc58b8a238cca61cd03c629e20319\", element=\"a0cc51a3-9d0b-4244-823a-2fc53a3bcf82\")>,\n",
       " <selenium.webdriver.remote.webelement.WebElement (session=\"da6fc58b8a238cca61cd03c629e20319\", element=\"adff0b36-8471-436c-87a1-2b36a6308e9b\")>,\n",
       " <selenium.webdriver.remote.webelement.WebElement (session=\"da6fc58b8a238cca61cd03c629e20319\", element=\"7edbb290-d6b1-4ad6-98bb-f11c2d130c4f\")>,\n",
       " <selenium.webdriver.remote.webelement.WebElement (session=\"da6fc58b8a238cca61cd03c629e20319\", element=\"306032fe-1357-4d3c-9b4a-ab8d7ba4cabd\")>,\n",
       " <selenium.webdriver.remote.webelement.WebElement (session=\"da6fc58b8a238cca61cd03c629e20319\", element=\"290eceb3-68e4-460b-966a-6cd59d652e5a\")>,\n",
       " <selenium.webdriver.remote.webelement.WebElement (session=\"da6fc58b8a238cca61cd03c629e20319\", element=\"2a6508b1-8b5f-4732-b031-b398e8b280af\")>,\n",
       " <selenium.webdriver.remote.webelement.WebElement (session=\"da6fc58b8a238cca61cd03c629e20319\", element=\"07b89d79-05c9-476f-837b-a59ecd30b0d6\")>,\n",
       " <selenium.webdriver.remote.webelement.WebElement (session=\"da6fc58b8a238cca61cd03c629e20319\", element=\"b8bfca1b-53be-41f3-bfcb-ca8e63e91a47\")>,\n",
       " <selenium.webdriver.remote.webelement.WebElement (session=\"da6fc58b8a238cca61cd03c629e20319\", element=\"5c032853-507f-493a-bd08-7c1b7eb6a034\")>,\n",
       " <selenium.webdriver.remote.webelement.WebElement (session=\"da6fc58b8a238cca61cd03c629e20319\", element=\"99295bc4-888a-4c88-be96-f28d6b28c2b2\")>,\n",
       " <selenium.webdriver.remote.webelement.WebElement (session=\"da6fc58b8a238cca61cd03c629e20319\", element=\"39f18743-2dee-4b0f-857c-b7d5ef22be5c\")>,\n",
       " <selenium.webdriver.remote.webelement.WebElement (session=\"da6fc58b8a238cca61cd03c629e20319\", element=\"70fd88bd-2bed-45ec-aa9a-186bd8e6d14e\")>,\n",
       " <selenium.webdriver.remote.webelement.WebElement (session=\"da6fc58b8a238cca61cd03c629e20319\", element=\"e24db588-e008-4770-9653-cc9f434edf60\")>,\n",
       " <selenium.webdriver.remote.webelement.WebElement (session=\"da6fc58b8a238cca61cd03c629e20319\", element=\"7df6a62c-a77e-426f-b977-a59d5312a267\")>,\n",
       " <selenium.webdriver.remote.webelement.WebElement (session=\"da6fc58b8a238cca61cd03c629e20319\", element=\"57383157-d4a7-4b8a-9033-d53f39614db8\")>,\n",
       " <selenium.webdriver.remote.webelement.WebElement (session=\"da6fc58b8a238cca61cd03c629e20319\", element=\"bde28893-add1-4e14-80f7-8ecff68db7eb\")>,\n",
       " <selenium.webdriver.remote.webelement.WebElement (session=\"da6fc58b8a238cca61cd03c629e20319\", element=\"5b9229b6-8641-4fc4-b73e-28db0e557a1a\")>,\n",
       " <selenium.webdriver.remote.webelement.WebElement (session=\"da6fc58b8a238cca61cd03c629e20319\", element=\"09d71a7a-8819-422b-bfe7-b03e3870fc58\")>,\n",
       " <selenium.webdriver.remote.webelement.WebElement (session=\"da6fc58b8a238cca61cd03c629e20319\", element=\"1d39f815-2589-4d39-8457-4d187d1e1b8f\")>,\n",
       " <selenium.webdriver.remote.webelement.WebElement (session=\"da6fc58b8a238cca61cd03c629e20319\", element=\"60bafa85-e629-4eed-ac8c-ba43f1feeb1a\")>,\n",
       " <selenium.webdriver.remote.webelement.WebElement (session=\"da6fc58b8a238cca61cd03c629e20319\", element=\"22c4c832-be1f-41b9-b519-b778b6dbc6f5\")>,\n",
       " <selenium.webdriver.remote.webelement.WebElement (session=\"da6fc58b8a238cca61cd03c629e20319\", element=\"b998d582-71c8-4546-b80c-24b63e49fdf1\")>,\n",
       " <selenium.webdriver.remote.webelement.WebElement (session=\"da6fc58b8a238cca61cd03c629e20319\", element=\"0c69ae37-c818-4c68-992d-e4354b35b4dd\")>,\n",
       " <selenium.webdriver.remote.webelement.WebElement (session=\"da6fc58b8a238cca61cd03c629e20319\", element=\"17eae259-1de0-4220-9dfe-b2b99227be24\")>,\n",
       " <selenium.webdriver.remote.webelement.WebElement (session=\"da6fc58b8a238cca61cd03c629e20319\", element=\"47da9834-3a86-443b-a172-dd19dd0fcc6b\")>,\n",
       " <selenium.webdriver.remote.webelement.WebElement (session=\"da6fc58b8a238cca61cd03c629e20319\", element=\"3fb7d299-9a5f-4187-a0c9-3f11037976b8\")>,\n",
       " <selenium.webdriver.remote.webelement.WebElement (session=\"da6fc58b8a238cca61cd03c629e20319\", element=\"d51bacf2-9ebd-480a-bbd4-2cca455326ac\")>]"
      ]
     },
     "execution_count": 78,
     "metadata": {},
     "output_type": "execute_result"
    }
   ],
   "source": [
    "prdt2_des=driver4.find_elements_by_xpath('//a[@class=\"IRpwTa\"]')\n",
    "prdt2_des"
   ]
  },
  {
   "cell_type": "code",
   "execution_count": 79,
   "id": "8c9ef2ff",
   "metadata": {},
   "outputs": [
    {
     "data": {
      "text/plain": [
       "['Mirrored, UV Protection, Riding Glasses, Others Wrap-ar...',\n",
       " 'UV Protection Round Sunglasses (54)',\n",
       " 'UV Protection, Polarized, Mirrored Round Sunglasses (Fr...',\n",
       " 'UV Protection, Polarized, Mirrored Rectangular Sunglass...',\n",
       " 'UV Protection Wayfarer Sunglasses (50)',\n",
       " 'UV Protection Rectangular Sunglasses (Free Size)',\n",
       " 'UV Protection Aviator Sunglasses (62)',\n",
       " 'UV Protection Aviator Sunglasses (54)',\n",
       " 'UV Protection Rectangular Sunglasses (Free Size)',\n",
       " 'Polarized, Night Vision, Riding Glasses Sports, Wrap-ar...',\n",
       " 'UV Protection Aviator Sunglasses (62)',\n",
       " 'UV Protection, Polarized Wayfarer Sunglasses (Free Size...',\n",
       " 'UV Protection Round Sunglasses (54)',\n",
       " 'UV Protection, Polarized, Mirrored Rectangular Sunglass...',\n",
       " 'UV Protection, Gradient Retro Square Sunglasses (62)',\n",
       " 'UV Protection, Gradient Rectangular Sunglasses (Free Si...',\n",
       " 'UV Protection Retro Square Sunglasses (Free Size)',\n",
       " 'Gradient, UV Protection Wayfarer Sunglasses (Free Size)',\n",
       " 'UV Protection, Gradient Retro Square Sunglasses (Free S...',\n",
       " 'UV Protection Retro Square Sunglasses (53)',\n",
       " 'UV Protection Round Sunglasses (53)',\n",
       " 'UV Protection, Mirrored Retro Square Sunglasses (53)',\n",
       " 'UV Protection, Riding Glasses Rectangular Sunglasses (F...',\n",
       " 'Riding Glasses, UV Protection Oval Sunglasses (48)',\n",
       " 'UV Protection Aviator Sunglasses (57)',\n",
       " 'UV Protection, Others Round, Aviator Sunglasses (54)',\n",
       " 'Polarized, UV Protection Aviator Sunglasses (58)',\n",
       " 'UV Protection Round Sunglasses (54)',\n",
       " 'Mirrored, UV Protection, Riding Glasses, Others Round S...',\n",
       " 'UV Protection Aviator Sunglasses (Free Size)',\n",
       " 'by Lenskart UV Protection Aviator Sunglasses (Free Size...',\n",
       " 'UV Protection Aviator Sunglasses (54)',\n",
       " 'UV Protection, Polarized, Mirrored Retro Square Sunglas...',\n",
       " 'UV Protection, Riding Glasses Rectangular, Wayfarer, Ov...',\n",
       " 'Polarized, Riding Glasses, Night Vision Sports, Wrap-ar...',\n",
       " 'UV Protection Aviator Sunglasses (54)',\n",
       " 'UV Protection Wayfarer Sunglasses (32)',\n",
       " 'UV Protection Rectangular Sunglasses (Free Size)',\n",
       " 'by Lenskart Polarized, UV Protection Round Sunglasses (...']"
      ]
     },
     "execution_count": 79,
     "metadata": {},
     "output_type": "execute_result"
    }
   ],
   "source": [
    "des2_name=[]\n",
    "for i in prdt2_des:\n",
    "    des2_name.append(i.text)\n",
    "    \n",
    "des2_name"
   ]
  },
  {
   "cell_type": "code",
   "execution_count": 80,
   "id": "8c94b6dd",
   "metadata": {},
   "outputs": [
    {
     "data": {
      "text/plain": [
       "[<selenium.webdriver.remote.webelement.WebElement (session=\"da6fc58b8a238cca61cd03c629e20319\", element=\"5ab685e7-b733-441e-aa4f-882b9e1a9525\")>,\n",
       " <selenium.webdriver.remote.webelement.WebElement (session=\"da6fc58b8a238cca61cd03c629e20319\", element=\"10546622-213a-4774-aca1-d598affa7d49\")>,\n",
       " <selenium.webdriver.remote.webelement.WebElement (session=\"da6fc58b8a238cca61cd03c629e20319\", element=\"340b41df-141d-4036-90d8-b0d379b012c0\")>,\n",
       " <selenium.webdriver.remote.webelement.WebElement (session=\"da6fc58b8a238cca61cd03c629e20319\", element=\"9dfcecd9-9c14-4792-b9f6-37e567703339\")>,\n",
       " <selenium.webdriver.remote.webelement.WebElement (session=\"da6fc58b8a238cca61cd03c629e20319\", element=\"bd64913f-a381-47b2-a15b-8c702b088826\")>,\n",
       " <selenium.webdriver.remote.webelement.WebElement (session=\"da6fc58b8a238cca61cd03c629e20319\", element=\"1db527df-272f-48bd-a70c-a677ae075694\")>,\n",
       " <selenium.webdriver.remote.webelement.WebElement (session=\"da6fc58b8a238cca61cd03c629e20319\", element=\"8031c39a-3c63-4dea-aeea-fbd8ea6d8f4f\")>,\n",
       " <selenium.webdriver.remote.webelement.WebElement (session=\"da6fc58b8a238cca61cd03c629e20319\", element=\"d3716a08-c657-44ec-aa0a-578172435172\")>,\n",
       " <selenium.webdriver.remote.webelement.WebElement (session=\"da6fc58b8a238cca61cd03c629e20319\", element=\"9ba2edd6-08ae-40c0-b2a3-61bcc85bc26f\")>,\n",
       " <selenium.webdriver.remote.webelement.WebElement (session=\"da6fc58b8a238cca61cd03c629e20319\", element=\"f85bae15-4169-4987-8be9-d6d598442ffc\")>,\n",
       " <selenium.webdriver.remote.webelement.WebElement (session=\"da6fc58b8a238cca61cd03c629e20319\", element=\"6e563d06-e07f-4dd4-9190-dc0cffaa5cba\")>,\n",
       " <selenium.webdriver.remote.webelement.WebElement (session=\"da6fc58b8a238cca61cd03c629e20319\", element=\"384ab15e-a812-4b4d-bbf5-bca62296ac18\")>,\n",
       " <selenium.webdriver.remote.webelement.WebElement (session=\"da6fc58b8a238cca61cd03c629e20319\", element=\"4504af65-adeb-4eef-b604-712f9eec4614\")>,\n",
       " <selenium.webdriver.remote.webelement.WebElement (session=\"da6fc58b8a238cca61cd03c629e20319\", element=\"15efa21c-cde5-4467-a6f1-fc7535bbf39c\")>,\n",
       " <selenium.webdriver.remote.webelement.WebElement (session=\"da6fc58b8a238cca61cd03c629e20319\", element=\"45d09a49-7ef9-4b61-b072-13cc95b3ee5b\")>,\n",
       " <selenium.webdriver.remote.webelement.WebElement (session=\"da6fc58b8a238cca61cd03c629e20319\", element=\"5bcb7f57-3b43-4ee9-b3a3-03fa78902444\")>,\n",
       " <selenium.webdriver.remote.webelement.WebElement (session=\"da6fc58b8a238cca61cd03c629e20319\", element=\"e6794600-0067-43fc-85a4-def7c2743675\")>,\n",
       " <selenium.webdriver.remote.webelement.WebElement (session=\"da6fc58b8a238cca61cd03c629e20319\", element=\"6e864bad-628f-451d-a134-249681f12e9b\")>,\n",
       " <selenium.webdriver.remote.webelement.WebElement (session=\"da6fc58b8a238cca61cd03c629e20319\", element=\"0edc4ed9-a5ca-43cf-9254-e24fe2b4f666\")>,\n",
       " <selenium.webdriver.remote.webelement.WebElement (session=\"da6fc58b8a238cca61cd03c629e20319\", element=\"dab8f437-e054-496f-9d12-f13e78780ebe\")>,\n",
       " <selenium.webdriver.remote.webelement.WebElement (session=\"da6fc58b8a238cca61cd03c629e20319\", element=\"d442047b-0c1f-4367-84e0-5f97485532b4\")>,\n",
       " <selenium.webdriver.remote.webelement.WebElement (session=\"da6fc58b8a238cca61cd03c629e20319\", element=\"61258d7c-2464-4cd6-b2f1-5c4a86a372b5\")>,\n",
       " <selenium.webdriver.remote.webelement.WebElement (session=\"da6fc58b8a238cca61cd03c629e20319\", element=\"5966b6ed-58f4-4209-a4c6-8716c7c7f139\")>,\n",
       " <selenium.webdriver.remote.webelement.WebElement (session=\"da6fc58b8a238cca61cd03c629e20319\", element=\"a271e4e3-14dd-4b2a-a9ad-d35f8ea98bfd\")>,\n",
       " <selenium.webdriver.remote.webelement.WebElement (session=\"da6fc58b8a238cca61cd03c629e20319\", element=\"613db5cd-a08e-46ba-97c7-e2752aed7f4a\")>,\n",
       " <selenium.webdriver.remote.webelement.WebElement (session=\"da6fc58b8a238cca61cd03c629e20319\", element=\"c39fdbd4-cbcf-49c1-88d5-adc218869d86\")>,\n",
       " <selenium.webdriver.remote.webelement.WebElement (session=\"da6fc58b8a238cca61cd03c629e20319\", element=\"28290dae-0698-4abf-8c5a-835d8a5f6c04\")>,\n",
       " <selenium.webdriver.remote.webelement.WebElement (session=\"da6fc58b8a238cca61cd03c629e20319\", element=\"b791270f-7644-4e24-bf65-c2f3e8154c05\")>,\n",
       " <selenium.webdriver.remote.webelement.WebElement (session=\"da6fc58b8a238cca61cd03c629e20319\", element=\"d32b2c4a-d77b-4442-b833-3a63e5110074\")>,\n",
       " <selenium.webdriver.remote.webelement.WebElement (session=\"da6fc58b8a238cca61cd03c629e20319\", element=\"7eed456c-7ca1-4f02-b95c-df4f30a7ca54\")>,\n",
       " <selenium.webdriver.remote.webelement.WebElement (session=\"da6fc58b8a238cca61cd03c629e20319\", element=\"4055f1f5-af72-461c-a4fd-054e2a9cf263\")>,\n",
       " <selenium.webdriver.remote.webelement.WebElement (session=\"da6fc58b8a238cca61cd03c629e20319\", element=\"a6948511-f59c-4678-ab9c-4a7010190167\")>,\n",
       " <selenium.webdriver.remote.webelement.WebElement (session=\"da6fc58b8a238cca61cd03c629e20319\", element=\"64fc8903-43a2-4b26-93b1-0472e1421eb7\")>,\n",
       " <selenium.webdriver.remote.webelement.WebElement (session=\"da6fc58b8a238cca61cd03c629e20319\", element=\"615c62e1-7e5b-421d-b10a-ee955f9f61f6\")>,\n",
       " <selenium.webdriver.remote.webelement.WebElement (session=\"da6fc58b8a238cca61cd03c629e20319\", element=\"be3f1fd2-49f9-41c6-a83d-76cc1cc0af32\")>,\n",
       " <selenium.webdriver.remote.webelement.WebElement (session=\"da6fc58b8a238cca61cd03c629e20319\", element=\"0e0f2fd7-121d-48c9-81cf-9f2687676dd2\")>,\n",
       " <selenium.webdriver.remote.webelement.WebElement (session=\"da6fc58b8a238cca61cd03c629e20319\", element=\"8c18df98-c299-45b6-80b8-847b0d7b70af\")>,\n",
       " <selenium.webdriver.remote.webelement.WebElement (session=\"da6fc58b8a238cca61cd03c629e20319\", element=\"a5816db1-d57a-4496-a457-cb75a4ebf8ed\")>,\n",
       " <selenium.webdriver.remote.webelement.WebElement (session=\"da6fc58b8a238cca61cd03c629e20319\", element=\"9e2c09b5-8b15-40b5-b565-8fbe4a19b791\")>,\n",
       " <selenium.webdriver.remote.webelement.WebElement (session=\"da6fc58b8a238cca61cd03c629e20319\", element=\"2fcd486c-cb2e-44f9-b7ac-9944e5085f37\")>]"
      ]
     },
     "execution_count": 80,
     "metadata": {},
     "output_type": "execute_result"
    }
   ],
   "source": [
    "price2=driver4.find_elements_by_xpath('//div[@class=\"_30jeq3\"]')\n",
    "price2"
   ]
  },
  {
   "cell_type": "code",
   "execution_count": 81,
   "id": "951b85e4",
   "metadata": {},
   "outputs": [
    {
     "data": {
      "text/plain": [
       "['₹329',\n",
       " '₹1,099',\n",
       " '₹248',\n",
       " '₹271',\n",
       " '₹165',\n",
       " '₹188',\n",
       " '₹234',\n",
       " '₹616',\n",
       " '₹229',\n",
       " '₹639',\n",
       " '₹474',\n",
       " '₹616',\n",
       " '₹243',\n",
       " '₹186',\n",
       " '₹181',\n",
       " '₹499',\n",
       " '₹383',\n",
       " '₹309',\n",
       " '₹649',\n",
       " '₹331',\n",
       " '₹269',\n",
       " '₹189',\n",
       " '₹299',\n",
       " '₹449',\n",
       " '₹146',\n",
       " '₹269',\n",
       " '₹174',\n",
       " '₹759',\n",
       " '₹265',\n",
       " '₹259',\n",
       " '₹183',\n",
       " '₹999',\n",
       " '₹250',\n",
       " '₹235',\n",
       " '₹144',\n",
       " '₹499',\n",
       " '₹250',\n",
       " '₹225',\n",
       " '₹199',\n",
       " '₹1,179']"
      ]
     },
     "execution_count": 81,
     "metadata": {},
     "output_type": "execute_result"
    }
   ],
   "source": [
    "price2_name=[]\n",
    "for i in price2:\n",
    "    price2_name.append(i.text)\n",
    "    \n",
    "price2_name"
   ]
  },
  {
   "cell_type": "code",
   "execution_count": 82,
   "id": "e9ad0e50",
   "metadata": {},
   "outputs": [
    {
     "data": {
      "text/plain": [
       "<selenium.webdriver.remote.webelement.WebElement (session=\"da6fc58b8a238cca61cd03c629e20319\", element=\"b25cfe79-9186-4f0c-b6a0-a8711d78abfa\")>"
      ]
     },
     "execution_count": 82,
     "metadata": {},
     "output_type": "execute_result"
    }
   ],
   "source": [
    "next_page=driver4.find_element_by_class_name('ge-49M')\n",
    "next_page"
   ]
  },
  {
   "cell_type": "code",
   "execution_count": 83,
   "id": "e4bf4285",
   "metadata": {},
   "outputs": [],
   "source": [
    "next_page.click()"
   ]
  },
  {
   "cell_type": "code",
   "execution_count": 84,
   "id": "b7378c0b",
   "metadata": {},
   "outputs": [
    {
     "data": {
      "text/plain": [
       "[<selenium.webdriver.remote.webelement.WebElement (session=\"da6fc58b8a238cca61cd03c629e20319\", element=\"ee189d1f-ad0d-4738-8fb3-17ae556791fc\")>,\n",
       " <selenium.webdriver.remote.webelement.WebElement (session=\"da6fc58b8a238cca61cd03c629e20319\", element=\"3c1a2d70-e238-4516-a6d9-24cee9210067\")>,\n",
       " <selenium.webdriver.remote.webelement.WebElement (session=\"da6fc58b8a238cca61cd03c629e20319\", element=\"0ac437ed-dc89-4523-bf18-9da780185987\")>,\n",
       " <selenium.webdriver.remote.webelement.WebElement (session=\"da6fc58b8a238cca61cd03c629e20319\", element=\"479d6dbf-d0a0-45b9-8e34-779e152c1a1e\")>,\n",
       " <selenium.webdriver.remote.webelement.WebElement (session=\"da6fc58b8a238cca61cd03c629e20319\", element=\"ffe619e8-906d-4c3c-b7a5-d9024bbced88\")>,\n",
       " <selenium.webdriver.remote.webelement.WebElement (session=\"da6fc58b8a238cca61cd03c629e20319\", element=\"48f5221b-6589-48ba-8b9a-5756f1b7012d\")>,\n",
       " <selenium.webdriver.remote.webelement.WebElement (session=\"da6fc58b8a238cca61cd03c629e20319\", element=\"8e8621f5-4edb-4a7a-9b7d-275056789fa1\")>,\n",
       " <selenium.webdriver.remote.webelement.WebElement (session=\"da6fc58b8a238cca61cd03c629e20319\", element=\"794f37a4-d3b2-4567-9592-ef83feaea467\")>,\n",
       " <selenium.webdriver.remote.webelement.WebElement (session=\"da6fc58b8a238cca61cd03c629e20319\", element=\"4a66469f-a923-4784-a4d0-84f3dd77ec00\")>,\n",
       " <selenium.webdriver.remote.webelement.WebElement (session=\"da6fc58b8a238cca61cd03c629e20319\", element=\"2dd9e844-213b-4f57-a83f-81b8931a6e85\")>,\n",
       " <selenium.webdriver.remote.webelement.WebElement (session=\"da6fc58b8a238cca61cd03c629e20319\", element=\"65cbcfad-9c7b-4e45-9076-38822de0ca7c\")>,\n",
       " <selenium.webdriver.remote.webelement.WebElement (session=\"da6fc58b8a238cca61cd03c629e20319\", element=\"56a66118-f0c7-41f5-82fb-200e9fac0218\")>,\n",
       " <selenium.webdriver.remote.webelement.WebElement (session=\"da6fc58b8a238cca61cd03c629e20319\", element=\"25d84429-f5f1-49fc-a2db-07a5099976ef\")>,\n",
       " <selenium.webdriver.remote.webelement.WebElement (session=\"da6fc58b8a238cca61cd03c629e20319\", element=\"550be087-9c7e-4492-af6a-83f447e56e3c\")>,\n",
       " <selenium.webdriver.remote.webelement.WebElement (session=\"da6fc58b8a238cca61cd03c629e20319\", element=\"15acb19e-b048-459e-8d9b-a00327afcdcb\")>,\n",
       " <selenium.webdriver.remote.webelement.WebElement (session=\"da6fc58b8a238cca61cd03c629e20319\", element=\"ce19151c-cb33-4e3e-bf05-2cdbb2ba4cb1\")>,\n",
       " <selenium.webdriver.remote.webelement.WebElement (session=\"da6fc58b8a238cca61cd03c629e20319\", element=\"cab39cc0-c4fd-456d-b84e-013a323fd383\")>,\n",
       " <selenium.webdriver.remote.webelement.WebElement (session=\"da6fc58b8a238cca61cd03c629e20319\", element=\"13c0b3f6-0db6-4490-a15f-016717a37a32\")>,\n",
       " <selenium.webdriver.remote.webelement.WebElement (session=\"da6fc58b8a238cca61cd03c629e20319\", element=\"a99e9b95-ae26-472f-a25d-e7f443b6d982\")>,\n",
       " <selenium.webdriver.remote.webelement.WebElement (session=\"da6fc58b8a238cca61cd03c629e20319\", element=\"03758b93-3dbe-4bce-9144-cf91f2015aad\")>,\n",
       " <selenium.webdriver.remote.webelement.WebElement (session=\"da6fc58b8a238cca61cd03c629e20319\", element=\"892a55d4-a837-43ab-b966-95e13cee5c56\")>,\n",
       " <selenium.webdriver.remote.webelement.WebElement (session=\"da6fc58b8a238cca61cd03c629e20319\", element=\"87fb8ce0-be2e-4daf-ad9c-349ec09c1a11\")>,\n",
       " <selenium.webdriver.remote.webelement.WebElement (session=\"da6fc58b8a238cca61cd03c629e20319\", element=\"b36f0ce2-4171-4ee7-97c4-842a42ca1bc5\")>,\n",
       " <selenium.webdriver.remote.webelement.WebElement (session=\"da6fc58b8a238cca61cd03c629e20319\", element=\"b7a19925-493f-4dba-89f3-14d4d25bbfb2\")>,\n",
       " <selenium.webdriver.remote.webelement.WebElement (session=\"da6fc58b8a238cca61cd03c629e20319\", element=\"9149e465-eb80-4174-aa70-bc55898b9cf8\")>,\n",
       " <selenium.webdriver.remote.webelement.WebElement (session=\"da6fc58b8a238cca61cd03c629e20319\", element=\"70ff8d77-2a7c-435d-96d3-566a69c1bff2\")>,\n",
       " <selenium.webdriver.remote.webelement.WebElement (session=\"da6fc58b8a238cca61cd03c629e20319\", element=\"45ffd3a4-d45d-4d64-9a81-ed6af6947a08\")>,\n",
       " <selenium.webdriver.remote.webelement.WebElement (session=\"da6fc58b8a238cca61cd03c629e20319\", element=\"6c20dac9-b3e9-4c56-ba96-3c9a341f814d\")>,\n",
       " <selenium.webdriver.remote.webelement.WebElement (session=\"da6fc58b8a238cca61cd03c629e20319\", element=\"8623304b-2519-49fd-ad60-af5812ce07a6\")>,\n",
       " <selenium.webdriver.remote.webelement.WebElement (session=\"da6fc58b8a238cca61cd03c629e20319\", element=\"7598024c-96bd-4f2b-a36f-a1c260ec2703\")>,\n",
       " <selenium.webdriver.remote.webelement.WebElement (session=\"da6fc58b8a238cca61cd03c629e20319\", element=\"e918f1f9-5992-4029-9bbe-1d082b3edb74\")>,\n",
       " <selenium.webdriver.remote.webelement.WebElement (session=\"da6fc58b8a238cca61cd03c629e20319\", element=\"d4c0d521-ea1e-47de-916a-7b98f1ca87fa\")>,\n",
       " <selenium.webdriver.remote.webelement.WebElement (session=\"da6fc58b8a238cca61cd03c629e20319\", element=\"63b98317-c142-43a0-9ae5-de73fbcb1361\")>,\n",
       " <selenium.webdriver.remote.webelement.WebElement (session=\"da6fc58b8a238cca61cd03c629e20319\", element=\"b2d956bd-05be-4d70-869b-9a6402d2d200\")>,\n",
       " <selenium.webdriver.remote.webelement.WebElement (session=\"da6fc58b8a238cca61cd03c629e20319\", element=\"035aa667-89a3-46ed-8f10-71f1bb7210ed\")>,\n",
       " <selenium.webdriver.remote.webelement.WebElement (session=\"da6fc58b8a238cca61cd03c629e20319\", element=\"456497f6-2a65-4ffb-9b09-50323fd9a651\")>,\n",
       " <selenium.webdriver.remote.webelement.WebElement (session=\"da6fc58b8a238cca61cd03c629e20319\", element=\"e76dcf78-040c-4a27-b2e7-d9fe6ba37c4c\")>,\n",
       " <selenium.webdriver.remote.webelement.WebElement (session=\"da6fc58b8a238cca61cd03c629e20319\", element=\"b6d82407-5cf5-4607-90b8-f9335953b6d6\")>,\n",
       " <selenium.webdriver.remote.webelement.WebElement (session=\"da6fc58b8a238cca61cd03c629e20319\", element=\"e312fb4a-4380-431b-8bc1-37b8ddd609a3\")>,\n",
       " <selenium.webdriver.remote.webelement.WebElement (session=\"da6fc58b8a238cca61cd03c629e20319\", element=\"c5aed3a8-c046-4c9b-9435-864feae52149\")>]"
      ]
     },
     "execution_count": 84,
     "metadata": {},
     "output_type": "execute_result"
    }
   ],
   "source": [
    "page3_brand=driver4.find_elements_by_xpath('//div[@class=\"_2WkVRV\"]')\n",
    "page3_brand"
   ]
  },
  {
   "cell_type": "code",
   "execution_count": 85,
   "id": "83591ebd",
   "metadata": {},
   "outputs": [
    {
     "data": {
      "text/plain": [
       "['Singco India',\n",
       " 'VILLAIN',\n",
       " 'Elligator',\n",
       " 'SUNBEE',\n",
       " 'SHAAH COLLECTIONS',\n",
       " 'SRPM',\n",
       " 'New Specs',\n",
       " 'ROZZETTA CRAFT',\n",
       " 'PIRASO',\n",
       " 'Fastrack',\n",
       " 'ROZZETTA CRAFT',\n",
       " 'ROZZETTA CRAFT',\n",
       " 'SUNBEE',\n",
       " 'kingsunglasses',\n",
       " 'SHAAH COLLECTIONS',\n",
       " 'ROZZETTA CRAFT',\n",
       " 'ROZZETTA CRAFT',\n",
       " 'PHENOMENAL',\n",
       " 'Fastrack',\n",
       " 'ROZZETTA CRAFT',\n",
       " 'PHENOMENAL',\n",
       " 'Elligator',\n",
       " 'PHENOMENAL',\n",
       " 'ROZZETTA CRAFT',\n",
       " 'Johaena',\n",
       " 'GANSTA',\n",
       " 'kingsunglasses',\n",
       " 'ROYAL SON',\n",
       " 'Elligator',\n",
       " 'New Specs',\n",
       " 'New Specs',\n",
       " 'VINCENT CHASE',\n",
       " 'PIRASO',\n",
       " 'SUNBEE',\n",
       " 'maxa',\n",
       " 'elegante',\n",
       " 'PIRASO',\n",
       " 'PIRASO',\n",
       " 'Lee Topper',\n",
       " 'VINCENT CHASE']"
      ]
     },
     "execution_count": 85,
     "metadata": {},
     "output_type": "execute_result"
    }
   ],
   "source": [
    "brand3=[]\n",
    "for i in page3_brand:\n",
    "    brand3.append(i.text)\n",
    "    brand3.append:brand3[0:20]\n",
    "brand3"
   ]
  },
  {
   "cell_type": "markdown",
   "id": "5d17486a",
   "metadata": {},
   "source": [
    "# Q5: Scrape 100 reviews data from flipkart.com for iphone11 phone. You have to go the link:"
   ]
  },
  {
   "cell_type": "code",
   "execution_count": 86,
   "id": "f6344636",
   "metadata": {},
   "outputs": [],
   "source": [
    "# Let's import all required libraries\n",
    "import selenium\n",
    "from selenium import webdriver\n",
    "import pandas as pd\n",
    "import warnings\n",
    "warnings.filterwarnings(\"ignore\")"
   ]
  },
  {
   "cell_type": "code",
   "execution_count": 87,
   "id": "61f47d4e",
   "metadata": {},
   "outputs": [],
   "source": [
    "driver5=webdriver.Chrome('chromedriver.exe')"
   ]
  },
  {
   "cell_type": "code",
   "execution_count": 88,
   "id": "32626b2b",
   "metadata": {},
   "outputs": [],
   "source": [
    "url5=\"s://www.flipkart.com/apple-iphone-11-black-64-gb-includes- earpods-power-adapter/p/itm0f37c2240b217?pid=MOBFKCTSVZAXUHGR&lid=LSTMOBFKCTSVZAXUHGREPBFGI&marketplace\"\n",
    "driver5.get(url5)"
   ]
  },
  {
   "cell_type": "code",
   "execution_count": 89,
   "id": "2c662ce7",
   "metadata": {},
   "outputs": [],
   "source": [
    "# The Link provided above is not opening in 'automated tested chrome' it may be removed by flipkart so cannot scrap the data "
   ]
  },
  {
   "cell_type": "markdown",
   "id": "f154f663",
   "metadata": {},
   "source": [
    "# Q6: Scrape data for first 100 sneakers you find when you visit flipkart.com andsearch for “sneakers” in the\n",
    "search field"
   ]
  },
  {
   "cell_type": "code",
   "execution_count": 90,
   "id": "b9d5a825",
   "metadata": {},
   "outputs": [],
   "source": [
    "driver6=webdriver.Chrome('chromedriver.exe')"
   ]
  },
  {
   "cell_type": "code",
   "execution_count": 91,
   "id": "1c69a392",
   "metadata": {},
   "outputs": [],
   "source": [
    "url6=\"https://www.flipkart.com/\"\n",
    "driver6.get(url6)"
   ]
  },
  {
   "cell_type": "code",
   "execution_count": 92,
   "id": "a5bf6fee",
   "metadata": {},
   "outputs": [
    {
     "data": {
      "text/plain": [
       "<selenium.webdriver.remote.webelement.WebElement (session=\"c225948e50d130b91a9ede77ddcace6c\", element=\"d643470c-65cc-4b75-aa79-d6dee02c8c02\")>"
      ]
     },
     "execution_count": 92,
     "metadata": {},
     "output_type": "execute_result"
    }
   ],
   "source": [
    "srh_sneaker=driver6.find_element_by_class_name('_3704LK')\n",
    "srh_sneaker"
   ]
  },
  {
   "cell_type": "code",
   "execution_count": 93,
   "id": "f47b3c5c",
   "metadata": {},
   "outputs": [],
   "source": [
    "srh_sneaker.send_keys('sneakers')"
   ]
  },
  {
   "cell_type": "code",
   "execution_count": 94,
   "id": "56263b08",
   "metadata": {},
   "outputs": [],
   "source": [
    "srh_btn6=driver6.find_element_by_class_name(\"_34RNph\")\n",
    "srh_btn6.click()"
   ]
  },
  {
   "cell_type": "code",
   "execution_count": 95,
   "id": "4de50932",
   "metadata": {},
   "outputs": [],
   "source": [
    "brand_name6 = []\n",
    "prd_desc6 = []\n",
    "price6 = []\n",
    "discount6 = []\n",
    "\n",
    "for k in range(1,4):\n",
    "\n",
    "    \n",
    "    brand = driver6.find_elements_by_class_name('_2WkVRV')\n",
    "    \n",
    "\n",
    "    for i in brand:\n",
    "        brand_name6.append(i.text)\n",
    "\n",
    "    desc = driver6.find_elements_by_class_name('IRpwTa')\n",
    "    \n",
    "\n",
    "    for i in desc:\n",
    "        prd_desc6.append(i.text)\n",
    "\n",
    "    cost = driver6.find_elements_by_class_name(\"_30jeq3\")\n",
    "    \n",
    "\n",
    "    for i in cost:\n",
    "        price6.append(i.text)\n",
    "\n",
    "\n",
    "    dis = driver6.find_elements_by_class_name(\"_3Ay6Sb\")\n",
    "    \n",
    "\n",
    "    for i in dis:\n",
    "        discount6.append(i.text)\n",
    "    \n",
    "    \n",
    "        nxt_button=driver6.find_elements_by_xpath(\"//a[@class='_1LKTO3']\")              \n",
    "    try:\n",
    "\n",
    "        driver6.get(nxt_button[1].get_attribute('href'))\n",
    "        \n",
    "\n",
    "    except:\n",
    "\n",
    "        driver6.get(nxt_button[0].get_attribute('href'))"
   ]
  },
  {
   "cell_type": "code",
   "execution_count": 96,
   "id": "d3d43cec",
   "metadata": {},
   "outputs": [],
   "source": [
    "brand_name6 = brand_name6[0:100]\n",
    "prd_desc6 = prd_desc6[0:100]\n",
    "price6 = price6[0:100]\n",
    "discount6 = discount6[0:100]"
   ]
  },
  {
   "cell_type": "code",
   "execution_count": 97,
   "id": "cf715d3c",
   "metadata": {},
   "outputs": [
    {
     "data": {
      "text/html": [
       "<div>\n",
       "<style scoped>\n",
       "    .dataframe tbody tr th:only-of-type {\n",
       "        vertical-align: middle;\n",
       "    }\n",
       "\n",
       "    .dataframe tbody tr th {\n",
       "        vertical-align: top;\n",
       "    }\n",
       "\n",
       "    .dataframe thead th {\n",
       "        text-align: right;\n",
       "    }\n",
       "</style>\n",
       "<table border=\"1\" class=\"dataframe\">\n",
       "  <thead>\n",
       "    <tr style=\"text-align: right;\">\n",
       "      <th></th>\n",
       "      <th>brand_name</th>\n",
       "      <th>prd_desc</th>\n",
       "      <th>price</th>\n",
       "      <th>discount</th>\n",
       "    </tr>\n",
       "  </thead>\n",
       "  <tbody>\n",
       "    <tr>\n",
       "      <th>0</th>\n",
       "      <td>Labbin</td>\n",
       "      <td>Sneakers For Men</td>\n",
       "      <td>₹499</td>\n",
       "      <td>50% off</td>\n",
       "    </tr>\n",
       "    <tr>\n",
       "      <th>1</th>\n",
       "      <td>aadi</td>\n",
       "      <td>Sneakers For Men</td>\n",
       "      <td>₹499</td>\n",
       "      <td>50% off</td>\n",
       "    </tr>\n",
       "    <tr>\n",
       "      <th>2</th>\n",
       "      <td>PUMA</td>\n",
       "      <td>Smash v2 L Sneakers For Men</td>\n",
       "      <td>₹2,059</td>\n",
       "      <td>41% off</td>\n",
       "    </tr>\n",
       "    <tr>\n",
       "      <th>3</th>\n",
       "      <td>BRUTON</td>\n",
       "      <td>Combo Pack Of 4 Casual Shoes Loafer Shoes Snea...</td>\n",
       "      <td>₹499</td>\n",
       "      <td>85% off</td>\n",
       "    </tr>\n",
       "    <tr>\n",
       "      <th>4</th>\n",
       "      <td>Chevit</td>\n",
       "      <td>Super Stylish &amp; Trendy Combo Pack of 02 Pairs ...</td>\n",
       "      <td>₹649</td>\n",
       "      <td>59% off</td>\n",
       "    </tr>\n",
       "    <tr>\n",
       "      <th>...</th>\n",
       "      <td>...</td>\n",
       "      <td>...</td>\n",
       "      <td>...</td>\n",
       "      <td>...</td>\n",
       "    </tr>\n",
       "    <tr>\n",
       "      <th>95</th>\n",
       "      <td>HRX by Hrithik Roshan</td>\n",
       "      <td>Men White Printed Sneakers Sneakers For Men</td>\n",
       "      <td>₹296</td>\n",
       "      <td>50% off</td>\n",
       "    </tr>\n",
       "    <tr>\n",
       "      <th>96</th>\n",
       "      <td>Earton</td>\n",
       "      <td>casual sneakers, loafers,walking and running s...</td>\n",
       "      <td>₹499</td>\n",
       "      <td>50% off</td>\n",
       "    </tr>\n",
       "    <tr>\n",
       "      <th>97</th>\n",
       "      <td>BIRDE</td>\n",
       "      <td>Trendy Casual Shoes Sneakers For Men</td>\n",
       "      <td>₹499</td>\n",
       "      <td>56% off</td>\n",
       "    </tr>\n",
       "    <tr>\n",
       "      <th>98</th>\n",
       "      <td>WHITE WALKERS</td>\n",
       "      <td>Stylish &amp; Trending Outdoor Walking Comfortable...</td>\n",
       "      <td>₹439</td>\n",
       "      <td>57% off</td>\n",
       "    </tr>\n",
       "    <tr>\n",
       "      <th>99</th>\n",
       "      <td>Echor</td>\n",
       "      <td>Sneakers For Men</td>\n",
       "      <td>₹758</td>\n",
       "      <td>55% off</td>\n",
       "    </tr>\n",
       "  </tbody>\n",
       "</table>\n",
       "<p>100 rows × 4 columns</p>\n",
       "</div>"
      ],
      "text/plain": [
       "               brand_name                                           prd_desc  \\\n",
       "0                  Labbin                                   Sneakers For Men   \n",
       "1                    aadi                                   Sneakers For Men   \n",
       "2                    PUMA                        Smash v2 L Sneakers For Men   \n",
       "3                  BRUTON  Combo Pack Of 4 Casual Shoes Loafer Shoes Snea...   \n",
       "4                  Chevit  Super Stylish & Trendy Combo Pack of 02 Pairs ...   \n",
       "..                    ...                                                ...   \n",
       "95  HRX by Hrithik Roshan        Men White Printed Sneakers Sneakers For Men   \n",
       "96                 Earton  casual sneakers, loafers,walking and running s...   \n",
       "97                  BIRDE               Trendy Casual Shoes Sneakers For Men   \n",
       "98          WHITE WALKERS  Stylish & Trending Outdoor Walking Comfortable...   \n",
       "99                  Echor                                   Sneakers For Men   \n",
       "\n",
       "     price discount  \n",
       "0     ₹499  50% off  \n",
       "1     ₹499  50% off  \n",
       "2   ₹2,059  41% off  \n",
       "3     ₹499  85% off  \n",
       "4     ₹649  59% off  \n",
       "..     ...      ...  \n",
       "95    ₹296  50% off  \n",
       "96    ₹499  50% off  \n",
       "97    ₹499  56% off  \n",
       "98    ₹439  57% off  \n",
       "99    ₹758  55% off  \n",
       "\n",
       "[100 rows x 4 columns]"
      ]
     },
     "execution_count": 97,
     "metadata": {},
     "output_type": "execute_result"
    }
   ],
   "source": [
    "df6 = pd.DataFrame({})\n",
    "df6['brand_name'] = brand_name6\n",
    "df6['prd_desc'] = prd_desc6\n",
    "df6['price'] = price6\n",
    "df6['discount'] = discount6\n",
    "df6"
   ]
  },
  {
   "cell_type": "markdown",
   "id": "dc80d8ab",
   "metadata": {},
   "source": [
    "# Q7:Go to the link - https://www.myntra.com/shoes\n",
    "Set Price filter to “Rs. 7149 to Rs. 14099 ” , Color filter to “Black”, as shown inthe below image."
   ]
  },
  {
   "cell_type": "code",
   "execution_count": 98,
   "id": "6405c971",
   "metadata": {},
   "outputs": [],
   "source": [
    "driver=webdriver.Chrome('chromedriver.exe')"
   ]
  },
  {
   "cell_type": "code",
   "execution_count": 99,
   "id": "07bd4bf4",
   "metadata": {},
   "outputs": [],
   "source": [
    "url = \"https://www.myntra.com/shoes\"\n",
    "\n",
    "driver.get(url)"
   ]
  },
  {
   "cell_type": "code",
   "execution_count": 100,
   "id": "900ec43a",
   "metadata": {},
   "outputs": [],
   "source": [
    "driver.find_element_by_xpath(\"/html/body/div[2]/div/div[1]/main/div[3]/div[1]/section/div/div[5]/ul/li[2]/label/div\").click()"
   ]
  },
  {
   "cell_type": "code",
   "execution_count": 101,
   "id": "98646b07",
   "metadata": {},
   "outputs": [],
   "source": [
    "driver.find_element_by_xpath(\"/html/body/div[2]/div/div[1]/main/div[3]/div[1]/section/div/div[6]/ul/li[1]/label/div\").click()"
   ]
  },
  {
   "cell_type": "code",
   "execution_count": 102,
   "id": "4ff97352",
   "metadata": {},
   "outputs": [],
   "source": [
    "brand_name7 = []\n",
    "prd_desc7 = []\n",
    "price7 = []\n",
    "\n",
    "\n",
    "\n",
    "brand = driver.find_elements_by_class_name('product-brand')\n",
    "    \n",
    "\n",
    "for i in brand:\n",
    "    brand_name7.append(i.text)\n",
    "\n",
    "desc = driver.find_elements_by_class_name('product-product')\n",
    "    \n",
    "for i in desc:\n",
    "    prd_desc7.append(i.text)\n",
    "\n",
    "cost = driver.find_elements_by_class_name(\"product-price\")\n",
    "    \n",
    "\n",
    "for i in cost:\n",
    "    price7.append(i.text)"
   ]
  },
  {
   "cell_type": "code",
   "execution_count": 103,
   "id": "5ca6ac6a",
   "metadata": {},
   "outputs": [
    {
     "data": {
      "text/plain": [
       "(50, 50, 50)"
      ]
     },
     "execution_count": 103,
     "metadata": {},
     "output_type": "execute_result"
    }
   ],
   "source": [
    "len(brand_name7),len(prd_desc7),len(price7)\n"
   ]
  },
  {
   "cell_type": "code",
   "execution_count": 104,
   "id": "58fd3e4e",
   "metadata": {},
   "outputs": [],
   "source": [
    "driver = webdriver.Chrome('chromedriver.exe')\n",
    "\n",
    "url = \"https://www.myntra.com/shoes?f=Color%3ABlack_36454f&p=2&plaEnabled=false&rf=Price%3A6657.0_13105.0_6657.0%20TO%2013105.0\"\n",
    "\n",
    "driver.get(url)"
   ]
  },
  {
   "cell_type": "code",
   "execution_count": 105,
   "id": "85e6def4",
   "metadata": {},
   "outputs": [],
   "source": [
    "brand_name1 = []\n",
    "prd_desc1 = []\n",
    "price1 = []\n",
    "\n",
    "\n",
    "\n",
    "brand = driver.find_elements_by_class_name('product-brand')\n",
    "    \n",
    "\n",
    "for i in brand:\n",
    "    brand_name1.append(i.text)\n",
    "\n",
    "desc = driver.find_elements_by_class_name('product-product')\n",
    "    \n",
    "for i in desc:\n",
    "    prd_desc1.append(i.text)\n",
    "\n",
    "cost = driver.find_elements_by_class_name(\"product-price\")\n",
    "    \n",
    "\n",
    "for i in cost:\n",
    "    price1.append(i.text)"
   ]
  },
  {
   "cell_type": "code",
   "execution_count": 106,
   "id": "41166a3f",
   "metadata": {},
   "outputs": [],
   "source": [
    "df24 = pd.DataFrame({})\n",
    "df24['brand_name'] = brand_name7+brand_name1\n",
    "df24['prd_desc'] = prd_desc7+prd_desc1\n",
    "df24['[price]'] = price7+price1"
   ]
  },
  {
   "cell_type": "code",
   "execution_count": 108,
   "id": "11aa1cf3",
   "metadata": {},
   "outputs": [
    {
     "data": {
      "text/html": [
       "<div>\n",
       "<style scoped>\n",
       "    .dataframe tbody tr th:only-of-type {\n",
       "        vertical-align: middle;\n",
       "    }\n",
       "\n",
       "    .dataframe tbody tr th {\n",
       "        vertical-align: top;\n",
       "    }\n",
       "\n",
       "    .dataframe thead th {\n",
       "        text-align: right;\n",
       "    }\n",
       "</style>\n",
       "<table border=\"1\" class=\"dataframe\">\n",
       "  <thead>\n",
       "    <tr style=\"text-align: right;\">\n",
       "      <th></th>\n",
       "      <th>brand_name</th>\n",
       "      <th>prd_desc</th>\n",
       "      <th>[price]</th>\n",
       "    </tr>\n",
       "  </thead>\n",
       "  <tbody>\n",
       "    <tr>\n",
       "      <th>0</th>\n",
       "      <td>Nike</td>\n",
       "      <td>Men AIR ZOOM PEGASUS 38</td>\n",
       "      <td>Rs. 10920Rs. 11495(5% OFF)</td>\n",
       "    </tr>\n",
       "    <tr>\n",
       "      <th>1</th>\n",
       "      <td>ALDO</td>\n",
       "      <td>Men Printed Sneakers</td>\n",
       "      <td>Rs. 9099Rs. 12999(30% OFF)</td>\n",
       "    </tr>\n",
       "    <tr>\n",
       "      <th>2</th>\n",
       "      <td>Nike</td>\n",
       "      <td>Men Blazer Court Skateboarding</td>\n",
       "      <td>Rs. 7495</td>\n",
       "    </tr>\n",
       "    <tr>\n",
       "      <th>3</th>\n",
       "      <td>Puma</td>\n",
       "      <td>Men Jamming 2.0 Running Shoes</td>\n",
       "      <td>Rs. 12999</td>\n",
       "    </tr>\n",
       "    <tr>\n",
       "      <th>4</th>\n",
       "      <td>Puma</td>\n",
       "      <td>Men Deviate Nitro Running Shoe</td>\n",
       "      <td>Rs. 10499Rs. 14999(30% OFF)</td>\n",
       "    </tr>\n",
       "    <tr>\n",
       "      <th>...</th>\n",
       "      <td>...</td>\n",
       "      <td>...</td>\n",
       "      <td>...</td>\n",
       "    </tr>\n",
       "    <tr>\n",
       "      <th>95</th>\n",
       "      <td>DAVINCHI</td>\n",
       "      <td>Solid Slip On Shoes</td>\n",
       "      <td>Solid Slip On Shoes</td>\n",
       "    </tr>\n",
       "    <tr>\n",
       "      <th>96</th>\n",
       "      <td>Geox</td>\n",
       "      <td>Women Solid Leather Pumps</td>\n",
       "      <td>Women Solid Leather Pumps</td>\n",
       "    </tr>\n",
       "    <tr>\n",
       "      <th>97</th>\n",
       "      <td>DAVINCHI</td>\n",
       "      <td>Men Formal Leather Slip-Ons</td>\n",
       "      <td>Men Formal Leather Slip-Ons</td>\n",
       "    </tr>\n",
       "    <tr>\n",
       "      <th>98</th>\n",
       "      <td>Clarks</td>\n",
       "      <td>Men Solid Formal Leather Derbys</td>\n",
       "      <td>Men Solid Formal Leather Derbys</td>\n",
       "    </tr>\n",
       "    <tr>\n",
       "      <th>99</th>\n",
       "      <td>Clarks</td>\n",
       "      <td>Men Leather Solid Sneakers</td>\n",
       "      <td>Men Leather Solid Sneakers</td>\n",
       "    </tr>\n",
       "  </tbody>\n",
       "</table>\n",
       "<p>100 rows × 3 columns</p>\n",
       "</div>"
      ],
      "text/plain": [
       "   brand_name                         prd_desc  \\\n",
       "0        Nike          Men AIR ZOOM PEGASUS 38   \n",
       "1        ALDO             Men Printed Sneakers   \n",
       "2        Nike   Men Blazer Court Skateboarding   \n",
       "3        Puma    Men Jamming 2.0 Running Shoes   \n",
       "4        Puma   Men Deviate Nitro Running Shoe   \n",
       "..        ...                              ...   \n",
       "95   DAVINCHI              Solid Slip On Shoes   \n",
       "96       Geox        Women Solid Leather Pumps   \n",
       "97   DAVINCHI      Men Formal Leather Slip-Ons   \n",
       "98     Clarks  Men Solid Formal Leather Derbys   \n",
       "99     Clarks       Men Leather Solid Sneakers   \n",
       "\n",
       "                            [price]  \n",
       "0        Rs. 10920Rs. 11495(5% OFF)  \n",
       "1        Rs. 9099Rs. 12999(30% OFF)  \n",
       "2                          Rs. 7495  \n",
       "3                         Rs. 12999  \n",
       "4       Rs. 10499Rs. 14999(30% OFF)  \n",
       "..                              ...  \n",
       "95              Solid Slip On Shoes  \n",
       "96        Women Solid Leather Pumps  \n",
       "97      Men Formal Leather Slip-Ons  \n",
       "98  Men Solid Formal Leather Derbys  \n",
       "99       Men Leather Solid Sneakers  \n",
       "\n",
       "[100 rows x 3 columns]"
      ]
     },
     "execution_count": 108,
     "metadata": {},
     "output_type": "execute_result"
    }
   ],
   "source": [
    "df24"
   ]
  },
  {
   "cell_type": "markdown",
   "id": "83f773f7",
   "metadata": {},
   "source": [
    "# Q8: Go to webpage https://www.amazon.in/\n",
    "Enter “Laptop” in the search field and then click the search icon. Then set CPU Type filter to “Intel Core i7” and “Intel Core i9” as shown in the below image:"
   ]
  },
  {
   "cell_type": "code",
   "execution_count": 1,
   "id": "4766ea4e",
   "metadata": {},
   "outputs": [],
   "source": [
    "import selenium \n",
    "from selenium import webdriver\n",
    "import pandas as pd\n",
    "import warnings \n",
    "warnings.filterwarnings('ignore')"
   ]
  },
  {
   "cell_type": "code",
   "execution_count": 15,
   "id": "c800ff2d",
   "metadata": {},
   "outputs": [],
   "source": [
    "driver=webdriver.Chrome('chromedriver.exe')"
   ]
  },
  {
   "cell_type": "code",
   "execution_count": 16,
   "id": "2a8265e6",
   "metadata": {},
   "outputs": [],
   "source": [
    "url='https://www.amazon.in/'\n",
    "driver.get(url)"
   ]
  },
  {
   "cell_type": "code",
   "execution_count": 17,
   "id": "5ec4bda1",
   "metadata": {},
   "outputs": [
    {
     "data": {
      "text/plain": [
       "<selenium.webdriver.remote.webelement.WebElement (session=\"ccacc82aa19c11f511ca9d0bdb21b900\", element=\"f2972660-e7bb-4c8e-9ca3-0d7e906bd613\")>"
      ]
     },
     "execution_count": 17,
     "metadata": {},
     "output_type": "execute_result"
    }
   ],
   "source": [
    "srh_lap=driver.find_element_by_id('twotabsearchtextbox')\n",
    "srh_lap"
   ]
  },
  {
   "cell_type": "code",
   "execution_count": 18,
   "id": "e73e6e5f",
   "metadata": {},
   "outputs": [],
   "source": [
    "srh_lap.send_keys(\"Laptop\")"
   ]
  },
  {
   "cell_type": "code",
   "execution_count": 19,
   "id": "bcc056af",
   "metadata": {},
   "outputs": [],
   "source": [
    "button_srh=driver.find_element_by_id(\"nav-search-submit-button\")\n",
    "button_srh.click()"
   ]
  },
  {
   "cell_type": "code",
   "execution_count": 20,
   "id": "83203afe",
   "metadata": {},
   "outputs": [],
   "source": [
    "core_i7=driver.find_element_by_xpath(\"/html/body/div[1]/div[2]/div[1]/div[2]/div/div[3]/span/div[1]/div/div/div[5]/ul[3]/li[12]/span/a/span\")\n",
    "core_i7.click()"
   ]
  },
  {
   "cell_type": "code",
   "execution_count": 26,
   "id": "824e4667",
   "metadata": {},
   "outputs": [
    {
     "data": {
      "text/plain": [
       "[]"
      ]
     },
     "execution_count": 26,
     "metadata": {},
     "output_type": "execute_result"
    }
   ],
   "source": [
    "core_i9=driver.find_elements_by_xpath(\"/html/body/div[1]/div[2]/div[1]/div[2]/div/div[3]/span/div[1]/div/div/div[5]/ul[3]/li[13]/span/a/div/label\")\n",
    "core_i9"
   ]
  },
  {
   "cell_type": "code",
   "execution_count": 27,
   "id": "be83816f",
   "metadata": {},
   "outputs": [
    {
     "data": {
      "text/plain": [
       "[<selenium.webdriver.remote.webelement.WebElement (session=\"ccacc82aa19c11f511ca9d0bdb21b900\", element=\"1a434ca6-7b4d-4e27-bc90-9ca847a430a0\")>,\n",
       " <selenium.webdriver.remote.webelement.WebElement (session=\"ccacc82aa19c11f511ca9d0bdb21b900\", element=\"15f80488-2be4-47f9-a5c7-e6fa59a696aa\")>,\n",
       " <selenium.webdriver.remote.webelement.WebElement (session=\"ccacc82aa19c11f511ca9d0bdb21b900\", element=\"33566cb9-95ea-4d35-a4b0-1e038e651d57\")>,\n",
       " <selenium.webdriver.remote.webelement.WebElement (session=\"ccacc82aa19c11f511ca9d0bdb21b900\", element=\"f640588b-6c86-4ac0-aeb8-0ed65d2608ef\")>,\n",
       " <selenium.webdriver.remote.webelement.WebElement (session=\"ccacc82aa19c11f511ca9d0bdb21b900\", element=\"c892aa7a-6f06-4cd9-b6cf-717603332a05\")>,\n",
       " <selenium.webdriver.remote.webelement.WebElement (session=\"ccacc82aa19c11f511ca9d0bdb21b900\", element=\"7385f0d3-3a73-4abf-9e9b-8b497ef94911\")>,\n",
       " <selenium.webdriver.remote.webelement.WebElement (session=\"ccacc82aa19c11f511ca9d0bdb21b900\", element=\"4de488df-2831-44d4-b9d6-dfc27b93cf65\")>,\n",
       " <selenium.webdriver.remote.webelement.WebElement (session=\"ccacc82aa19c11f511ca9d0bdb21b900\", element=\"b70ed157-1323-4646-bb5a-08aa9ea1cc2d\")>,\n",
       " <selenium.webdriver.remote.webelement.WebElement (session=\"ccacc82aa19c11f511ca9d0bdb21b900\", element=\"a2d2b72e-69a9-401c-bd35-6776f598081a\")>,\n",
       " <selenium.webdriver.remote.webelement.WebElement (session=\"ccacc82aa19c11f511ca9d0bdb21b900\", element=\"bd4a89ef-35ab-4b57-99e4-c0f2259774ee\")>,\n",
       " <selenium.webdriver.remote.webelement.WebElement (session=\"ccacc82aa19c11f511ca9d0bdb21b900\", element=\"48c17fd0-d3e4-473d-9358-b2f83e304161\")>,\n",
       " <selenium.webdriver.remote.webelement.WebElement (session=\"ccacc82aa19c11f511ca9d0bdb21b900\", element=\"f2d8e044-aca5-4275-8dd3-a66c961623b5\")>,\n",
       " <selenium.webdriver.remote.webelement.WebElement (session=\"ccacc82aa19c11f511ca9d0bdb21b900\", element=\"d3d75114-d715-4330-a015-68ddee8e06bc\")>,\n",
       " <selenium.webdriver.remote.webelement.WebElement (session=\"ccacc82aa19c11f511ca9d0bdb21b900\", element=\"ad245d4a-a593-4493-b327-6b605e40be65\")>,\n",
       " <selenium.webdriver.remote.webelement.WebElement (session=\"ccacc82aa19c11f511ca9d0bdb21b900\", element=\"e93bf0c0-8e4e-458a-9503-d958d60b3e84\")>,\n",
       " <selenium.webdriver.remote.webelement.WebElement (session=\"ccacc82aa19c11f511ca9d0bdb21b900\", element=\"27f8e928-0d44-4215-bb4c-36eb18c9190e\")>,\n",
       " <selenium.webdriver.remote.webelement.WebElement (session=\"ccacc82aa19c11f511ca9d0bdb21b900\", element=\"dc089322-10a7-4d92-8dfc-ee38e13f8e87\")>,\n",
       " <selenium.webdriver.remote.webelement.WebElement (session=\"ccacc82aa19c11f511ca9d0bdb21b900\", element=\"2a3fff54-0b20-4da7-8975-d9c221d0742e\")>,\n",
       " <selenium.webdriver.remote.webelement.WebElement (session=\"ccacc82aa19c11f511ca9d0bdb21b900\", element=\"8699afdb-0e0b-4a40-9e65-7b2372dbf01d\")>,\n",
       " <selenium.webdriver.remote.webelement.WebElement (session=\"ccacc82aa19c11f511ca9d0bdb21b900\", element=\"94bd8508-12b3-46c1-8329-8a6817653db4\")>,\n",
       " <selenium.webdriver.remote.webelement.WebElement (session=\"ccacc82aa19c11f511ca9d0bdb21b900\", element=\"af7b8124-e001-4ea4-b35e-476485f6b1df\")>,\n",
       " <selenium.webdriver.remote.webelement.WebElement (session=\"ccacc82aa19c11f511ca9d0bdb21b900\", element=\"54cc7536-2cf4-4cc0-867d-d8cfb4c6db3d\")>,\n",
       " <selenium.webdriver.remote.webelement.WebElement (session=\"ccacc82aa19c11f511ca9d0bdb21b900\", element=\"37f6d12d-728d-4317-8617-6370857bcb3c\")>,\n",
       " <selenium.webdriver.remote.webelement.WebElement (session=\"ccacc82aa19c11f511ca9d0bdb21b900\", element=\"c91c02b8-3111-46e4-b1ee-79f4ed01d1f7\")>,\n",
       " <selenium.webdriver.remote.webelement.WebElement (session=\"ccacc82aa19c11f511ca9d0bdb21b900\", element=\"e9fd11fb-433b-421a-9877-d8e88f009826\")>,\n",
       " <selenium.webdriver.remote.webelement.WebElement (session=\"ccacc82aa19c11f511ca9d0bdb21b900\", element=\"8aa513a0-662c-4162-893a-b848a2657a14\")>,\n",
       " <selenium.webdriver.remote.webelement.WebElement (session=\"ccacc82aa19c11f511ca9d0bdb21b900\", element=\"0d34981a-3be6-4d69-b3db-7d8f590417ce\")>]"
      ]
     },
     "execution_count": 27,
     "metadata": {},
     "output_type": "execute_result"
    }
   ],
   "source": [
    "lap_title=driver.find_elements_by_xpath('//a[@class=\"a-link-normal s-underline-text s-underline-link-text s-link-style a-text-normal\"]')\n",
    "lap_title"
   ]
  },
  {
   "cell_type": "code",
   "execution_count": 28,
   "id": "82cc2646",
   "metadata": {},
   "outputs": [
    {
     "data": {
      "text/plain": [
       "[<selenium.webdriver.remote.webelement.WebElement (session=\"ccacc82aa19c11f511ca9d0bdb21b900\", element=\"91308f96-4bbc-4566-aa05-39b62c413e89\")>,\n",
       " <selenium.webdriver.remote.webelement.WebElement (session=\"ccacc82aa19c11f511ca9d0bdb21b900\", element=\"84af7e23-74ac-468a-8261-9a4173f6e869\")>,\n",
       " <selenium.webdriver.remote.webelement.WebElement (session=\"ccacc82aa19c11f511ca9d0bdb21b900\", element=\"7ddb4085-bf7f-47be-893b-24a70a2a52d8\")>,\n",
       " <selenium.webdriver.remote.webelement.WebElement (session=\"ccacc82aa19c11f511ca9d0bdb21b900\", element=\"18c30e3a-a42f-493c-ab08-b4d72b621e28\")>,\n",
       " <selenium.webdriver.remote.webelement.WebElement (session=\"ccacc82aa19c11f511ca9d0bdb21b900\", element=\"d8d7e210-c86b-4f74-bb7c-7c705cd34f68\")>,\n",
       " <selenium.webdriver.remote.webelement.WebElement (session=\"ccacc82aa19c11f511ca9d0bdb21b900\", element=\"bc2b9ff7-cecd-4052-b43d-29c84dc6e1b1\")>,\n",
       " <selenium.webdriver.remote.webelement.WebElement (session=\"ccacc82aa19c11f511ca9d0bdb21b900\", element=\"fd258c90-f801-4ea1-b684-c6fabbbd7fb1\")>,\n",
       " <selenium.webdriver.remote.webelement.WebElement (session=\"ccacc82aa19c11f511ca9d0bdb21b900\", element=\"8fc5bde1-54ea-48ac-ba3a-2e0f84831251\")>,\n",
       " <selenium.webdriver.remote.webelement.WebElement (session=\"ccacc82aa19c11f511ca9d0bdb21b900\", element=\"c9dff3c8-5155-47be-9ac2-b0c582aac5c8\")>,\n",
       " <selenium.webdriver.remote.webelement.WebElement (session=\"ccacc82aa19c11f511ca9d0bdb21b900\", element=\"c59da6b9-6de7-481f-be5a-62a10a060fcf\")>,\n",
       " <selenium.webdriver.remote.webelement.WebElement (session=\"ccacc82aa19c11f511ca9d0bdb21b900\", element=\"01b59d66-e191-4d6c-a0eb-a4e27b0161c0\")>,\n",
       " <selenium.webdriver.remote.webelement.WebElement (session=\"ccacc82aa19c11f511ca9d0bdb21b900\", element=\"ef14c5aa-f12a-46b9-b157-072e50a60911\")>,\n",
       " <selenium.webdriver.remote.webelement.WebElement (session=\"ccacc82aa19c11f511ca9d0bdb21b900\", element=\"51e51f11-66e0-4c4f-9b7d-46ed7763d150\")>,\n",
       " <selenium.webdriver.remote.webelement.WebElement (session=\"ccacc82aa19c11f511ca9d0bdb21b900\", element=\"6ba23a43-5fba-4254-b25c-20fb6ddc25e3\")>,\n",
       " <selenium.webdriver.remote.webelement.WebElement (session=\"ccacc82aa19c11f511ca9d0bdb21b900\", element=\"1b050cb9-8bc2-43b1-921e-180c66e181d9\")>,\n",
       " <selenium.webdriver.remote.webelement.WebElement (session=\"ccacc82aa19c11f511ca9d0bdb21b900\", element=\"7b79bb85-a929-4955-a2c7-c87ed8211c6e\")>,\n",
       " <selenium.webdriver.remote.webelement.WebElement (session=\"ccacc82aa19c11f511ca9d0bdb21b900\", element=\"d0deda76-d45b-4545-8de1-8b6d30fee371\")>,\n",
       " <selenium.webdriver.remote.webelement.WebElement (session=\"ccacc82aa19c11f511ca9d0bdb21b900\", element=\"4c1a28ad-885c-4564-8248-ef10def205f1\")>]"
      ]
     },
     "execution_count": 28,
     "metadata": {},
     "output_type": "execute_result"
    }
   ],
   "source": [
    "lap_price=driver.find_elements_by_xpath('//span[@class=\"a-price-whole\"]')\n",
    "lap_price"
   ]
  },
  {
   "cell_type": "code",
   "execution_count": 29,
   "id": "04c7e1cc",
   "metadata": {},
   "outputs": [
    {
     "data": {
      "text/plain": [
       "21"
      ]
     },
     "execution_count": 29,
     "metadata": {},
     "output_type": "execute_result"
    }
   ],
   "source": [
    "Ratings1=driver.find_elements_by_xpath('//a[@class=\"a-popover-trigger a-declarative\"]')\n",
    "len(Ratings1)"
   ]
  },
  {
   "cell_type": "code",
   "execution_count": 30,
   "id": "ceb57e23",
   "metadata": {},
   "outputs": [
    {
     "data": {
      "text/plain": [
       "[<selenium.webdriver.remote.webelement.WebElement (session=\"ccacc82aa19c11f511ca9d0bdb21b900\", element=\"34cb9257-3416-48d5-b8c4-7718b3578436\")>,\n",
       " <selenium.webdriver.remote.webelement.WebElement (session=\"ccacc82aa19c11f511ca9d0bdb21b900\", element=\"66d14f44-c534-4e7b-8da4-d1876bfbb3bc\")>,\n",
       " <selenium.webdriver.remote.webelement.WebElement (session=\"ccacc82aa19c11f511ca9d0bdb21b900\", element=\"b04647ce-8d33-4353-a7a6-c49b94b5233c\")>,\n",
       " <selenium.webdriver.remote.webelement.WebElement (session=\"ccacc82aa19c11f511ca9d0bdb21b900\", element=\"0d38defa-1688-4adc-af36-5964788782cb\")>,\n",
       " <selenium.webdriver.remote.webelement.WebElement (session=\"ccacc82aa19c11f511ca9d0bdb21b900\", element=\"29d05f73-eaaf-4a3c-ac49-0e69a9184e48\")>,\n",
       " <selenium.webdriver.remote.webelement.WebElement (session=\"ccacc82aa19c11f511ca9d0bdb21b900\", element=\"485eac07-6149-4419-95de-051057613eef\")>,\n",
       " <selenium.webdriver.remote.webelement.WebElement (session=\"ccacc82aa19c11f511ca9d0bdb21b900\", element=\"a3157126-8042-4f29-bc8f-a7dce4f52c3b\")>,\n",
       " <selenium.webdriver.remote.webelement.WebElement (session=\"ccacc82aa19c11f511ca9d0bdb21b900\", element=\"aa1ee35a-e374-4880-b92c-4d0de9eb7fce\")>,\n",
       " <selenium.webdriver.remote.webelement.WebElement (session=\"ccacc82aa19c11f511ca9d0bdb21b900\", element=\"94cf35f5-2747-499a-939b-5f7c1729d46a\")>,\n",
       " <selenium.webdriver.remote.webelement.WebElement (session=\"ccacc82aa19c11f511ca9d0bdb21b900\", element=\"7a913a82-8b57-41e1-90e4-93638c9f5f0f\")>,\n",
       " <selenium.webdriver.remote.webelement.WebElement (session=\"ccacc82aa19c11f511ca9d0bdb21b900\", element=\"834aa1d9-2652-44bf-923c-a3a0bdb031e9\")>,\n",
       " <selenium.webdriver.remote.webelement.WebElement (session=\"ccacc82aa19c11f511ca9d0bdb21b900\", element=\"5cd5fa92-747a-40b9-8d76-089d58388ad8\")>,\n",
       " <selenium.webdriver.remote.webelement.WebElement (session=\"ccacc82aa19c11f511ca9d0bdb21b900\", element=\"bfea3766-b624-4bda-8b3e-e5d2deea4885\")>,\n",
       " <selenium.webdriver.remote.webelement.WebElement (session=\"ccacc82aa19c11f511ca9d0bdb21b900\", element=\"13890fcf-5cb3-4844-b0e4-fa7c47d1f6f1\")>,\n",
       " <selenium.webdriver.remote.webelement.WebElement (session=\"ccacc82aa19c11f511ca9d0bdb21b900\", element=\"36813ce7-b445-4644-9640-6c2cba0894df\")>,\n",
       " <selenium.webdriver.remote.webelement.WebElement (session=\"ccacc82aa19c11f511ca9d0bdb21b900\", element=\"87eaf1a5-662e-442c-8770-af38647bfff3\")>,\n",
       " <selenium.webdriver.remote.webelement.WebElement (session=\"ccacc82aa19c11f511ca9d0bdb21b900\", element=\"975e6441-041d-4a78-a7a5-694a357984c1\")>,\n",
       " <selenium.webdriver.remote.webelement.WebElement (session=\"ccacc82aa19c11f511ca9d0bdb21b900\", element=\"41ded95d-2b99-4824-b947-c1cc65791e9f\")>,\n",
       " <selenium.webdriver.remote.webelement.WebElement (session=\"ccacc82aa19c11f511ca9d0bdb21b900\", element=\"74ce9ad0-99d4-4885-9492-b7c3664794e0\")>,\n",
       " <selenium.webdriver.remote.webelement.WebElement (session=\"ccacc82aa19c11f511ca9d0bdb21b900\", element=\"cd3f2b13-e39c-4b53-b16a-2c58f1d9b7b2\")>,\n",
       " <selenium.webdriver.remote.webelement.WebElement (session=\"ccacc82aa19c11f511ca9d0bdb21b900\", element=\"b7f544f1-0b0b-4c8f-915d-e2909ecaec2d\")>]"
      ]
     },
     "execution_count": 30,
     "metadata": {},
     "output_type": "execute_result"
    }
   ],
   "source": [
    "Ratings1"
   ]
  },
  {
   "cell_type": "code",
   "execution_count": null,
   "id": "c9c1d876",
   "metadata": {},
   "outputs": [],
   "source": []
  },
  {
   "cell_type": "code",
   "execution_count": 31,
   "id": "1fc2364a",
   "metadata": {},
   "outputs": [
    {
     "data": {
      "text/plain": [
       "['Dell New 15 PQC-N5030, 4GB, 256GB SSD, Win 11 + MS Office\\'21, Integrated Graphics, 15.6\" (39.62 cms) HD Display, Carbon Black (Inspiron 3510, D560717WIN9B)',\n",
       " 'Acer Extensa 15 Thin & Light Intel Processor Pentium Silver N5030 15.6 inches Business Laptop (4GB RAM/1TB HDD/Windows 10 Home/Integrated Graphic Card/Black/1.9 Kg, EX215-31)',\n",
       " 'Dell New 15 PQC-N5030, 4GB, 256GB SSD, Win 11 + MS Office\\'21, Integrated Graphics, 15.6\" (39.62 cms) HD Display, Carbon Black (Inspiron 3510, D560717WIN9B)',\n",
       " 'Dell Inspiron 3502 15.6 inches HD Display Laptop (Intel Pentium Silver N5030 / 4GB / 256GB SSD / Integrated Graphics / Windows 10 + MSO / Accent Black) D560427WIN9BE, 1.7kg',\n",
       " 'Acer Extensa 15 Thin & Light Intel Processor Pentium Silver N5030 15.6 inches Business Laptop (4GB RAM/1TB HDD/Windows 10 Home/Integrated Graphic Card/Black/1.9 Kg, EX215-31)',\n",
       " 'ASUS Pentium Silver - (8 GB/256 GB SSD/Windows 10 Home) E410MA-EK103TS Thin and Light Laptop (14 inch, Star Black, 1.30 kg, with MS Office)',\n",
       " 'ASUS Pentium Quad Core - (4 GB/1 TB HDD/Windows 10 Home) X543MA-DM101T Laptop (15.6 inch, Transparent Silver, 1.90 kg)',\n",
       " 'Microsoft Surface GO 3 8VA-00013 10.5\" (26.67 cms) Laptop (Intel Pentium T6600 Processor/8GB/128GB SSD/Windows 11 Home), Platinum',\n",
       " 'Dell Inspiron 3501 15.6 inches FHD Display Laptop (Intel i5-1135G7 / 4GB / 1TB HDD + 256GB SSD / Integrated Graphics / Windows 10 + MSO / Soft Mint Color) D560437WIN9SE, 1.83kg',\n",
       " 'ASUS Computer Notebook 14(2020) Intel Quad Core Pentium Silver N5030, 14-inch(35.56 cms) FHD Thin,Light Laptop (4GB RAM/1TB HDD/Windows 10/Integrated Graphics/Transparent Silver/1.5 Kg), X415MA-EK101T']"
      ]
     },
     "execution_count": 31,
     "metadata": {},
     "output_type": "execute_result"
    }
   ],
   "source": [
    "top10=[]\n",
    "for i in lap_title:\n",
    "    top10.append(i.text)\n",
    "    top10=top10[0:10]    \n",
    "top10"
   ]
  },
  {
   "cell_type": "code",
   "execution_count": 32,
   "id": "7e8b1653",
   "metadata": {},
   "outputs": [
    {
     "data": {
      "text/plain": [
       "['33,799',\n",
       " '29,990',\n",
       " '33,799',\n",
       " '29,990',\n",
       " '31,990',\n",
       " '28,990',\n",
       " '50,990',\n",
       " '57,125',\n",
       " '28,990',\n",
       " '31,990']"
      ]
     },
     "execution_count": 32,
     "metadata": {},
     "output_type": "execute_result"
    }
   ],
   "source": [
    "top_price=[]\n",
    "for i in lap_price:\n",
    "    top_price.append(i.text)\n",
    "    top_price=top_price[0:10]    \n",
    "top_price"
   ]
  },
  {
   "cell_type": "code",
   "execution_count": 33,
   "id": "116c2463",
   "metadata": {},
   "outputs": [
    {
     "data": {
      "text/plain": [
       "['', '', '', '', '', '', '', '', '', '']"
      ]
     },
     "execution_count": 33,
     "metadata": {},
     "output_type": "execute_result"
    }
   ],
   "source": [
    "top_rat=[]\n",
    "for i in Ratings1:\n",
    "    top_rat.append(i.text)\n",
    "    top_rat=top_rat[0:10]    \n",
    "top_rat"
   ]
  },
  {
   "cell_type": "code",
   "execution_count": 34,
   "id": "5b610c24",
   "metadata": {},
   "outputs": [
    {
     "data": {
      "text/html": [
       "<div>\n",
       "<style scoped>\n",
       "    .dataframe tbody tr th:only-of-type {\n",
       "        vertical-align: middle;\n",
       "    }\n",
       "\n",
       "    .dataframe tbody tr th {\n",
       "        vertical-align: top;\n",
       "    }\n",
       "\n",
       "    .dataframe thead th {\n",
       "        text-align: right;\n",
       "    }\n",
       "</style>\n",
       "<table border=\"1\" class=\"dataframe\">\n",
       "  <thead>\n",
       "    <tr style=\"text-align: right;\">\n",
       "      <th></th>\n",
       "      <th>Title</th>\n",
       "      <th>Price</th>\n",
       "      <th>Ratings</th>\n",
       "    </tr>\n",
       "  </thead>\n",
       "  <tbody>\n",
       "    <tr>\n",
       "      <th>0</th>\n",
       "      <td>Dell New 15 PQC-N5030, 4GB, 256GB SSD, Win 11 ...</td>\n",
       "      <td>33,799</td>\n",
       "      <td></td>\n",
       "    </tr>\n",
       "    <tr>\n",
       "      <th>1</th>\n",
       "      <td>Acer Extensa 15 Thin &amp; Light Intel Processor P...</td>\n",
       "      <td>29,990</td>\n",
       "      <td></td>\n",
       "    </tr>\n",
       "    <tr>\n",
       "      <th>2</th>\n",
       "      <td>Dell New 15 PQC-N5030, 4GB, 256GB SSD, Win 11 ...</td>\n",
       "      <td>33,799</td>\n",
       "      <td></td>\n",
       "    </tr>\n",
       "    <tr>\n",
       "      <th>3</th>\n",
       "      <td>Dell Inspiron 3502 15.6 inches HD Display Lapt...</td>\n",
       "      <td>29,990</td>\n",
       "      <td></td>\n",
       "    </tr>\n",
       "    <tr>\n",
       "      <th>4</th>\n",
       "      <td>Acer Extensa 15 Thin &amp; Light Intel Processor P...</td>\n",
       "      <td>31,990</td>\n",
       "      <td></td>\n",
       "    </tr>\n",
       "    <tr>\n",
       "      <th>5</th>\n",
       "      <td>ASUS Pentium Silver - (8 GB/256 GB SSD/Windows...</td>\n",
       "      <td>28,990</td>\n",
       "      <td></td>\n",
       "    </tr>\n",
       "    <tr>\n",
       "      <th>6</th>\n",
       "      <td>ASUS Pentium Quad Core - (4 GB/1 TB HDD/Window...</td>\n",
       "      <td>50,990</td>\n",
       "      <td></td>\n",
       "    </tr>\n",
       "    <tr>\n",
       "      <th>7</th>\n",
       "      <td>Microsoft Surface GO 3 8VA-00013 10.5\" (26.67 ...</td>\n",
       "      <td>57,125</td>\n",
       "      <td></td>\n",
       "    </tr>\n",
       "    <tr>\n",
       "      <th>8</th>\n",
       "      <td>Dell Inspiron 3501 15.6 inches FHD Display Lap...</td>\n",
       "      <td>28,990</td>\n",
       "      <td></td>\n",
       "    </tr>\n",
       "    <tr>\n",
       "      <th>9</th>\n",
       "      <td>ASUS Computer Notebook 14(2020) Intel Quad Cor...</td>\n",
       "      <td>31,990</td>\n",
       "      <td></td>\n",
       "    </tr>\n",
       "  </tbody>\n",
       "</table>\n",
       "</div>"
      ],
      "text/plain": [
       "                                               Title   Price Ratings\n",
       "0  Dell New 15 PQC-N5030, 4GB, 256GB SSD, Win 11 ...  33,799        \n",
       "1  Acer Extensa 15 Thin & Light Intel Processor P...  29,990        \n",
       "2  Dell New 15 PQC-N5030, 4GB, 256GB SSD, Win 11 ...  33,799        \n",
       "3  Dell Inspiron 3502 15.6 inches HD Display Lapt...  29,990        \n",
       "4  Acer Extensa 15 Thin & Light Intel Processor P...  31,990        \n",
       "5  ASUS Pentium Silver - (8 GB/256 GB SSD/Windows...  28,990        \n",
       "6  ASUS Pentium Quad Core - (4 GB/1 TB HDD/Window...  50,990        \n",
       "7  Microsoft Surface GO 3 8VA-00013 10.5\" (26.67 ...  57,125        \n",
       "8  Dell Inspiron 3501 15.6 inches FHD Display Lap...  28,990        \n",
       "9  ASUS Computer Notebook 14(2020) Intel Quad Cor...  31,990        "
      ]
     },
     "execution_count": 34,
     "metadata": {},
     "output_type": "execute_result"
    }
   ],
   "source": [
    "df20 = pd.DataFrame({})\n",
    "df20['Title'] = top10 \n",
    "df20['Price'] = top_price\n",
    "df20['Ratings'] = top_rat\n",
    "df20"
   ]
  },
  {
   "cell_type": "code",
   "execution_count": null,
   "id": "77764f24",
   "metadata": {},
   "outputs": [],
   "source": []
  },
  {
   "cell_type": "markdown",
   "id": "25f968cb",
   "metadata": {},
   "source": [
    "# Q9: Write a python program to scrape data for first 10 job results for Data Scientist Designation in Noida\n",
    "location. You have to scrape company name, No. of days ago when job was posted, Rating of the company. This task will be done in following steps:"
   ]
  },
  {
   "cell_type": "code",
   "execution_count": 1,
   "id": "07f49190",
   "metadata": {},
   "outputs": [],
   "source": [
    "import selenium \n",
    "from selenium import webdriver\n",
    "import pandas as pd\n",
    "import warnings \n",
    "warnings.filterwarnings('ignore')"
   ]
  },
  {
   "cell_type": "code",
   "execution_count": 2,
   "id": "3f60976e",
   "metadata": {},
   "outputs": [],
   "source": [
    "driver=webdriver.Chrome('chromedriver.exe')"
   ]
  },
  {
   "cell_type": "code",
   "execution_count": 3,
   "id": "58a767ab",
   "metadata": {},
   "outputs": [],
   "source": [
    "url='https://www.ambitionbox.com/'\n",
    "driver.get(url)"
   ]
  },
  {
   "cell_type": "code",
   "execution_count": 4,
   "id": "8e2f5974",
   "metadata": {},
   "outputs": [],
   "source": [
    "job_icon=driver.find_element_by_xpath(\"/html/body/div[1]/nav/nav/a[6]\")\n",
    "job_icon.click()"
   ]
  },
  {
   "cell_type": "code",
   "execution_count": 5,
   "id": "9f532df3",
   "metadata": {},
   "outputs": [
    {
     "data": {
      "text/plain": [
       "<selenium.webdriver.remote.webelement.WebElement (session=\"8c29135c816d07a6bbd9070df8fefd12\", element=\"1c23d282-e5b4-44bd-a5e7-23775413ea7c\")>"
      ]
     },
     "execution_count": 5,
     "metadata": {},
     "output_type": "execute_result"
    }
   ],
   "source": [
    "job_srh=driver.find_element_by_xpath(\"/html/body/div[1]/div/div/div[2]/div[1]/div/div/div/div/span/input\")\n",
    "job_srh"
   ]
  },
  {
   "cell_type": "code",
   "execution_count": 6,
   "id": "8a6e84e3",
   "metadata": {},
   "outputs": [],
   "source": [
    "job_srh.send_keys('Data Scientist')"
   ]
  },
  {
   "cell_type": "code",
   "execution_count": 7,
   "id": "c5c94603",
   "metadata": {},
   "outputs": [],
   "source": [
    "srh_bt=driver.find_element_by_xpath(\"/html/body/div/div/div/div[2]/div[1]/div/div/div/button/span\")\n",
    "srh_bt.click()"
   ]
  },
  {
   "cell_type": "code",
   "execution_count": 8,
   "id": "3170e6ae",
   "metadata": {},
   "outputs": [],
   "source": [
    "loc_job=driver.find_element_by_xpath(\"/html/body/div/div/div/div[2]/div[2]/div[1]/div/div/div/div[2]/div[1]/p\")\n",
    "loc_job.click()"
   ]
  },
  {
   "cell_type": "code",
   "execution_count": 9,
   "id": "6dcd910d",
   "metadata": {},
   "outputs": [
    {
     "data": {
      "text/plain": [
       "<selenium.webdriver.remote.webelement.WebElement (session=\"8c29135c816d07a6bbd9070df8fefd12\", element=\"39f02ab2-956f-40b3-ad89-dec165bb9c50\")>"
      ]
     },
     "execution_count": 9,
     "metadata": {},
     "output_type": "execute_result"
    }
   ],
   "source": [
    "noida=driver.find_element_by_xpath(\"/html/body/div/div/div/div[2]/div[2]/div[1]/div/div/div/div[2]/div[2]/div/div[3]/div[1]/div[5]/div/label\")\n",
    "noida"
   ]
  },
  {
   "cell_type": "code",
   "execution_count": 10,
   "id": "f7453529",
   "metadata": {},
   "outputs": [
    {
     "data": {
      "text/plain": [
       "[<selenium.webdriver.remote.webelement.WebElement (session=\"8c29135c816d07a6bbd9070df8fefd12\", element=\"36bda7cd-902d-416d-a918-d0b49447530c\")>,\n",
       " <selenium.webdriver.remote.webelement.WebElement (session=\"8c29135c816d07a6bbd9070df8fefd12\", element=\"25699a56-d999-4d77-bd6d-d22806b3d86b\")>,\n",
       " <selenium.webdriver.remote.webelement.WebElement (session=\"8c29135c816d07a6bbd9070df8fefd12\", element=\"6a938fc1-9788-4e43-8f23-7ac2621cfc8b\")>,\n",
       " <selenium.webdriver.remote.webelement.WebElement (session=\"8c29135c816d07a6bbd9070df8fefd12\", element=\"b41ec1d7-3a33-4d9a-a3e5-830ea994b279\")>,\n",
       " <selenium.webdriver.remote.webelement.WebElement (session=\"8c29135c816d07a6bbd9070df8fefd12\", element=\"2f519a2f-9c2b-4c5a-86cd-d865f75ebc79\")>,\n",
       " <selenium.webdriver.remote.webelement.WebElement (session=\"8c29135c816d07a6bbd9070df8fefd12\", element=\"718595ea-8325-41fe-9b77-d5a6b642fa99\")>,\n",
       " <selenium.webdriver.remote.webelement.WebElement (session=\"8c29135c816d07a6bbd9070df8fefd12\", element=\"ccccae7d-b1ad-4c64-bfea-5fd77e32d2a9\")>,\n",
       " <selenium.webdriver.remote.webelement.WebElement (session=\"8c29135c816d07a6bbd9070df8fefd12\", element=\"13f8dbd4-8042-4221-9df1-45275679bdc3\")>,\n",
       " <selenium.webdriver.remote.webelement.WebElement (session=\"8c29135c816d07a6bbd9070df8fefd12\", element=\"170587d7-c4c1-477a-bf9b-7c740f3a106d\")>,\n",
       " <selenium.webdriver.remote.webelement.WebElement (session=\"8c29135c816d07a6bbd9070df8fefd12\", element=\"cff55775-58c9-42cb-b461-06a73b751220\")>]"
      ]
     },
     "execution_count": 10,
     "metadata": {},
     "output_type": "execute_result"
    }
   ],
   "source": [
    "company_name=driver.find_elements_by_xpath('//p[@class=\"company body-medium\"]')\n",
    "company_name"
   ]
  },
  {
   "cell_type": "code",
   "execution_count": 11,
   "id": "1f24dc28",
   "metadata": {},
   "outputs": [
    {
     "data": {
      "text/plain": [
       "10"
      ]
     },
     "execution_count": 11,
     "metadata": {},
     "output_type": "execute_result"
    }
   ],
   "source": [
    "len(company_name)"
   ]
  },
  {
   "cell_type": "code",
   "execution_count": 12,
   "id": "68ff1e74",
   "metadata": {},
   "outputs": [
    {
     "data": {
      "text/plain": [
       "['RELIANCE RETAIL LIMITED',\n",
       " 'Walmart Labs',\n",
       " 'Walmart Labs',\n",
       " 'Ericsson India Global Services Pvt. Ltd.',\n",
       " 'IBM India Pvt. Limited',\n",
       " 'GlaxoSmithKline Pharmaceuticals Limited',\n",
       " 'IBM India Pvt. Limited',\n",
       " 'IBM India Pvt. Limited',\n",
       " 'IBM India Pvt. Limited',\n",
       " 'AT and T Global Business Services India P. Ltd.']"
      ]
     },
     "execution_count": 12,
     "metadata": {},
     "output_type": "execute_result"
    }
   ],
   "source": [
    "comp_list=[]\n",
    "for i in company_name:\n",
    "    comp_list.append(i.text)\n",
    "    \n",
    "comp_list "
   ]
  },
  {
   "cell_type": "code",
   "execution_count": 13,
   "id": "ff195e07",
   "metadata": {},
   "outputs": [
    {
     "data": {
      "text/plain": [
       "[<selenium.webdriver.remote.webelement.WebElement (session=\"8c29135c816d07a6bbd9070df8fefd12\", element=\"d0c89bc8-6449-44f8-9323-6482ff467dcb\")>,\n",
       " <selenium.webdriver.remote.webelement.WebElement (session=\"8c29135c816d07a6bbd9070df8fefd12\", element=\"19d8f178-14c3-4276-b4b0-60f6478c2f24\")>,\n",
       " <selenium.webdriver.remote.webelement.WebElement (session=\"8c29135c816d07a6bbd9070df8fefd12\", element=\"b787aa38-a961-47c4-9694-7fc058ba524b\")>,\n",
       " <selenium.webdriver.remote.webelement.WebElement (session=\"8c29135c816d07a6bbd9070df8fefd12\", element=\"ded279e2-0081-4a87-b4d0-f6162d166bd5\")>,\n",
       " <selenium.webdriver.remote.webelement.WebElement (session=\"8c29135c816d07a6bbd9070df8fefd12\", element=\"6d7d3397-da30-407a-9914-6cb75df6bf72\")>,\n",
       " <selenium.webdriver.remote.webelement.WebElement (session=\"8c29135c816d07a6bbd9070df8fefd12\", element=\"94edf5ed-77b4-48ab-856f-89d0a6213201\")>,\n",
       " <selenium.webdriver.remote.webelement.WebElement (session=\"8c29135c816d07a6bbd9070df8fefd12\", element=\"bf3afd02-9186-47ac-9f6d-cdbecec5f563\")>,\n",
       " <selenium.webdriver.remote.webelement.WebElement (session=\"8c29135c816d07a6bbd9070df8fefd12\", element=\"4e838b71-8ae8-4f2e-bbce-c0172c3c48cd\")>,\n",
       " <selenium.webdriver.remote.webelement.WebElement (session=\"8c29135c816d07a6bbd9070df8fefd12\", element=\"92ee3579-47ce-4d27-b9d4-cf78cbdc306d\")>,\n",
       " <selenium.webdriver.remote.webelement.WebElement (session=\"8c29135c816d07a6bbd9070df8fefd12\", element=\"dd0485c4-8baf-4bc1-ad6e-3a1923cac9d0\")>,\n",
       " <selenium.webdriver.remote.webelement.WebElement (session=\"8c29135c816d07a6bbd9070df8fefd12\", element=\"7c7be127-3c76-4af0-abf3-39a434d62105\")>,\n",
       " <selenium.webdriver.remote.webelement.WebElement (session=\"8c29135c816d07a6bbd9070df8fefd12\", element=\"fe59aa95-885c-4aa2-94dd-cf13ac3d6c51\")>,\n",
       " <selenium.webdriver.remote.webelement.WebElement (session=\"8c29135c816d07a6bbd9070df8fefd12\", element=\"0e20b3e9-1d04-4ee6-8824-bf138d96e6b0\")>,\n",
       " <selenium.webdriver.remote.webelement.WebElement (session=\"8c29135c816d07a6bbd9070df8fefd12\", element=\"e6b70d58-8f77-4c73-8899-16e5a5a5f400\")>,\n",
       " <selenium.webdriver.remote.webelement.WebElement (session=\"8c29135c816d07a6bbd9070df8fefd12\", element=\"c5d2495a-e2d5-422d-8a33-01e0b7f177d1\")>,\n",
       " <selenium.webdriver.remote.webelement.WebElement (session=\"8c29135c816d07a6bbd9070df8fefd12\", element=\"853b12bc-a758-416d-bcb3-0cacda644e6a\")>,\n",
       " <selenium.webdriver.remote.webelement.WebElement (session=\"8c29135c816d07a6bbd9070df8fefd12\", element=\"f5e8e199-d57b-4275-8a7b-671ff482b61a\")>,\n",
       " <selenium.webdriver.remote.webelement.WebElement (session=\"8c29135c816d07a6bbd9070df8fefd12\", element=\"6f4eb16e-e0f6-4ddc-a724-dc136d565019\")>,\n",
       " <selenium.webdriver.remote.webelement.WebElement (session=\"8c29135c816d07a6bbd9070df8fefd12\", element=\"49ab6569-68cb-4774-978c-5d82ce207599\")>,\n",
       " <selenium.webdriver.remote.webelement.WebElement (session=\"8c29135c816d07a6bbd9070df8fefd12\", element=\"ed396291-606d-46eb-9f87-7b5c47421ee6\")>]"
      ]
     },
     "execution_count": 13,
     "metadata": {},
     "output_type": "execute_result"
    }
   ],
   "source": [
    "days=driver.find_elements_by_xpath('//span[@class=\"body-small-l\"]')\n",
    "days"
   ]
  },
  {
   "cell_type": "code",
   "execution_count": 14,
   "id": "f8e6f2d8",
   "metadata": {},
   "outputs": [
    {
     "data": {
      "text/plain": [
       "['13hr ago',\n",
       " 'via naukri.com',\n",
       " '20hr ago',\n",
       " 'via naukri.com',\n",
       " '20hr ago',\n",
       " 'via naukri.com',\n",
       " '5d ago',\n",
       " 'via naukri.com',\n",
       " '5d ago',\n",
       " 'via naukri.com']"
      ]
     },
     "execution_count": 14,
     "metadata": {},
     "output_type": "execute_result"
    }
   ],
   "source": [
    "days_list=[]\n",
    "for i in days:\n",
    "    days_list.append(i.text)\n",
    "    days_list=days_list[0:10]\n",
    "    \n",
    "days_list"
   ]
  },
  {
   "cell_type": "code",
   "execution_count": null,
   "id": "a3c16d75",
   "metadata": {},
   "outputs": [],
   "source": []
  },
  {
   "cell_type": "code",
   "execution_count": 15,
   "id": "ba8ebc80",
   "metadata": {},
   "outputs": [
    {
     "data": {
      "text/plain": [
       "[<selenium.webdriver.remote.webelement.WebElement (session=\"8c29135c816d07a6bbd9070df8fefd12\", element=\"75cdc74c-9815-46c0-ba0f-12435f132a63\")>,\n",
       " <selenium.webdriver.remote.webelement.WebElement (session=\"8c29135c816d07a6bbd9070df8fefd12\", element=\"4338974a-9eb1-4bb4-b100-f0b6818fe0f0\")>,\n",
       " <selenium.webdriver.remote.webelement.WebElement (session=\"8c29135c816d07a6bbd9070df8fefd12\", element=\"ff2a09ab-d6d9-40c2-bce6-7ab260b93e18\")>,\n",
       " <selenium.webdriver.remote.webelement.WebElement (session=\"8c29135c816d07a6bbd9070df8fefd12\", element=\"e658a9d6-b563-47f7-abc3-219993b00301\")>,\n",
       " <selenium.webdriver.remote.webelement.WebElement (session=\"8c29135c816d07a6bbd9070df8fefd12\", element=\"ed51d108-6933-4765-8655-850209dc2957\")>,\n",
       " <selenium.webdriver.remote.webelement.WebElement (session=\"8c29135c816d07a6bbd9070df8fefd12\", element=\"06006eb7-0334-4e91-ad89-4a196897633f\")>,\n",
       " <selenium.webdriver.remote.webelement.WebElement (session=\"8c29135c816d07a6bbd9070df8fefd12\", element=\"4fc097fb-54f2-4dbc-a628-44009486e4ae\")>,\n",
       " <selenium.webdriver.remote.webelement.WebElement (session=\"8c29135c816d07a6bbd9070df8fefd12\", element=\"ca3b5e01-72aa-4998-8616-047aab416d6b\")>,\n",
       " <selenium.webdriver.remote.webelement.WebElement (session=\"8c29135c816d07a6bbd9070df8fefd12\", element=\"78f7a6cb-a3db-484d-b125-6e64a375ac2d\")>,\n",
       " <selenium.webdriver.remote.webelement.WebElement (session=\"8c29135c816d07a6bbd9070df8fefd12\", element=\"137b054f-0117-4122-b579-2f56cf56fd50\")>]"
      ]
     },
     "execution_count": 15,
     "metadata": {},
     "output_type": "execute_result"
    }
   ],
   "source": [
    "ratings=driver.find_elements_by_xpath('//span[@class=\"body-small\"]')\n",
    "ratings"
   ]
  },
  {
   "cell_type": "code",
   "execution_count": 16,
   "id": "349416a0",
   "metadata": {},
   "outputs": [
    {
     "data": {
      "text/plain": [
       "['4.0', '4.1', '4.1', '4.2', '4.1', '4.3', '4.1', '4.1', '4.1', '4.3']"
      ]
     },
     "execution_count": 16,
     "metadata": {},
     "output_type": "execute_result"
    }
   ],
   "source": [
    "rat_list=[]\n",
    "for i in ratings:\n",
    "    rat_list.append(i.text)\n",
    "    \n",
    "    \n",
    "rat_list"
   ]
  },
  {
   "cell_type": "code",
   "execution_count": 17,
   "id": "d09b8699",
   "metadata": {},
   "outputs": [
    {
     "data": {
      "text/html": [
       "<div>\n",
       "<style scoped>\n",
       "    .dataframe tbody tr th:only-of-type {\n",
       "        vertical-align: middle;\n",
       "    }\n",
       "\n",
       "    .dataframe tbody tr th {\n",
       "        vertical-align: top;\n",
       "    }\n",
       "\n",
       "    .dataframe thead th {\n",
       "        text-align: right;\n",
       "    }\n",
       "</style>\n",
       "<table border=\"1\" class=\"dataframe\">\n",
       "  <thead>\n",
       "    <tr style=\"text-align: right;\">\n",
       "      <th></th>\n",
       "      <th>Comapny Name</th>\n",
       "      <th>Posted Days</th>\n",
       "      <th>Ratings</th>\n",
       "    </tr>\n",
       "  </thead>\n",
       "  <tbody>\n",
       "    <tr>\n",
       "      <th>0</th>\n",
       "      <td>RELIANCE RETAIL LIMITED</td>\n",
       "      <td>13hr ago</td>\n",
       "      <td>4.0</td>\n",
       "    </tr>\n",
       "    <tr>\n",
       "      <th>1</th>\n",
       "      <td>Walmart Labs</td>\n",
       "      <td>via naukri.com</td>\n",
       "      <td>4.1</td>\n",
       "    </tr>\n",
       "    <tr>\n",
       "      <th>2</th>\n",
       "      <td>Walmart Labs</td>\n",
       "      <td>20hr ago</td>\n",
       "      <td>4.1</td>\n",
       "    </tr>\n",
       "    <tr>\n",
       "      <th>3</th>\n",
       "      <td>Ericsson India Global Services Pvt. Ltd.</td>\n",
       "      <td>via naukri.com</td>\n",
       "      <td>4.2</td>\n",
       "    </tr>\n",
       "    <tr>\n",
       "      <th>4</th>\n",
       "      <td>IBM India Pvt. Limited</td>\n",
       "      <td>20hr ago</td>\n",
       "      <td>4.1</td>\n",
       "    </tr>\n",
       "    <tr>\n",
       "      <th>5</th>\n",
       "      <td>GlaxoSmithKline Pharmaceuticals Limited</td>\n",
       "      <td>via naukri.com</td>\n",
       "      <td>4.3</td>\n",
       "    </tr>\n",
       "    <tr>\n",
       "      <th>6</th>\n",
       "      <td>IBM India Pvt. Limited</td>\n",
       "      <td>5d ago</td>\n",
       "      <td>4.1</td>\n",
       "    </tr>\n",
       "    <tr>\n",
       "      <th>7</th>\n",
       "      <td>IBM India Pvt. Limited</td>\n",
       "      <td>via naukri.com</td>\n",
       "      <td>4.1</td>\n",
       "    </tr>\n",
       "    <tr>\n",
       "      <th>8</th>\n",
       "      <td>IBM India Pvt. Limited</td>\n",
       "      <td>5d ago</td>\n",
       "      <td>4.1</td>\n",
       "    </tr>\n",
       "    <tr>\n",
       "      <th>9</th>\n",
       "      <td>AT and T Global Business Services India P. Ltd.</td>\n",
       "      <td>via naukri.com</td>\n",
       "      <td>4.3</td>\n",
       "    </tr>\n",
       "  </tbody>\n",
       "</table>\n",
       "</div>"
      ],
      "text/plain": [
       "                                      Comapny Name     Posted Days Ratings\n",
       "0                          RELIANCE RETAIL LIMITED        13hr ago     4.0\n",
       "1                                     Walmart Labs  via naukri.com     4.1\n",
       "2                                     Walmart Labs        20hr ago     4.1\n",
       "3         Ericsson India Global Services Pvt. Ltd.  via naukri.com     4.2\n",
       "4                           IBM India Pvt. Limited        20hr ago     4.1\n",
       "5          GlaxoSmithKline Pharmaceuticals Limited  via naukri.com     4.3\n",
       "6                           IBM India Pvt. Limited          5d ago     4.1\n",
       "7                           IBM India Pvt. Limited  via naukri.com     4.1\n",
       "8                           IBM India Pvt. Limited          5d ago     4.1\n",
       "9  AT and T Global Business Services India P. Ltd.  via naukri.com     4.3"
      ]
     },
     "execution_count": 17,
     "metadata": {},
     "output_type": "execute_result"
    }
   ],
   "source": [
    "df48 = pd.DataFrame({})\n",
    "df48['Comapny Name'] = comp_list \n",
    "df48['Posted Days'] = days_list\n",
    "df48['Ratings'] = rat_list\n",
    "df48"
   ]
  },
  {
   "cell_type": "code",
   "execution_count": null,
   "id": "25743f5d",
   "metadata": {},
   "outputs": [],
   "source": []
  },
  {
   "cell_type": "markdown",
   "id": "cc2c96bb",
   "metadata": {},
   "source": [
    "# Q10: Write a python program to scrape the salary data for Data Scientist designation.\n",
    "You have to scrape Company name, Number of salaries, Average salary, Minsalary, Max Salary."
   ]
  },
  {
   "cell_type": "code",
   "execution_count": 54,
   "id": "d33b9e17",
   "metadata": {},
   "outputs": [],
   "source": [
    "import pandas as pd \n",
    "import numpy as np\n",
    "from selenium import webdriver\n",
    "import warnings\n",
    "warnings.filterwarnings('ignore')"
   ]
  },
  {
   "cell_type": "code",
   "execution_count": 70,
   "id": "dc02596e",
   "metadata": {},
   "outputs": [],
   "source": [
    "driver=webdriver.Chrome('chromedriver.exe')"
   ]
  },
  {
   "cell_type": "code",
   "execution_count": 71,
   "id": "f6fb1523",
   "metadata": {},
   "outputs": [],
   "source": [
    "url =\"https://www.ambitionbox.com/\"\n",
    "\n",
    "driver.get(url)\n",
    "\n",
    "driver.maximize_window()"
   ]
  },
  {
   "cell_type": "code",
   "execution_count": 72,
   "id": "19309e2d",
   "metadata": {},
   "outputs": [],
   "source": [
    "sal_icon=driver.find_element_by_xpath(\"/html/body/div[1]/nav/nav/a[4]\")\n",
    "sal_icon.click()"
   ]
  },
  {
   "cell_type": "code",
   "execution_count": 77,
   "id": "d601db0f",
   "metadata": {},
   "outputs": [
    {
     "data": {
      "text/plain": [
       "<selenium.webdriver.remote.webelement.WebElement (session=\"ed6ef712ab586c7ea2ef18858a4980d3\", element=\"bcfeb6ed-bb1e-4612-a477-ca3a679e42fe\")>"
      ]
     },
     "execution_count": 77,
     "metadata": {},
     "output_type": "execute_result"
    }
   ],
   "source": [
    "job_srh=driver.find_element_by_xpath(\"/html/body/div/div/div/main/section[1]/div[2]/div[1]/i[1]\")\n",
    "job_srh"
   ]
  },
  {
   "cell_type": "code",
   "execution_count": null,
   "id": "554bcd1c",
   "metadata": {},
   "outputs": [],
   "source": [
    "job_srh.send_keys('Data Scientist')"
   ]
  },
  {
   "cell_type": "code",
   "execution_count": 80,
   "id": "51726dde",
   "metadata": {},
   "outputs": [],
   "source": [
    "srh_bt=driver.find_element_by_xpath(\"/html/body/div/div/div/main/section[1]/div[2]/div[1]/i\")\n",
    "srh_bt.click()"
   ]
  },
  {
   "cell_type": "code",
   "execution_count": 81,
   "id": "b43695ae",
   "metadata": {},
   "outputs": [
    {
     "data": {
      "text/plain": [
       "[<selenium.webdriver.remote.webelement.WebElement (session=\"ed6ef712ab586c7ea2ef18858a4980d3\", element=\"4038ca58-6a9e-40af-a66e-278bd44d8897\")>,\n",
       " <selenium.webdriver.remote.webelement.WebElement (session=\"ed6ef712ab586c7ea2ef18858a4980d3\", element=\"2b61977c-acf0-4432-b8bb-67019ffccfc8\")>,\n",
       " <selenium.webdriver.remote.webelement.WebElement (session=\"ed6ef712ab586c7ea2ef18858a4980d3\", element=\"4306ba20-c529-43ad-84ac-e922b97fe716\")>,\n",
       " <selenium.webdriver.remote.webelement.WebElement (session=\"ed6ef712ab586c7ea2ef18858a4980d3\", element=\"99e8dc26-84aa-4139-a9bb-6abb9869201b\")>,\n",
       " <selenium.webdriver.remote.webelement.WebElement (session=\"ed6ef712ab586c7ea2ef18858a4980d3\", element=\"16bbdec5-5149-42d6-ae6b-30297eedeabd\")>,\n",
       " <selenium.webdriver.remote.webelement.WebElement (session=\"ed6ef712ab586c7ea2ef18858a4980d3\", element=\"3e2c5821-7603-403d-ae52-7d9ee6b3e106\")>,\n",
       " <selenium.webdriver.remote.webelement.WebElement (session=\"ed6ef712ab586c7ea2ef18858a4980d3\", element=\"120e0f58-05eb-4cad-a3d0-9aaac1add183\")>,\n",
       " <selenium.webdriver.remote.webelement.WebElement (session=\"ed6ef712ab586c7ea2ef18858a4980d3\", element=\"dde15196-7d02-4bea-9d59-0fb2f3edfd71\")>,\n",
       " <selenium.webdriver.remote.webelement.WebElement (session=\"ed6ef712ab586c7ea2ef18858a4980d3\", element=\"f5440601-d8e5-447b-af75-e3820d9dfd70\")>,\n",
       " <selenium.webdriver.remote.webelement.WebElement (session=\"ed6ef712ab586c7ea2ef18858a4980d3\", element=\"cf220505-501b-4acc-aee5-65ef17a93db9\")>]"
      ]
     },
     "execution_count": 81,
     "metadata": {},
     "output_type": "execute_result"
    }
   ],
   "source": [
    "Company=driver.find_elements_by_xpath('//div[@class=\"name\"]')\n",
    "Company"
   ]
  },
  {
   "cell_type": "code",
   "execution_count": 82,
   "id": "6ab543b7",
   "metadata": {},
   "outputs": [
    {
     "data": {
      "text/plain": [
       "10"
      ]
     },
     "execution_count": 82,
     "metadata": {},
     "output_type": "execute_result"
    }
   ],
   "source": [
    "len(Company)"
   ]
  },
  {
   "cell_type": "code",
   "execution_count": 88,
   "id": "bee07c93",
   "metadata": {},
   "outputs": [
    {
     "data": {
      "text/plain": [
       "['Tekion\\nbased on 10 salaries',\n",
       " 'Microsoft Corporation\\nbased on 227 salaries',\n",
       " 'Goldman Sachs\\nbased on 12 salaries',\n",
       " 'Flipkart\\nbased on 53 salaries',\n",
       " 'PayPal\\nbased on 22 salaries',\n",
       " 'Amazon\\nbased on 89 salaries',\n",
       " 'Servicenow Software Development India\\nbased on 41 salaries',\n",
       " 'Arcesium\\nbased on 48 salaries',\n",
       " 'Walmart\\nbased on 82 salaries',\n",
       " 'ServiceNow\\nbased on 18 salaries']"
      ]
     },
     "execution_count": 88,
     "metadata": {},
     "output_type": "execute_result"
    }
   ],
   "source": [
    "Comp=[]\n",
    "for i in Company:\n",
    "    Comp.append(i.text)\n",
    "    \n",
    "Comp    "
   ]
  },
  {
   "cell_type": "code",
   "execution_count": 83,
   "id": "a43313ce",
   "metadata": {},
   "outputs": [
    {
     "data": {
      "text/plain": [
       "10"
      ]
     },
     "execution_count": 83,
     "metadata": {},
     "output_type": "execute_result"
    }
   ],
   "source": [
    "Expirence=driver.find_elements_by_xpath('//div[@class=\"salaries sbold-list-header\"]')\n",
    "len(Expirence)"
   ]
  },
  {
   "cell_type": "code",
   "execution_count": 84,
   "id": "9345dcf6",
   "metadata": {},
   "outputs": [
    {
     "data": {
      "text/plain": [
       "[<selenium.webdriver.remote.webelement.WebElement (session=\"ed6ef712ab586c7ea2ef18858a4980d3\", element=\"a07603e9-c39e-43ee-8a94-3b8bc91a4fac\")>,\n",
       " <selenium.webdriver.remote.webelement.WebElement (session=\"ed6ef712ab586c7ea2ef18858a4980d3\", element=\"97e11096-b1cb-44cc-89b6-176714b1db05\")>,\n",
       " <selenium.webdriver.remote.webelement.WebElement (session=\"ed6ef712ab586c7ea2ef18858a4980d3\", element=\"72c8d4a7-8799-424e-9e96-89a94baec6d8\")>,\n",
       " <selenium.webdriver.remote.webelement.WebElement (session=\"ed6ef712ab586c7ea2ef18858a4980d3\", element=\"7c369c07-6151-4e16-805e-c036e7807aa1\")>,\n",
       " <selenium.webdriver.remote.webelement.WebElement (session=\"ed6ef712ab586c7ea2ef18858a4980d3\", element=\"e6a4542d-10a7-4771-8934-32081961df8f\")>,\n",
       " <selenium.webdriver.remote.webelement.WebElement (session=\"ed6ef712ab586c7ea2ef18858a4980d3\", element=\"cd983d6d-e2c6-454c-a597-a5ad7bb0f85e\")>,\n",
       " <selenium.webdriver.remote.webelement.WebElement (session=\"ed6ef712ab586c7ea2ef18858a4980d3\", element=\"6eb4537a-4f2c-4028-8cfd-64e80708539a\")>,\n",
       " <selenium.webdriver.remote.webelement.WebElement (session=\"ed6ef712ab586c7ea2ef18858a4980d3\", element=\"1df8f033-cc4c-4463-867e-54777d6c5668\")>,\n",
       " <selenium.webdriver.remote.webelement.WebElement (session=\"ed6ef712ab586c7ea2ef18858a4980d3\", element=\"f95c366e-efb4-4141-ab42-919a5fdd370a\")>,\n",
       " <selenium.webdriver.remote.webelement.WebElement (session=\"ed6ef712ab586c7ea2ef18858a4980d3\", element=\"f8488795-d621-4283-80b0-ee7f20f03efc\")>]"
      ]
     },
     "execution_count": 84,
     "metadata": {},
     "output_type": "execute_result"
    }
   ],
   "source": [
    "Expirence"
   ]
  },
  {
   "cell_type": "code",
   "execution_count": 85,
   "id": "5928a910",
   "metadata": {},
   "outputs": [],
   "source": [
    "Salary=driver.find_elements_by_xpath('//div[@class=\"result-col salary-range\"]')"
   ]
  },
  {
   "cell_type": "code",
   "execution_count": 86,
   "id": "b5837b96",
   "metadata": {},
   "outputs": [
    {
     "data": {
      "text/plain": [
       "['₹ 23.3L\\n₹ 14.0L\\n₹ 32.0L',\n",
       " '₹ 23.1L\\n₹ 13.0L\\n₹ 45.0L',\n",
       " '₹ 22.1L\\n₹ 16.0L\\n₹ 30.0L',\n",
       " '₹ 20.9L\\n₹ 7.5L\\n₹ 30.0L',\n",
       " '₹ 20.0L\\n₹ 12.0L\\n₹ 28.4L',\n",
       " '₹ 19.3L\\n₹ 8.0L\\n₹ 41.5L',\n",
       " '₹ 19.0L\\n₹ 12.0L\\n₹ 25.8L',\n",
       " '₹ 18.4L\\n₹ 12.0L\\n₹ 30.0L',\n",
       " '₹ 18.0L\\n₹ 10.0L\\n₹ 32.0L',\n",
       " '₹ 17.3L\\n₹ 11.0L\\n₹ 23.0L']"
      ]
     },
     "execution_count": 86,
     "metadata": {},
     "output_type": "execute_result"
    }
   ],
   "source": [
    "Sal=[]\n",
    "for i in Salary:\n",
    "    Sal.append(i.text)\n",
    "    \n",
    "Sal    "
   ]
  },
  {
   "cell_type": "code",
   "execution_count": 87,
   "id": "c3e8af5e",
   "metadata": {},
   "outputs": [
    {
     "data": {
      "text/plain": [
       "['Software Engineer\\n . \\n4 yrs exp',\n",
       " 'Software Engineer\\n . \\n1-4 yrs exp',\n",
       " 'Software Engineer\\n . \\n2 yrs exp',\n",
       " 'Software Engineer\\n . \\n1-4 yrs exp',\n",
       " 'Software Engineer\\n . \\n1-2 yrs exp',\n",
       " 'Software Engineer\\n . \\n1-4 yrs exp',\n",
       " 'Software Engineer\\n . \\n2-4 yrs exp',\n",
       " 'Software Engineer\\n . \\n1-2 yrs exp',\n",
       " 'Software Engineer\\n . \\n1-4 yrs exp',\n",
       " 'Software Engineer\\n . \\n3 yrs exp']"
      ]
     },
     "execution_count": 87,
     "metadata": {},
     "output_type": "execute_result"
    }
   ],
   "source": [
    "Exp=[]\n",
    "for i in Expirence:\n",
    "    Exp.append(i.text)\n",
    "    \n",
    "Exp    "
   ]
  },
  {
   "cell_type": "code",
   "execution_count": 89,
   "id": "a29238d5",
   "metadata": {},
   "outputs": [
    {
     "data": {
      "text/html": [
       "<div>\n",
       "<style scoped>\n",
       "    .dataframe tbody tr th:only-of-type {\n",
       "        vertical-align: middle;\n",
       "    }\n",
       "\n",
       "    .dataframe tbody tr th {\n",
       "        vertical-align: top;\n",
       "    }\n",
       "\n",
       "    .dataframe thead th {\n",
       "        text-align: right;\n",
       "    }\n",
       "</style>\n",
       "<table border=\"1\" class=\"dataframe\">\n",
       "  <thead>\n",
       "    <tr style=\"text-align: right;\">\n",
       "      <th></th>\n",
       "      <th>Comapny Name</th>\n",
       "      <th>Expirence</th>\n",
       "      <th>Average Salary</th>\n",
       "    </tr>\n",
       "  </thead>\n",
       "  <tbody>\n",
       "    <tr>\n",
       "      <th>0</th>\n",
       "      <td>Tekion\\nbased on 10 salaries</td>\n",
       "      <td>Software Engineer\\n . \\n4 yrs exp</td>\n",
       "      <td>₹ 23.3L\\n₹ 14.0L\\n₹ 32.0L</td>\n",
       "    </tr>\n",
       "    <tr>\n",
       "      <th>1</th>\n",
       "      <td>Microsoft Corporation\\nbased on 227 salaries</td>\n",
       "      <td>Software Engineer\\n . \\n1-4 yrs exp</td>\n",
       "      <td>₹ 23.1L\\n₹ 13.0L\\n₹ 45.0L</td>\n",
       "    </tr>\n",
       "    <tr>\n",
       "      <th>2</th>\n",
       "      <td>Goldman Sachs\\nbased on 12 salaries</td>\n",
       "      <td>Software Engineer\\n . \\n2 yrs exp</td>\n",
       "      <td>₹ 22.1L\\n₹ 16.0L\\n₹ 30.0L</td>\n",
       "    </tr>\n",
       "    <tr>\n",
       "      <th>3</th>\n",
       "      <td>Flipkart\\nbased on 53 salaries</td>\n",
       "      <td>Software Engineer\\n . \\n1-4 yrs exp</td>\n",
       "      <td>₹ 20.9L\\n₹ 7.5L\\n₹ 30.0L</td>\n",
       "    </tr>\n",
       "    <tr>\n",
       "      <th>4</th>\n",
       "      <td>PayPal\\nbased on 22 salaries</td>\n",
       "      <td>Software Engineer\\n . \\n1-2 yrs exp</td>\n",
       "      <td>₹ 20.0L\\n₹ 12.0L\\n₹ 28.4L</td>\n",
       "    </tr>\n",
       "    <tr>\n",
       "      <th>5</th>\n",
       "      <td>Amazon\\nbased on 89 salaries</td>\n",
       "      <td>Software Engineer\\n . \\n1-4 yrs exp</td>\n",
       "      <td>₹ 19.3L\\n₹ 8.0L\\n₹ 41.5L</td>\n",
       "    </tr>\n",
       "    <tr>\n",
       "      <th>6</th>\n",
       "      <td>Servicenow Software Development India\\nbased o...</td>\n",
       "      <td>Software Engineer\\n . \\n2-4 yrs exp</td>\n",
       "      <td>₹ 19.0L\\n₹ 12.0L\\n₹ 25.8L</td>\n",
       "    </tr>\n",
       "    <tr>\n",
       "      <th>7</th>\n",
       "      <td>Arcesium\\nbased on 48 salaries</td>\n",
       "      <td>Software Engineer\\n . \\n1-2 yrs exp</td>\n",
       "      <td>₹ 18.4L\\n₹ 12.0L\\n₹ 30.0L</td>\n",
       "    </tr>\n",
       "    <tr>\n",
       "      <th>8</th>\n",
       "      <td>Walmart\\nbased on 82 salaries</td>\n",
       "      <td>Software Engineer\\n . \\n1-4 yrs exp</td>\n",
       "      <td>₹ 18.0L\\n₹ 10.0L\\n₹ 32.0L</td>\n",
       "    </tr>\n",
       "    <tr>\n",
       "      <th>9</th>\n",
       "      <td>ServiceNow\\nbased on 18 salaries</td>\n",
       "      <td>Software Engineer\\n . \\n3 yrs exp</td>\n",
       "      <td>₹ 17.3L\\n₹ 11.0L\\n₹ 23.0L</td>\n",
       "    </tr>\n",
       "  </tbody>\n",
       "</table>\n",
       "</div>"
      ],
      "text/plain": [
       "                                        Comapny Name  \\\n",
       "0                       Tekion\\nbased on 10 salaries   \n",
       "1       Microsoft Corporation\\nbased on 227 salaries   \n",
       "2                Goldman Sachs\\nbased on 12 salaries   \n",
       "3                     Flipkart\\nbased on 53 salaries   \n",
       "4                       PayPal\\nbased on 22 salaries   \n",
       "5                       Amazon\\nbased on 89 salaries   \n",
       "6  Servicenow Software Development India\\nbased o...   \n",
       "7                     Arcesium\\nbased on 48 salaries   \n",
       "8                      Walmart\\nbased on 82 salaries   \n",
       "9                   ServiceNow\\nbased on 18 salaries   \n",
       "\n",
       "                             Expirence             Average Salary  \n",
       "0    Software Engineer\\n . \\n4 yrs exp  ₹ 23.3L\\n₹ 14.0L\\n₹ 32.0L  \n",
       "1  Software Engineer\\n . \\n1-4 yrs exp  ₹ 23.1L\\n₹ 13.0L\\n₹ 45.0L  \n",
       "2    Software Engineer\\n . \\n2 yrs exp  ₹ 22.1L\\n₹ 16.0L\\n₹ 30.0L  \n",
       "3  Software Engineer\\n . \\n1-4 yrs exp   ₹ 20.9L\\n₹ 7.5L\\n₹ 30.0L  \n",
       "4  Software Engineer\\n . \\n1-2 yrs exp  ₹ 20.0L\\n₹ 12.0L\\n₹ 28.4L  \n",
       "5  Software Engineer\\n . \\n1-4 yrs exp   ₹ 19.3L\\n₹ 8.0L\\n₹ 41.5L  \n",
       "6  Software Engineer\\n . \\n2-4 yrs exp  ₹ 19.0L\\n₹ 12.0L\\n₹ 25.8L  \n",
       "7  Software Engineer\\n . \\n1-2 yrs exp  ₹ 18.4L\\n₹ 12.0L\\n₹ 30.0L  \n",
       "8  Software Engineer\\n . \\n1-4 yrs exp  ₹ 18.0L\\n₹ 10.0L\\n₹ 32.0L  \n",
       "9    Software Engineer\\n . \\n3 yrs exp  ₹ 17.3L\\n₹ 11.0L\\n₹ 23.0L  "
      ]
     },
     "execution_count": 89,
     "metadata": {},
     "output_type": "execute_result"
    }
   ],
   "source": [
    "df21 = pd.DataFrame({})\n",
    "df21['Comapny Name'] = Comp \n",
    "df21['Expirence'] = Exp\n",
    "df21['Average Salary'] = Sal\n",
    "df21"
   ]
  },
  {
   "cell_type": "code",
   "execution_count": null,
   "id": "d08f1823",
   "metadata": {},
   "outputs": [],
   "source": []
  }
 ],
 "metadata": {
  "kernelspec": {
   "display_name": "Python 3 (ipykernel)",
   "language": "python",
   "name": "python3"
  },
  "language_info": {
   "codemirror_mode": {
    "name": "ipython",
    "version": 3
   },
   "file_extension": ".py",
   "mimetype": "text/x-python",
   "name": "python",
   "nbconvert_exporter": "python",
   "pygments_lexer": "ipython3",
   "version": "3.9.7"
  }
 },
 "nbformat": 4,
 "nbformat_minor": 5
}
